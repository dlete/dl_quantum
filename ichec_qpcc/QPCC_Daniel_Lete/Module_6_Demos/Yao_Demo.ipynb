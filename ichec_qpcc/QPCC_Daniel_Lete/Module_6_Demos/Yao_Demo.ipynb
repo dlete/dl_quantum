{
 "cells": [
  {
   "cell_type": "markdown",
   "id": "cee58cb5",
   "metadata": {},
   "source": [
    "# Yao Bell State\n",
    "\n",
    "- Import the necessary Yao packages"
   ]
  },
  {
   "cell_type": "code",
   "execution_count": 1,
   "id": "4ae925bf",
   "metadata": {},
   "outputs": [
    {
     "name": "stderr",
     "output_type": "stream",
     "text": [
      "\u001b[32m\u001b[1m  Activating\u001b[22m\u001b[39m new project at `/var/folders/82/9_h72ksj75n463kms2b_yf8c0000gq/T/jl_ALfFFa`\n",
      "\u001b[32m\u001b[1m    Updating\u001b[22m\u001b[39m registry at `~/.julia/registries/General.toml`\n",
      "\u001b[32m\u001b[1m    Updating\u001b[22m\u001b[39m registry at `~/.julia/registries/General.toml`\n",
      "\u001b[32m\u001b[1m   Resolving\u001b[22m\u001b[39m package versions...\n",
      "\u001b[32m\u001b[1m    Updating\u001b[22m\u001b[39m `/private/var/folders/82/9_h72ksj75n463kms2b_yf8c0000gq/T/jl_ALfFFa/Project.toml`\n",
      " \u001b[90m [5872b779] \u001b[39m\u001b[92m+ Yao v0.8.4\u001b[39m\n",
      "\u001b[32m\u001b[1m    Updating\u001b[22m\u001b[39m `/private/var/folders/82/9_h72ksj75n463kms2b_yf8c0000gq/T/jl_ALfFFa/Manifest.toml`\n",
      " \u001b[90m [79e6a3ab] \u001b[39m\u001b[92m+ Adapt v3.4.0\u001b[39m\n",
      " \u001b[90m [30b0a656] \u001b[39m\u001b[92m+ ArrayInterfaceCore v0.1.17\u001b[39m\n",
      " \u001b[90m [50ba71b6] \u001b[39m\u001b[92m+ BitBasis v0.8.1\u001b[39m\n",
      " \u001b[90m [a921213e] \u001b[39m\u001b[92m+ CacheServers v0.2.0\u001b[39m\n",
      " \u001b[90m [d360d2e6] \u001b[39m\u001b[92m+ ChainRulesCore v1.15.3\u001b[39m\n",
      " \u001b[90m [9e997f8a] \u001b[39m\u001b[92m+ ChangesOfVariables v0.1.4\u001b[39m\n",
      " \u001b[90m [34da2185] \u001b[39m\u001b[92m+ Compat v4.2.0\u001b[39m\n",
      " \u001b[90m [9a962f9c] \u001b[39m\u001b[92m+ DataAPI v1.10.0\u001b[39m\n",
      " \u001b[90m [864edb3b] \u001b[39m\u001b[92m+ DataStructures v0.18.13\u001b[39m\n",
      "\u001b[33m⌅\u001b[39m\u001b[90m [ffbed154] \u001b[39m\u001b[92m+ DocStringExtensions v0.8.6\u001b[39m\n",
      " \u001b[90m [d4d017d3] \u001b[39m\u001b[92m+ ExponentialUtilities v1.18.0\u001b[39m\n",
      " \u001b[90m [46192b85] \u001b[39m\u001b[92m+ GPUArraysCore v0.1.2\u001b[39m\n",
      " \u001b[90m [c145ed77] \u001b[39m\u001b[92m+ GenericSchur v0.5.3\u001b[39m\n",
      " \u001b[90m [3587e190] \u001b[39m\u001b[92m+ InverseFunctions v0.1.7\u001b[39m\n",
      " \u001b[90m [92d709cd] \u001b[39m\u001b[92m+ IrrationalConstants v0.1.1\u001b[39m\n",
      " \u001b[90m [f1f30506] \u001b[39m\u001b[92m+ LegibleLambdas v0.3.0\u001b[39m\n",
      " \u001b[90m [2ab3a3ac] \u001b[39m\u001b[92m+ LogExpFunctions v0.3.18\u001b[39m\n",
      " \u001b[90m [d05aeea4] \u001b[39m\u001b[92m+ LuxurySparse v0.7.0\u001b[39m\n",
      " \u001b[90m [d8e11817] \u001b[39m\u001b[92m+ MLStyle v0.4.13\u001b[39m\n",
      " \u001b[90m [1914dd2f] \u001b[39m\u001b[92m+ MacroTools v0.5.9\u001b[39m\n",
      " \u001b[90m [e1d29d7a] \u001b[39m\u001b[92m+ Missings v1.0.2\u001b[39m\n",
      " \u001b[90m [bac558e1] \u001b[39m\u001b[92m+ OrderedCollections v1.4.1\u001b[39m\n",
      " \u001b[90m [189a3867] \u001b[39m\u001b[92m+ Reexport v1.2.2\u001b[39m\n",
      " \u001b[90m [ae029012] \u001b[39m\u001b[92m+ Requires v1.3.0\u001b[39m\n",
      " \u001b[90m [a2af1166] \u001b[39m\u001b[92m+ SortingAlgorithms v1.0.1\u001b[39m\n",
      " \u001b[90m [90137ffa] \u001b[39m\u001b[92m+ StaticArrays v1.5.6\u001b[39m\n",
      " \u001b[90m [1e83bf80] \u001b[39m\u001b[92m+ StaticArraysCore v1.3.0\u001b[39m\n",
      " \u001b[90m [82ae8749] \u001b[39m\u001b[92m+ StatsAPI v1.5.0\u001b[39m\n",
      " \u001b[90m [2913bbd2] \u001b[39m\u001b[92m+ StatsBase v0.33.21\u001b[39m\n",
      " \u001b[90m [9d95972d] \u001b[39m\u001b[92m+ TupleTools v1.3.0\u001b[39m\n",
      " \u001b[90m [5872b779] \u001b[39m\u001b[92m+ Yao v0.8.4\u001b[39m\n",
      " \u001b[90m [0843a435] \u001b[39m\u001b[92m+ YaoAPI v0.4.2\u001b[39m\n",
      " \u001b[90m [e600142f] \u001b[39m\u001b[92m+ YaoArrayRegister v0.9.2\u001b[39m\n",
      " \u001b[90m [418bc28f] \u001b[39m\u001b[92m+ YaoBlocks v0.13.4\u001b[39m\n",
      " \u001b[90m [3b27209a] \u001b[39m\u001b[92m+ YaoSym v0.6.1\u001b[39m\n",
      " \u001b[90m [56f22d72] \u001b[39m\u001b[92m+ Artifacts\u001b[39m\n",
      " \u001b[90m [2a0f44e3] \u001b[39m\u001b[92m+ Base64\u001b[39m\n",
      " \u001b[90m [ade2ca70] \u001b[39m\u001b[92m+ Dates\u001b[39m\n",
      " \u001b[90m [8ba89e20] \u001b[39m\u001b[92m+ Distributed\u001b[39m\n",
      " \u001b[90m [b77e0a4c] \u001b[39m\u001b[92m+ InteractiveUtils\u001b[39m\n",
      " \u001b[90m [76f85450] \u001b[39m\u001b[92m+ LibGit2\u001b[39m\n",
      " \u001b[90m [8f399da3] \u001b[39m\u001b[92m+ Libdl\u001b[39m\n",
      " \u001b[90m [37e2e46d] \u001b[39m\u001b[92m+ LinearAlgebra\u001b[39m\n",
      " \u001b[90m [56ddb016] \u001b[39m\u001b[92m+ Logging\u001b[39m\n",
      " \u001b[90m [d6f4376e] \u001b[39m\u001b[92m+ Markdown\u001b[39m\n",
      " \u001b[90m [ca575930] \u001b[39m\u001b[92m+ NetworkOptions v1.2.0\u001b[39m\n",
      " \u001b[90m [de0858da] \u001b[39m\u001b[92m+ Printf\u001b[39m\n",
      " \u001b[90m [9a3f8284] \u001b[39m\u001b[92m+ Random\u001b[39m\n",
      " \u001b[90m [ea8e919c] \u001b[39m\u001b[92m+ SHA v0.7.0\u001b[39m\n",
      " \u001b[90m [9e88b42a] \u001b[39m\u001b[92m+ Serialization\u001b[39m\n",
      " \u001b[90m [6462fe0b] \u001b[39m\u001b[92m+ Sockets\u001b[39m\n",
      " \u001b[90m [2f01184e] \u001b[39m\u001b[92m+ SparseArrays\u001b[39m\n",
      " \u001b[90m [10745b16] \u001b[39m\u001b[92m+ Statistics\u001b[39m\n",
      " \u001b[90m [4607b0f0] \u001b[39m\u001b[92m+ SuiteSparse\u001b[39m\n",
      " \u001b[90m [8dfed614] \u001b[39m\u001b[92m+ Test\u001b[39m\n",
      " \u001b[90m [cf7118a7] \u001b[39m\u001b[92m+ UUIDs\u001b[39m\n",
      " \u001b[90m [4ec0a83e] \u001b[39m\u001b[92m+ Unicode\u001b[39m\n",
      " \u001b[90m [e66e0078] \u001b[39m\u001b[92m+ CompilerSupportLibraries_jll v0.5.2+0\u001b[39m\n",
      " \u001b[90m [4536629a] \u001b[39m\u001b[92m+ OpenBLAS_jll v0.3.20+0\u001b[39m\n",
      " \u001b[90m [8e850b90] \u001b[39m\u001b[92m+ libblastrampoline_jll v5.1.1+0\u001b[39m\n",
      "\u001b[36m\u001b[1m        Info\u001b[22m\u001b[39m Packages marked with \u001b[33m⌅\u001b[39m have new versions available but cannot be upgraded. To see why use `status --outdated -m`\n",
      "\u001b[32m\u001b[1m   Resolving\u001b[22m\u001b[39m package versions...\n",
      "\u001b[32m\u001b[1m    Updating\u001b[22m\u001b[39m `/private/var/folders/82/9_h72ksj75n463kms2b_yf8c0000gq/T/jl_ALfFFa/Project.toml`\n",
      " \u001b[90m [32cfe2d9] \u001b[39m\u001b[92m+ YaoPlots v0.8.0\u001b[39m\n",
      "\u001b[32m\u001b[1m    Updating\u001b[22m\u001b[39m `/private/var/folders/82/9_h72ksj75n463kms2b_yf8c0000gq/T/jl_ALfFFa/Manifest.toml`\n",
      " \u001b[90m [159f3aea] \u001b[39m\u001b[92m+ Cairo v1.0.5\u001b[39m\n",
      " \u001b[90m [3da002f7] \u001b[39m\u001b[92m+ ColorTypes v0.11.4\u001b[39m\n",
      " \u001b[90m [5ae59095] \u001b[39m\u001b[92m+ Colors v0.12.8\u001b[39m\n",
      " \u001b[90m [c87230d0] \u001b[39m\u001b[92m+ FFMPEG v0.4.1\u001b[39m\n",
      " \u001b[90m [5789e2e9] \u001b[39m\u001b[92m+ FileIO v1.15.0\u001b[39m\n",
      " \u001b[90m [53c48c17] \u001b[39m\u001b[92m+ FixedPointNumbers v0.8.4\u001b[39m\n",
      " \u001b[90m [a2bd30eb] \u001b[39m\u001b[92m+ Graphics v1.1.2\u001b[39m\n",
      " \u001b[90m [692b3bcd] \u001b[39m\u001b[92m+ JLLWrappers v1.4.1\u001b[39m\n",
      " \u001b[90m [e5e0dc1b] \u001b[39m\u001b[92m+ Juno v0.8.4\u001b[39m\n",
      " \u001b[90m [b964fa9f] \u001b[39m\u001b[92m+ LaTeXStrings v1.3.0\u001b[39m\n",
      " \u001b[90m [ae8d54c2] \u001b[39m\u001b[92m+ Luxor v3.5.0\u001b[39m\n",
      " \u001b[90m [e89f7d12] \u001b[39m\u001b[92m+ Media v0.5.0\u001b[39m\n",
      " \u001b[90m [77ba4419] \u001b[39m\u001b[92m+ NaNMath v1.0.1\u001b[39m\n",
      " \u001b[90m [21216c6a] \u001b[39m\u001b[92m+ Preferences v1.3.0\u001b[39m\n",
      " \u001b[90m [c4c386cf] \u001b[39m\u001b[92m+ Rsvg v1.0.0\u001b[39m\n",
      " \u001b[90m [32cfe2d9] \u001b[39m\u001b[92m+ YaoPlots v0.8.0\u001b[39m\n",
      " \u001b[90m [6e34b625] \u001b[39m\u001b[92m+ Bzip2_jll v1.0.8+0\u001b[39m\n",
      " \u001b[90m [83423d85] \u001b[39m\u001b[92m+ Cairo_jll v1.16.1+1\u001b[39m\n",
      " \u001b[90m [2e619515] \u001b[39m\u001b[92m+ Expat_jll v2.4.8+0\u001b[39m\n",
      " \u001b[90m [b22a6f82] \u001b[39m\u001b[92m+ FFMPEG_jll v4.4.2+0\u001b[39m\n",
      " \u001b[90m [a3f928ae] \u001b[39m\u001b[92m+ Fontconfig_jll v2.13.93+0\u001b[39m\n",
      " \u001b[90m [d7e528f0] \u001b[39m\u001b[92m+ FreeType2_jll v2.10.4+0\u001b[39m\n",
      " \u001b[90m [559328eb] \u001b[39m\u001b[92m+ FriBidi_jll v1.0.10+0\u001b[39m\n",
      " \u001b[90m [78b55507] \u001b[39m\u001b[92m+ Gettext_jll v0.21.0+0\u001b[39m\n",
      " \u001b[90m [7746bdde] \u001b[39m\u001b[92m+ Glib_jll v2.68.3+2\u001b[39m\n",
      " \u001b[90m [3b182d85] \u001b[39m\u001b[92m+ Graphite2_jll v1.3.14+0\u001b[39m\n",
      " \u001b[90m [2e76f6c2] \u001b[39m\u001b[92m+ HarfBuzz_jll v2.8.1+1\u001b[39m\n",
      " \u001b[90m [aacddb02] \u001b[39m\u001b[92m+ JpegTurbo_jll v2.1.2+0\u001b[39m\n",
      " \u001b[90m [c1c5ebd0] \u001b[39m\u001b[92m+ LAME_jll v3.100.1+0\u001b[39m\n",
      " \u001b[90m [88015f11] \u001b[39m\u001b[92m+ LERC_jll v3.0.0+1\u001b[39m\n",
      " \u001b[90m [dd4b983a] \u001b[39m\u001b[92m+ LZO_jll v2.10.1+0\u001b[39m\n",
      " \u001b[90m [e9f186c6] \u001b[39m\u001b[92m+ Libffi_jll v3.2.2+1\u001b[39m\n",
      " \u001b[90m [d4300ac3] \u001b[39m\u001b[92m+ Libgcrypt_jll v1.8.7+0\u001b[39m\n",
      " \u001b[90m [7add5ba3] \u001b[39m\u001b[92m+ Libgpg_error_jll v1.42.0+0\u001b[39m\n",
      " \u001b[90m [94ce4f54] \u001b[39m\u001b[92m+ Libiconv_jll v1.16.1+1\u001b[39m\n",
      " \u001b[90m [4b2f31a3] \u001b[39m\u001b[92m+ Libmount_jll v2.35.0+0\u001b[39m\n",
      " \u001b[90m [925c91fb] \u001b[39m\u001b[92m+ Librsvg_jll v2.52.4+0\u001b[39m\n",
      " \u001b[90m [89763e89] \u001b[39m\u001b[92m+ Libtiff_jll v4.4.0+0\u001b[39m\n",
      " \u001b[90m [38a345b3] \u001b[39m\u001b[92m+ Libuuid_jll v2.36.0+0\u001b[39m\n",
      " \u001b[90m [e7412a2a] \u001b[39m\u001b[92m+ Ogg_jll v1.3.5+1\u001b[39m\n",
      " \u001b[90m [458c3c95] \u001b[39m\u001b[92m+ OpenSSL_jll v1.1.17+0\u001b[39m\n",
      " \u001b[90m [91d4177d] \u001b[39m\u001b[92m+ Opus_jll v1.3.2+0\u001b[39m\n",
      " \u001b[90m [2f80f16e] \u001b[39m\u001b[92m+ PCRE_jll v8.44.0+0\u001b[39m\n",
      " \u001b[90m [36c8627f] \u001b[39m\u001b[92m+ Pango_jll v1.50.3+0\u001b[39m\n",
      " \u001b[90m [30392449] \u001b[39m\u001b[92m+ Pixman_jll v0.40.1+0\u001b[39m\n",
      " \u001b[90m [02c8fc9c] \u001b[39m\u001b[92m+ XML2_jll v2.9.14+0\u001b[39m\n",
      " \u001b[90m [aed1982a] \u001b[39m\u001b[92m+ XSLT_jll v1.1.34+0\u001b[39m\n",
      " \u001b[90m [4f6342f7] \u001b[39m\u001b[92m+ Xorg_libX11_jll v1.6.9+4\u001b[39m\n",
      " \u001b[90m [0c0b7dd1] \u001b[39m\u001b[92m+ Xorg_libXau_jll v1.0.9+4\u001b[39m\n",
      " \u001b[90m [a3789734] \u001b[39m\u001b[92m+ Xorg_libXdmcp_jll v1.1.3+4\u001b[39m\n",
      " \u001b[90m [1082639a] \u001b[39m\u001b[92m+ Xorg_libXext_jll v1.3.4+4\u001b[39m\n",
      " \u001b[90m [ea2f1a96] \u001b[39m\u001b[92m+ Xorg_libXrender_jll v0.9.10+4\u001b[39m\n",
      " \u001b[90m [14d82f49] \u001b[39m\u001b[92m+ Xorg_libpthread_stubs_jll v0.1.0+3\u001b[39m\n",
      " \u001b[90m [c7cfdc94] \u001b[39m\u001b[92m+ Xorg_libxcb_jll v1.13.0+3\u001b[39m\n",
      " \u001b[90m [c5fb5394] \u001b[39m\u001b[92m+ Xorg_xtrans_jll v1.4.0+3\u001b[39m\n",
      " \u001b[90m [3161d3a3] \u001b[39m\u001b[92m+ Zstd_jll v1.5.2+0\u001b[39m\n",
      " \u001b[90m [da03df04] \u001b[39m\u001b[92m+ gdk_pixbuf_jll v2.42.6+1\u001b[39m\n",
      " \u001b[90m [a4ae2306] \u001b[39m\u001b[92m+ libaom_jll v3.4.0+0\u001b[39m\n",
      " \u001b[90m [0ac62f75] \u001b[39m\u001b[92m+ libass_jll v0.15.1+0\u001b[39m\n",
      " \u001b[90m [f638f0a6] \u001b[39m\u001b[92m+ libfdk_aac_jll v2.0.2+0\u001b[39m\n",
      " \u001b[90m [b53b4c65] \u001b[39m\u001b[92m+ libpng_jll v1.6.38+0\u001b[39m\n",
      " \u001b[90m [f27f6e37] \u001b[39m\u001b[92m+ libvorbis_jll v1.3.7+1\u001b[39m\n",
      " \u001b[90m [1270edf5] \u001b[39m\u001b[92m+ x264_jll v2021.5.5+0\u001b[39m\n",
      " \u001b[90m [dfaa095f] \u001b[39m\u001b[92m+ x265_jll v3.5.0+0\u001b[39m\n",
      " \u001b[90m [0dad84c5] \u001b[39m\u001b[92m+ ArgTools v1.1.1\u001b[39m\n",
      " \u001b[90m [f43a241f] \u001b[39m\u001b[92m+ Downloads v1.6.0\u001b[39m\n",
      " \u001b[90m [7b1f6079] \u001b[39m\u001b[92m+ FileWatching\u001b[39m\n",
      " \u001b[90m [b27032c2] \u001b[39m\u001b[92m+ LibCURL v0.6.3\u001b[39m\n",
      " \u001b[90m [44cfe95a] \u001b[39m\u001b[92m+ Pkg v1.8.0\u001b[39m\n",
      " \u001b[90m [9abbd945] \u001b[39m\u001b[92m+ Profile\u001b[39m\n",
      " \u001b[90m [3fa0cd96] \u001b[39m\u001b[92m+ REPL\u001b[39m\n",
      " \u001b[90m [fa267f1f] \u001b[39m\u001b[92m+ TOML v1.0.0\u001b[39m\n",
      " \u001b[90m [a4e569a6] \u001b[39m\u001b[92m+ Tar v1.10.0\u001b[39m\n",
      " \u001b[90m [deac9b47] \u001b[39m\u001b[92m+ LibCURL_jll v7.84.0+0\u001b[39m\n",
      " \u001b[90m [29816b5a] \u001b[39m\u001b[92m+ LibSSH2_jll v1.10.2+0\u001b[39m\n",
      " \u001b[90m [c8ffd9c3] \u001b[39m\u001b[92m+ MbedTLS_jll v2.28.0+0\u001b[39m\n",
      " \u001b[90m [14a3606d] \u001b[39m\u001b[92m+ MozillaCACerts_jll v2022.2.1\u001b[39m\n",
      " \u001b[90m [05823500] \u001b[39m\u001b[92m+ OpenLibm_jll v0.8.1+0\u001b[39m\n",
      " \u001b[90m [83775a58] \u001b[39m\u001b[92m+ Zlib_jll v1.2.12+3\u001b[39m\n",
      " \u001b[90m [8e850ede] \u001b[39m\u001b[92m+ nghttp2_jll v1.48.0+0\u001b[39m\n",
      " \u001b[90m [3f19e933] \u001b[39m\u001b[92m+ p7zip_jll v17.4.0+0\u001b[39m\n"
     ]
    },
    {
     "name": "stderr",
     "output_type": "stream",
     "text": [
      "\u001b[32m\u001b[1m   Resolving\u001b[22m\u001b[39m package versions...\n",
      "\u001b[32m\u001b[1m    Updating\u001b[22m\u001b[39m `/private/var/folders/82/9_h72ksj75n463kms2b_yf8c0000gq/T/jl_ALfFFa/Project.toml`\n",
      " \u001b[90m [2913bbd2] \u001b[39m\u001b[92m+ StatsBase v0.33.21\u001b[39m\n",
      "\u001b[32m\u001b[1m  No Changes\u001b[22m\u001b[39m to `/private/var/folders/82/9_h72ksj75n463kms2b_yf8c0000gq/T/jl_ALfFFa/Manifest.toml`\n",
      "\u001b[32m\u001b[1m   Resolving\u001b[22m\u001b[39m package versions...\n",
      "\u001b[32m\u001b[1m    Updating\u001b[22m\u001b[39m `/private/var/folders/82/9_h72ksj75n463kms2b_yf8c0000gq/T/jl_ALfFFa/Project.toml`\n",
      " \u001b[90m [91a5bcdd] \u001b[39m\u001b[92m+ Plots v1.31.7\u001b[39m\n",
      "\u001b[32m\u001b[1m    Updating\u001b[22m\u001b[39m `/private/var/folders/82/9_h72ksj75n463kms2b_yf8c0000gq/T/jl_ALfFFa/Manifest.toml`\n",
      " \u001b[90m [944b1d66] \u001b[39m\u001b[92m+ CodecZlib v0.7.0\u001b[39m\n",
      " \u001b[90m [35d6a980] \u001b[39m\u001b[92m+ ColorSchemes v3.19.0\u001b[39m\n",
      " \u001b[90m [c3611d14] \u001b[39m\u001b[92m+ ColorVectorSpace v0.9.9\u001b[39m\n",
      " \u001b[90m [d38c429a] \u001b[39m\u001b[92m+ Contour v0.6.2\u001b[39m\n",
      " \u001b[90m [e2d170a0] \u001b[39m\u001b[92m+ DataValueInterfaces v1.0.0\u001b[39m\n",
      " \u001b[90m [411431e0] \u001b[39m\u001b[92m+ Extents v0.1.1\u001b[39m\n",
      " \u001b[90m [59287772] \u001b[39m\u001b[92m+ Formatting v0.4.2\u001b[39m\n",
      " \u001b[90m [28b8d3ca] \u001b[39m\u001b[92m+ GR v0.66.2\u001b[39m\n",
      " \u001b[90m [cf35fbd7] \u001b[39m\u001b[92m+ GeoInterface v1.0.1\u001b[39m\n",
      " \u001b[90m [5c1252a2] \u001b[39m\u001b[92m+ GeometryBasics v0.4.3\u001b[39m\n",
      " \u001b[90m [42e2da0e] \u001b[39m\u001b[92m+ Grisu v1.0.2\u001b[39m\n",
      " \u001b[90m [cd3eb016] \u001b[39m\u001b[92m+ HTTP v1.3.3\u001b[39m\n",
      " \u001b[90m [83e8ac13] \u001b[39m\u001b[92m+ IniFile v0.5.1\u001b[39m\n",
      " \u001b[90m [c8e1da08] \u001b[39m\u001b[92m+ IterTools v1.4.0\u001b[39m\n",
      " \u001b[90m [82899510] \u001b[39m\u001b[92m+ IteratorInterfaceExtensions v1.0.0\u001b[39m\n",
      " \u001b[90m [682c06a0] \u001b[39m\u001b[92m+ JSON v0.21.3\u001b[39m\n",
      " \u001b[90m [23fbe1c1] \u001b[39m\u001b[92m+ Latexify v0.15.16\u001b[39m\n",
      " \u001b[90m [e6f89c97] \u001b[39m\u001b[92m+ LoggingExtras v0.4.9\u001b[39m\n",
      " \u001b[90m [739be429] \u001b[39m\u001b[92m+ MbedTLS v1.1.5\u001b[39m\n",
      " \u001b[90m [442fdcdd] \u001b[39m\u001b[92m+ Measures v0.3.1\u001b[39m\n",
      " \u001b[90m [69de0a69] \u001b[39m\u001b[92m+ Parsers v2.4.0\u001b[39m\n",
      " \u001b[90m [ccf2f8ad] \u001b[39m\u001b[92m+ PlotThemes v3.0.0\u001b[39m\n",
      " \u001b[90m [995b91a9] \u001b[39m\u001b[92m+ PlotUtils v1.3.0\u001b[39m\n",
      " \u001b[90m [91a5bcdd] \u001b[39m\u001b[92m+ Plots v1.31.7\u001b[39m\n",
      " \u001b[90m [3cdcf5f2] \u001b[39m\u001b[92m+ RecipesBase v1.2.1\u001b[39m\n",
      " \u001b[90m [01d81517] \u001b[39m\u001b[92m+ RecipesPipeline v0.6.3\u001b[39m\n",
      " \u001b[90m [05181044] \u001b[39m\u001b[92m+ RelocatableFolders v0.3.0\u001b[39m\n",
      " \u001b[90m [6c6a2e73] \u001b[39m\u001b[92m+ Scratch v1.1.1\u001b[39m\n",
      " \u001b[90m [992d4aef] \u001b[39m\u001b[92m+ Showoff v1.0.3\u001b[39m\n",
      " \u001b[90m [777ac1f9] \u001b[39m\u001b[92m+ SimpleBufferStream v1.1.0\u001b[39m\n",
      " \u001b[90m [276daf66] \u001b[39m\u001b[92m+ SpecialFunctions v2.1.7\u001b[39m\n",
      " \u001b[90m [09ab397b] \u001b[39m\u001b[92m+ StructArrays v0.6.12\u001b[39m\n",
      " \u001b[90m [3783bdb8] \u001b[39m\u001b[92m+ TableTraits v1.0.1\u001b[39m\n",
      " \u001b[90m [bd369af6] \u001b[39m\u001b[92m+ Tables v1.7.0\u001b[39m\n",
      " \u001b[90m [62fd8b95] \u001b[39m\u001b[92m+ TensorCore v0.1.1\u001b[39m\n",
      " \u001b[90m [3bb67fe8] \u001b[39m\u001b[92m+ TranscodingStreams v0.9.9\u001b[39m\n",
      " \u001b[90m [5c2747f8] \u001b[39m\u001b[92m+ URIs v1.4.0\u001b[39m\n",
      " \u001b[90m [1cfade01] \u001b[39m\u001b[92m+ UnicodeFun v0.4.1\u001b[39m\n",
      "\u001b[33m⌅\u001b[39m\u001b[90m [41fe7b60] \u001b[39m\u001b[92m+ Unzip v0.1.2\u001b[39m\n",
      " \u001b[90m [5ae413db] \u001b[39m\u001b[92m+ EarCut_jll v2.2.3+0\u001b[39m\n",
      " \u001b[90m [0656b61e] \u001b[39m\u001b[92m+ GLFW_jll v3.3.8+0\u001b[39m\n",
      " \u001b[90m [d2c73de3] \u001b[39m\u001b[92m+ GR_jll v0.66.2+0\u001b[39m\n",
      " \u001b[90m [7e76a0d4] \u001b[39m\u001b[92m+ Libglvnd_jll v1.3.0+3\u001b[39m\n",
      " \u001b[90m [efe28fd5] \u001b[39m\u001b[92m+ OpenSpecFun_jll v0.5.5+0\u001b[39m\n",
      " \u001b[90m [ea2cea3b] \u001b[39m\u001b[92m+ Qt5Base_jll v5.15.3+1\u001b[39m\n",
      " \u001b[90m [a2964d1f] \u001b[39m\u001b[92m+ Wayland_jll v1.19.0+0\u001b[39m\n",
      " \u001b[90m [2381bf8a] \u001b[39m\u001b[92m+ Wayland_protocols_jll v1.25.0+0\u001b[39m\n",
      " \u001b[90m [935fb764] \u001b[39m\u001b[92m+ Xorg_libXcursor_jll v1.2.0+4\u001b[39m\n",
      " \u001b[90m [d091e8ba] \u001b[39m\u001b[92m+ Xorg_libXfixes_jll v5.0.3+4\u001b[39m\n",
      " \u001b[90m [a51aa0fd] \u001b[39m\u001b[92m+ Xorg_libXi_jll v1.7.10+4\u001b[39m\n",
      " \u001b[90m [d1454406] \u001b[39m\u001b[92m+ Xorg_libXinerama_jll v1.1.4+4\u001b[39m\n",
      " \u001b[90m [ec84b674] \u001b[39m\u001b[92m+ Xorg_libXrandr_jll v1.5.2+4\u001b[39m\n",
      " \u001b[90m [cc61e674] \u001b[39m\u001b[92m+ Xorg_libxkbfile_jll v1.1.0+4\u001b[39m\n",
      " \u001b[90m [12413925] \u001b[39m\u001b[92m+ Xorg_xcb_util_image_jll v0.4.0+1\u001b[39m\n",
      " \u001b[90m [2def613f] \u001b[39m\u001b[92m+ Xorg_xcb_util_jll v0.4.0+1\u001b[39m\n",
      " \u001b[90m [975044d2] \u001b[39m\u001b[92m+ Xorg_xcb_util_keysyms_jll v0.4.0+1\u001b[39m\n",
      " \u001b[90m [0d47668e] \u001b[39m\u001b[92m+ Xorg_xcb_util_renderutil_jll v0.3.9+1\u001b[39m\n",
      " \u001b[90m [c22f9ab0] \u001b[39m\u001b[92m+ Xorg_xcb_util_wm_jll v0.4.1+1\u001b[39m\n",
      " \u001b[90m [35661453] \u001b[39m\u001b[92m+ Xorg_xkbcomp_jll v1.4.2+4\u001b[39m\n",
      " \u001b[90m [33bec58e] \u001b[39m\u001b[92m+ Xorg_xkeyboard_config_jll v2.27.0+4\u001b[39m\n",
      " \u001b[90m [d8fb68d0] \u001b[39m\u001b[92m+ xkbcommon_jll v1.4.1+0\u001b[39m\n",
      " \u001b[90m [8bb1440f] \u001b[39m\u001b[92m+ DelimitedFiles\u001b[39m\n",
      " \u001b[90m [a63ad114] \u001b[39m\u001b[92m+ Mmap\u001b[39m\n",
      "\u001b[36m\u001b[1m        Info\u001b[22m\u001b[39m Packages marked with \u001b[33m⌅\u001b[39m have new versions available but cannot be upgraded. To see why use `status --outdated -m`\n",
      "\u001b[32m\u001b[1m   Resolving\u001b[22m\u001b[39m package versions...\n",
      "\u001b[32m\u001b[1m    Updating\u001b[22m\u001b[39m `/private/var/folders/82/9_h72ksj75n463kms2b_yf8c0000gq/T/jl_ALfFFa/Project.toml`\n",
      " \u001b[90m [50ba71b6] \u001b[39m\u001b[92m+ BitBasis v0.8.1\u001b[39m\n",
      "\u001b[32m\u001b[1m  No Changes\u001b[22m\u001b[39m to `/private/var/folders/82/9_h72ksj75n463kms2b_yf8c0000gq/T/jl_ALfFFa/Manifest.toml`\n"
     ]
    }
   ],
   "source": [
    "begin\n",
    "\tusing Pkg\n",
    "\tPkg.activate(mktempdir())\n",
    "\tPkg.Registry.update()\n",
    "\tPkg.add(\"Yao\")\n",
    "\tPkg.add(\"YaoPlots\")\n",
    "\tPkg.add(\"StatsBase\")\n",
    "\tPkg.add(\"Plots\")\n",
    "\tPkg.add(\"BitBasis\")\n",
    "end"
   ]
  },
  {
   "cell_type": "code",
   "execution_count": 2,
   "id": "5377feeb",
   "metadata": {},
   "outputs": [],
   "source": [
    "using Yao, YaoPlots"
   ]
  },
  {
   "cell_type": "markdown",
   "id": "e1371fb5",
   "metadata": {},
   "source": [
    "- Define the quantum circuit\n",
    "- Plot the circuit"
   ]
  },
  {
   "cell_type": "code",
   "execution_count": 3,
   "id": "991824cb",
   "metadata": {},
   "outputs": [
    {
     "data": {
      "image/svg+xml": [
       "<?xml version=\"1.0\" encoding=\"UTF-8\"?>\n",
       "<svg xmlns=\"http://www.w3.org/2000/svg\" xmlns:xlink=\"http://www.w3.org/1999/xlink\" width=\"153pt\" height=\"90pt\" viewBox=\"0 0 153 90\" version=\"1.1\">\n",
       "<defs>\n",
       "<g>\n",
       "<symbol overflow=\"visible\" id=\"glyph0-0\">\n",
       "<path style=\"stroke:none;\" d=\"M 0.796875 2.828125 L 0.796875 -11.28125 L 8.796875 -11.28125 L 8.796875 2.828125 Z M 1.695312 1.9375 L 7.90625 1.9375 L 7.90625 -10.382812 L 1.695312 -10.382812 Z M 1.695312 1.9375 \"/>\n",
       "</symbol>\n",
       "<symbol overflow=\"visible\" id=\"glyph0-1\">\n",
       "<path style=\"stroke:none;\" d=\"M 2.929688 -1.101562 L 3.453125 -1.101562 C 3.761719 -1.101562 3.976562 -1.058594 4.101562 -0.976562 C 4.226562 -0.894531 4.289062 -0.753906 4.289062 -0.5625 C 4.289062 -0.347656 4.234375 -0.203125 4.125 -0.121094 C 4.015625 -0.0390625 3.777344 0 3.40625 0 L 1.34375 0 C 1.152344 0 1.007812 -0.046875 0.910156 -0.140625 C 0.8125 -0.234375 0.765625 -0.375 0.765625 -0.5625 C 0.765625 -0.765625 0.820312 -0.90625 0.933594 -0.984375 C 1.046875 -1.0625 1.257812 -1.101562 1.570312 -1.101562 L 1.710938 -1.101562 L 1.710938 -8.140625 L 1.585938 -8.140625 C 1.273438 -8.140625 1.058594 -8.183594 0.941406 -8.265625 C 0.824219 -8.347656 0.765625 -8.496094 0.765625 -8.703125 C 0.765625 -8.894531 0.8125 -9.039062 0.910156 -9.128906 C 1.007812 -9.21875 1.15625 -9.265625 1.359375 -9.265625 L 3.328125 -9.265625 C 3.746094 -9.265625 4.007812 -9.226562 4.121094 -9.144531 C 4.234375 -9.0625 4.289062 -8.917969 4.289062 -8.703125 C 4.289062 -8.496094 4.21875 -8.347656 4.078125 -8.265625 C 3.9375 -8.183594 3.671875 -8.140625 3.28125 -8.140625 L 2.929688 -8.140625 L 2.929688 -5.421875 L 6.671875 -5.421875 L 6.671875 -8.140625 L 6.140625 -8.140625 C 5.84375 -8.140625 5.632812 -8.183594 5.503906 -8.273438 C 5.375 -8.363281 5.3125 -8.503906 5.3125 -8.703125 C 5.3125 -8.917969 5.371094 -9.0625 5.488281 -9.144531 C 5.605469 -9.226562 5.894531 -9.265625 6.351562 -9.265625 L 8.257812 -9.265625 C 8.445312 -9.265625 8.585938 -9.21875 8.683594 -9.125 C 8.78125 -9.03125 8.828125 -8.890625 8.828125 -8.703125 C 8.828125 -8.5 8.773438 -8.355469 8.664062 -8.269531 C 8.554688 -8.183594 8.359375 -8.140625 8.078125 -8.140625 L 7.890625 -8.140625 L 7.890625 -1.101562 L 8.015625 -1.101562 C 8.328125 -1.101562 8.542969 -1.0625 8.65625 -0.980469 C 8.769531 -0.898438 8.828125 -0.761719 8.828125 -0.5625 C 8.828125 -0.347656 8.773438 -0.203125 8.664062 -0.121094 C 8.554688 -0.0390625 8.300781 0 7.90625 0 L 6.289062 0 C 5.867188 0 5.597656 -0.0390625 5.484375 -0.121094 C 5.371094 -0.203125 5.3125 -0.347656 5.3125 -0.5625 C 5.3125 -0.765625 5.378906 -0.90625 5.515625 -0.984375 C 5.652344 -1.0625 5.910156 -1.101562 6.289062 -1.101562 L 6.671875 -1.101562 L 6.671875 -4.351562 L 2.929688 -4.351562 Z M 2.929688 -1.101562 \"/>\n",
       "</symbol>\n",
       "</g>\n",
       "</defs>\n",
       "<g id=\"surface4\">\n",
       "<path style=\"fill:none;stroke-width:1;stroke-linecap:butt;stroke-linejoin:miter;stroke:rgb(0%,0%,0%);stroke-opacity:1;stroke-miterlimit:10;\" d=\"M 39 34.5 L 39 10.5 L 63 10.5 L 63 34.5 Z M 39 34.5 \"/>\n",
       "<g style=\"fill:rgb(0%,0%,0%);fill-opacity:1;\">\n",
       "  <use xlink:href=\"#glyph0-1\" x=\"46.199219\" y=\"27.132812\"/>\n",
       "</g>\n",
       "<path style=\"fill:none;stroke-width:1;stroke-linecap:butt;stroke-linejoin:miter;stroke:rgb(0%,0%,0%);stroke-opacity:1;stroke-miterlimit:10;\" d=\"M 25.5 22.5 L 39 22.5 \"/>\n",
       "<path style=\"fill:none;stroke-width:1;stroke-linecap:butt;stroke-linejoin:miter;stroke:rgb(0%,0%,0%);stroke-opacity:1;stroke-miterlimit:10;\" d=\"M 63 22.5 L 76.5 22.5 \"/>\n",
       "<path style=\" stroke:none;fill-rule:nonzero;fill:rgb(0%,0%,0%);fill-opacity:1;\" d=\"M 104.398438 22.5 C 104.398438 25.699219 99.601562 25.699219 99.601562 22.5 C 99.601562 19.300781 104.398438 19.300781 104.398438 22.5 \"/>\n",
       "<path style=\"fill:none;stroke-width:1;stroke-linecap:butt;stroke-linejoin:miter;stroke:rgb(0%,0%,0%);stroke-opacity:1;stroke-miterlimit:10;\" d=\"M 110.398438 67.5 C 110.398438 72.140625 106.640625 75.898438 102 75.898438 C 97.359375 75.898438 93.601562 72.140625 93.601562 67.5 C 93.601562 62.859375 97.359375 59.101562 102 59.101562 C 106.640625 59.101562 110.398438 62.859375 110.398438 67.5 \"/>\n",
       "<path style=\"fill:none;stroke-width:1;stroke-linecap:butt;stroke-linejoin:miter;stroke:rgb(0%,0%,0%);stroke-opacity:1;stroke-miterlimit:10;\" d=\"M 93.601562 67.5 L 110.398438 67.5 \"/>\n",
       "<path style=\"fill:none;stroke-width:1;stroke-linecap:butt;stroke-linejoin:miter;stroke:rgb(0%,0%,0%);stroke-opacity:1;stroke-miterlimit:10;\" d=\"M 102 59.101562 L 102 75.898438 \"/>\n",
       "<path style=\"fill:none;stroke-width:1;stroke-linecap:butt;stroke-linejoin:miter;stroke:rgb(0%,0%,0%);stroke-opacity:1;stroke-miterlimit:10;\" d=\"M 102 59.101562 L 102 24.898438 \"/>\n",
       "<path style=\"fill:none;stroke-width:1;stroke-linecap:butt;stroke-linejoin:miter;stroke:rgb(0%,0%,0%);stroke-opacity:1;stroke-miterlimit:10;\" d=\"M 76.5 22.5 L 99.601562 22.5 \"/>\n",
       "<path style=\"fill:none;stroke-width:1;stroke-linecap:butt;stroke-linejoin:miter;stroke:rgb(0%,0%,0%);stroke-opacity:1;stroke-miterlimit:10;\" d=\"M 104.398438 22.5 L 127.5 22.5 \"/>\n",
       "<path style=\"fill:none;stroke-width:1;stroke-linecap:butt;stroke-linejoin:miter;stroke:rgb(0%,0%,0%);stroke-opacity:1;stroke-miterlimit:10;\" d=\"M 25.5 67.5 L 93.601562 67.5 \"/>\n",
       "<path style=\"fill:none;stroke-width:1;stroke-linecap:butt;stroke-linejoin:miter;stroke:rgb(0%,0%,0%);stroke-opacity:1;stroke-miterlimit:10;\" d=\"M 110.398438 67.5 L 127.5 67.5 \"/>\n",
       "<path style=\"fill:none;stroke-width:1;stroke-linecap:butt;stroke-linejoin:miter;stroke:rgb(0%,0%,0%);stroke-opacity:1;stroke-miterlimit:10;\" d=\"M 127.5 22.5 L 127.5 22.5 \"/>\n",
       "<path style=\"fill:none;stroke-width:1;stroke-linecap:butt;stroke-linejoin:miter;stroke:rgb(0%,0%,0%);stroke-opacity:1;stroke-miterlimit:10;\" d=\"M 127.5 67.5 L 127.5 67.5 \"/>\n",
       "</g>\n",
       "</svg>\n"
      ],
      "text/plain": []
     },
     "execution_count": 3,
     "metadata": {},
     "output_type": "execute_result"
    }
   ],
   "source": [
    "begin\n",
    "\tbellcircuit = chain(2, put(1=>H), control(1, 2=>X))\n",
    "\tplot(bellcircuit)\n",
    "end"
   ]
  },
  {
   "cell_type": "markdown",
   "id": "a0847a44",
   "metadata": {},
   "source": [
    "- Set up the two qubits to be sent into the circuit"
   ]
  },
  {
   "cell_type": "code",
   "execution_count": 4,
   "id": "2cd180c6",
   "metadata": {},
   "outputs": [
    {
     "data": {
      "text/plain": [
       "ArrayReg{2, ComplexF64, Array...}\n",
       "    active qubits: 2/2\n",
       "    nlevel: 2"
      ]
     },
     "execution_count": 4,
     "metadata": {},
     "output_type": "execute_result"
    }
   ],
   "source": [
    "q1 = ArrayReg(bit\"00\") #creating the system of two qubits with state |00>."
   ]
  },
  {
   "cell_type": "markdown",
   "id": "ee79151d",
   "metadata": {},
   "source": [
    "- View the state vector of the two qubits"
   ]
  },
  {
   "cell_type": "code",
   "execution_count": 5,
   "id": "b22ab067",
   "metadata": {},
   "outputs": [
    {
     "data": {
      "text/plain": [
       "4×1 Matrix{ComplexF64}:\n",
       " 1.0 + 0.0im\n",
       " 0.0 + 0.0im\n",
       " 0.0 + 0.0im\n",
       " 0.0 + 0.0im"
      ]
     },
     "execution_count": 5,
     "metadata": {},
     "output_type": "execute_result"
    }
   ],
   "source": [
    "state(q1) #state of a qubit in vector form"
   ]
  },
  {
   "cell_type": "markdown",
   "id": "63435359",
   "metadata": {},
   "source": [
    "- Send the qubits into the circuit"
   ]
  },
  {
   "cell_type": "code",
   "execution_count": 6,
   "id": "8721ca87",
   "metadata": {},
   "outputs": [
    {
     "data": {
      "text/plain": [
       "ArrayReg{2, ComplexF64, Array...}\n",
       "    active qubits: 2/2\n",
       "    nlevel: 2"
      ]
     },
     "execution_count": 6,
     "metadata": {},
     "output_type": "execute_result"
    }
   ],
   "source": [
    "a = (q1 |> bellcircuit) #Passing the qubit q1 through the bell circuit"
   ]
  },
  {
   "cell_type": "markdown",
   "id": "209d2c22",
   "metadata": {},
   "source": [
    "- Now look at the resulting statevector"
   ]
  },
  {
   "cell_type": "code",
   "execution_count": 7,
   "id": "8c77f288",
   "metadata": {},
   "outputs": [
    {
     "data": {
      "text/plain": [
       "4×1 Matrix{ComplexF64}:\n",
       " 0.7071067811865475 + 0.0im\n",
       "                0.0 + 0.0im\n",
       "                0.0 + 0.0im\n",
       " 0.7071067811865475 + 0.0im"
      ]
     },
     "execution_count": 7,
     "metadata": {},
     "output_type": "execute_result"
    }
   ],
   "source": [
    "state(a)"
   ]
  },
  {
   "cell_type": "markdown",
   "id": "0810988e",
   "metadata": {},
   "source": [
    "- Meassure the state \"nshots\" times"
   ]
  },
  {
   "cell_type": "code",
   "execution_count": 8,
   "id": "805d4f97",
   "metadata": {
    "scrolled": true
   },
   "outputs": [
    {
     "data": {
      "text/plain": [
       "1024-element Vector{DitStr{2, 2, Int64}}:\n",
       " 11 ₍₂₎\n",
       " 00 ₍₂₎\n",
       " 00 ₍₂₎\n",
       " 00 ₍₂₎\n",
       " 11 ₍₂₎\n",
       " 00 ₍₂₎\n",
       " 00 ₍₂₎\n",
       " 11 ₍₂₎\n",
       " 11 ₍₂₎\n",
       " 00 ₍₂₎\n",
       " 00 ₍₂₎\n",
       " 00 ₍₂₎\n",
       " 00 ₍₂₎\n",
       "      ⋮\n",
       " 00 ₍₂₎\n",
       " 11 ₍₂₎\n",
       " 00 ₍₂₎\n",
       " 00 ₍₂₎\n",
       " 11 ₍₂₎\n",
       " 11 ₍₂₎\n",
       " 11 ₍₂₎\n",
       " 11 ₍₂₎\n",
       " 11 ₍₂₎\n",
       " 00 ₍₂₎\n",
       " 00 ₍₂₎\n",
       " 11 ₍₂₎"
      ]
     },
     "execution_count": 8,
     "metadata": {},
     "output_type": "execute_result"
    }
   ],
   "source": [
    "measuredqubits = a |> r->measure(r, nshots=1024)"
   ]
  },
  {
   "cell_type": "markdown",
   "id": "32804c59",
   "metadata": {},
   "source": [
    "- Create a histogram function to rperesent measurements"
   ]
  },
  {
   "cell_type": "code",
   "execution_count": 9,
   "id": "3ead31e9",
   "metadata": {},
   "outputs": [
    {
     "data": {
      "text/plain": [
       "plotmeasure (generic function with 1 method)"
      ]
     },
     "execution_count": 9,
     "metadata": {},
     "output_type": "execute_result"
    }
   ],
   "source": [
    "begin\n",
    "\tusing StatsBase: Histogram, fit\n",
    "\tusing Plots: bar, scatter!, gr; gr()\n",
    "\tusing BitBasis\n",
    "\tfunction plotmeasure(x::Array{BitStr{n,Int},1}) where n\n",
    "\t\thist = fit(Histogram, Int.(x), 0:2^n)\n",
    "\t\tx = 0\n",
    "\t\tif(n<=3)\n",
    "\t\t\ts=8\n",
    "\t\telseif(n>3 && n<=6)\n",
    "\t\t\ts=5\n",
    "\t\telseif(n>6 && n<=10)\n",
    "\t\t\ts=3.2\n",
    "\t\telseif(n>10 && n<=15)\n",
    "\t\t\ts=2\n",
    "\t\telseif(n>15)\n",
    "\t\t\ts=1\n",
    "\t\tend\n",
    "\t\tbar(hist.edges[1] .- 0.5, hist.weights, legend=:none, size=(600*(2^n)/s,400), ylims=((-1,maximum(hist.weights))), xlims=((-1,2^n)), grid=:false, ticks=false, border=:none, color=:lightblue, lc=:lightblue)\n",
    "\t\tscatter!(0:2^n-1, ones(2^n,1), markersize=0,\n",
    "         series_annotations=\"|\" .* string.(hist.edges[1]; base=2, pad=n) .* \"⟩\")\n",
    "\t\tscatter!(0:2^n-1, zeros(2^n,1) .+ maximum(hist.weights), markersize=0,\n",
    "         series_annotations=string.(hist.weights))\n",
    "\tend\n",
    "end"
   ]
  },
  {
   "cell_type": "markdown",
   "id": "da2f3889",
   "metadata": {},
   "source": [
    "- Plot the resulting states"
   ]
  },
  {
   "cell_type": "code",
   "execution_count": 10,
   "id": "69bc9134",
   "metadata": {},
   "outputs": [
    {
     "data": {
      "image/svg+xml": [
       "<?xml version=\"1.0\" encoding=\"utf-8\"?>\n",
       "<svg xmlns=\"http://www.w3.org/2000/svg\" xmlns:xlink=\"http://www.w3.org/1999/xlink\" width=\"300\" height=\"400\" viewBox=\"0 0 1200 1600\">\n",
       "<defs>\n",
       "  <clipPath id=\"clip430\">\n",
       "    <rect x=\"0\" y=\"0\" width=\"1200\" height=\"1600\"/>\n",
       "  </clipPath>\n",
       "</defs>\n",
       "<path clip-path=\"url(#clip430)\" d=\"\n",
       "M0 1600 L1200 1600 L1200 0 L0 0  Z\n",
       "  \" fill=\"#ffffff\" fill-rule=\"evenodd\" fill-opacity=\"1\"/>\n",
       "<defs>\n",
       "  <clipPath id=\"clip431\">\n",
       "    <rect x=\"320\" y=\"160\" width=\"1121\" height=\"1121\"/>\n",
       "  </clipPath>\n",
       "</defs>\n",
       "<path clip-path=\"url(#clip430)\" d=\"\n",
       "M47.2441 1552.76 L1152.76 1552.76 L1152.76 47.2441 L47.2441 47.2441  Z\n",
       "  \" fill=\"#ffffff\" fill-rule=\"evenodd\" fill-opacity=\"1\"/>\n",
       "<defs>\n",
       "  <clipPath id=\"clip432\">\n",
       "    <rect x=\"47\" y=\"47\" width=\"1107\" height=\"1507\"/>\n",
       "  </clipPath>\n",
       "</defs>\n",
       "<path clip-path=\"url(#clip432)\" d=\"\n",
       "M179.906 64.75 L179.906 1549.84 L356.787 1549.84 L356.787 64.75 L179.906 64.75 L179.906 64.75  Z\n",
       "  \" fill=\"#add8e6\" fill-rule=\"evenodd\" fill-opacity=\"1\"/>\n",
       "<polyline clip-path=\"url(#clip432)\" style=\"stroke:#add8e6; stroke-linecap:butt; stroke-linejoin:round; stroke-width:4; stroke-opacity:1; fill:none\" points=\"\n",
       "  179.906,64.75 179.906,1549.84 356.787,1549.84 356.787,64.75 179.906,64.75 \n",
       "  \"/>\n",
       "<path clip-path=\"url(#clip432)\" d=\"\n",
       "M401.008 1549.84 L401.008 1549.84 L577.89 1549.84 L577.89 1549.84 L401.008 1549.84 L401.008 1549.84  Z\n",
       "  \" fill=\"#add8e6\" fill-rule=\"evenodd\" fill-opacity=\"1\"/>\n",
       "<polyline clip-path=\"url(#clip432)\" style=\"stroke:#add8e6; stroke-linecap:butt; stroke-linejoin:round; stroke-width:4; stroke-opacity:1; fill:none\" points=\"\n",
       "  401.008,1549.84 401.008,1549.84 577.89,1549.84 401.008,1549.84 \n",
       "  \"/>\n",
       "<path clip-path=\"url(#clip432)\" d=\"\n",
       "M622.11 1549.84 L622.11 1549.84 L798.992 1549.84 L798.992 1549.84 L622.11 1549.84 L622.11 1549.84  Z\n",
       "  \" fill=\"#add8e6\" fill-rule=\"evenodd\" fill-opacity=\"1\"/>\n",
       "<polyline clip-path=\"url(#clip432)\" style=\"stroke:#add8e6; stroke-linecap:butt; stroke-linejoin:round; stroke-width:4; stroke-opacity:1; fill:none\" points=\"\n",
       "  622.11,1549.84 622.11,1549.84 798.992,1549.84 622.11,1549.84 \n",
       "  \"/>\n",
       "<path clip-path=\"url(#clip432)\" d=\"\n",
       "M843.213 47.2441 L843.213 1549.84 L1020.09 1549.84 L1020.09 47.2441 L843.213 47.2441 L843.213 47.2441  Z\n",
       "  \" fill=\"#add8e6\" fill-rule=\"evenodd\" fill-opacity=\"1\"/>\n",
       "<polyline clip-path=\"url(#clip432)\" style=\"stroke:#add8e6; stroke-linecap:butt; stroke-linejoin:round; stroke-width:4; stroke-opacity:1; fill:none\" points=\"\n",
       "  843.213,47.2441 843.213,1549.84 1020.09,1549.84 1020.09,47.2441 843.213,47.2441 \n",
       "  \"/>\n",
       "<circle clip-path=\"url(#clip432)\" style=\"fill:#add8e6; stroke:none; fill-opacity:0\" cx=\"157.795\" cy=\"64.75\" r=\"2\"/>\n",
       "<circle clip-path=\"url(#clip432)\" style=\"fill:#add8e6; stroke:none; fill-opacity:0\" cx=\"378.898\" cy=\"1549.84\" r=\"2\"/>\n",
       "<circle clip-path=\"url(#clip432)\" style=\"fill:#add8e6; stroke:none; fill-opacity:0\" cx=\"600\" cy=\"1549.84\" r=\"2\"/>\n",
       "<circle clip-path=\"url(#clip432)\" style=\"fill:#add8e6; stroke:none; fill-opacity:0\" cx=\"821.102\" cy=\"47.2441\" r=\"2\"/>\n",
       "<circle clip-path=\"url(#clip432)\" style=\"fill:#add8e6; stroke:none; fill-opacity:0\" cx=\"1042.2\" cy=\"64.75\" r=\"2\"/>\n",
       "<circle clip-path=\"url(#clip432)\" style=\"fill:#e26f46; stroke:none; fill-opacity:1\" cx=\"268.346\" cy=\"1546.92\" r=\"2\"/>\n",
       "<circle clip-path=\"url(#clip432)\" style=\"fill:#e26f46; stroke:none; fill-opacity:1\" cx=\"489.449\" cy=\"1546.92\" r=\"2\"/>\n",
       "<circle clip-path=\"url(#clip432)\" style=\"fill:#e26f46; stroke:none; fill-opacity:1\" cx=\"710.551\" cy=\"1546.92\" r=\"2\"/>\n",
       "<circle clip-path=\"url(#clip432)\" style=\"fill:#e26f46; stroke:none; fill-opacity:1\" cx=\"931.654\" cy=\"1546.92\" r=\"2\"/>\n",
       "<path clip-path=\"url(#clip430)\" d=\"M201.263 1513.76 L201.263 1596.73 L194.377 1596.73 L194.377 1513.76 L201.263 1513.76 Z\" fill=\"#000000\" fill-rule=\"evenodd\" fill-opacity=\"1\" /><path clip-path=\"url(#clip430)\" d=\"M238.167 1522.07 Q231.848 1522.07 228.648 1528.31 Q225.488 1534.5 225.488 1546.98 Q225.488 1559.42 228.648 1565.66 Q231.848 1571.85 238.167 1571.85 Q244.527 1571.85 247.687 1565.66 Q250.887 1559.42 250.887 1546.98 Q250.887 1534.5 247.687 1528.31 Q244.527 1522.07 238.167 1522.07 M238.167 1515.59 Q248.335 1515.59 253.682 1523.65 Q259.07 1531.67 259.07 1546.98 Q259.07 1562.25 253.682 1570.31 Q248.335 1578.34 238.167 1578.34 Q227.999 1578.34 222.612 1570.31 Q217.265 1562.25 217.265 1546.98 Q217.265 1531.67 222.612 1523.65 Q227.999 1515.59 238.167 1515.59 Z\" fill=\"#000000\" fill-rule=\"evenodd\" fill-opacity=\"1\" /><path clip-path=\"url(#clip430)\" d=\"M290.951 1522.07 Q284.631 1522.07 281.431 1528.31 Q278.271 1534.5 278.271 1546.98 Q278.271 1559.42 281.431 1565.66 Q284.631 1571.85 290.951 1571.85 Q297.31 1571.85 300.47 1565.66 Q303.67 1559.42 303.67 1546.98 Q303.67 1534.5 300.47 1528.31 Q297.31 1522.07 290.951 1522.07 M290.951 1515.59 Q301.118 1515.59 306.465 1523.65 Q311.853 1531.67 311.853 1546.98 Q311.853 1562.25 306.465 1570.31 Q301.118 1578.34 290.951 1578.34 Q280.783 1578.34 275.395 1570.31 Q270.048 1562.25 270.048 1546.98 Q270.048 1531.67 275.395 1523.65 Q280.783 1515.59 290.951 1515.59 Z\" fill=\"#000000\" fill-rule=\"evenodd\" fill-opacity=\"1\" /><path clip-path=\"url(#clip430)\" d=\"M342.316 1551.15 L330.892 1588.1 L324.006 1588.1 L335.429 1551.15 L324.006 1514.21 L330.892 1514.21 L342.316 1551.15 Z\" fill=\"#000000\" fill-rule=\"evenodd\" fill-opacity=\"1\" /><path clip-path=\"url(#clip430)\" d=\"M422.366 1513.76 L422.366 1596.73 L415.479 1596.73 L415.479 1513.76 L422.366 1513.76 Z\" fill=\"#000000\" fill-rule=\"evenodd\" fill-opacity=\"1\" /><path clip-path=\"url(#clip430)\" d=\"M459.27 1522.07 Q452.95 1522.07 449.75 1528.31 Q446.59 1534.5 446.59 1546.98 Q446.59 1559.42 449.75 1565.66 Q452.95 1571.85 459.27 1571.85 Q465.63 1571.85 468.789 1565.66 Q471.989 1559.42 471.989 1546.98 Q471.989 1534.5 468.789 1528.31 Q465.63 1522.07 459.27 1522.07 M459.27 1515.59 Q469.437 1515.59 474.785 1523.65 Q480.172 1531.67 480.172 1546.98 Q480.172 1562.25 474.785 1570.31 Q469.437 1578.34 459.27 1578.34 Q449.102 1578.34 443.714 1570.31 Q438.367 1562.25 438.367 1546.98 Q438.367 1531.67 443.714 1523.65 Q449.102 1515.59 459.27 1515.59 Z\" fill=\"#000000\" fill-rule=\"evenodd\" fill-opacity=\"1\" /><path clip-path=\"url(#clip430)\" d=\"M495.971 1570.27 L509.339 1570.27 L509.339 1524.13 L494.796 1527.05 L494.796 1519.6 L509.258 1516.68 L517.441 1516.68 L517.441 1570.27 L530.809 1570.27 L530.809 1577.16 L495.971 1577.16 L495.971 1570.27 Z\" fill=\"#000000\" fill-rule=\"evenodd\" fill-opacity=\"1\" /><path clip-path=\"url(#clip430)\" d=\"M563.418 1551.15 L551.995 1588.1 L545.108 1588.1 L556.532 1551.15 L545.108 1514.21 L551.995 1514.21 L563.418 1551.15 Z\" fill=\"#000000\" fill-rule=\"evenodd\" fill-opacity=\"1\" /><path clip-path=\"url(#clip430)\" d=\"M643.468 1513.76 L643.468 1596.73 L636.582 1596.73 L636.582 1513.76 L643.468 1513.76 Z\" fill=\"#000000\" fill-rule=\"evenodd\" fill-opacity=\"1\" /><path clip-path=\"url(#clip430)\" d=\"M664.29 1570.27 L677.658 1570.27 L677.658 1524.13 L663.115 1527.05 L663.115 1519.6 L677.577 1516.68 L685.76 1516.68 L685.76 1570.27 L699.128 1570.27 L699.128 1577.16 L664.29 1577.16 L664.29 1570.27 Z\" fill=\"#000000\" fill-rule=\"evenodd\" fill-opacity=\"1\" /><path clip-path=\"url(#clip430)\" d=\"M733.155 1522.07 Q726.836 1522.07 723.636 1528.31 Q720.476 1534.5 720.476 1546.98 Q720.476 1559.42 723.636 1565.66 Q726.836 1571.85 733.155 1571.85 Q739.515 1571.85 742.675 1565.66 Q745.875 1559.42 745.875 1546.98 Q745.875 1534.5 742.675 1528.31 Q739.515 1522.07 733.155 1522.07 M733.155 1515.59 Q743.323 1515.59 748.67 1523.65 Q754.058 1531.67 754.058 1546.98 Q754.058 1562.25 748.67 1570.31 Q743.323 1578.34 733.155 1578.34 Q722.987 1578.34 717.6 1570.31 Q712.253 1562.25 712.253 1546.98 Q712.253 1531.67 717.6 1523.65 Q722.987 1515.59 733.155 1515.59 Z\" fill=\"#000000\" fill-rule=\"evenodd\" fill-opacity=\"1\" /><path clip-path=\"url(#clip430)\" d=\"M784.521 1551.15 L773.097 1588.1 L766.211 1588.1 L777.634 1551.15 L766.211 1514.21 L773.097 1514.21 L784.521 1551.15 Z\" fill=\"#000000\" fill-rule=\"evenodd\" fill-opacity=\"1\" /><path clip-path=\"url(#clip430)\" d=\"M864.571 1513.76 L864.571 1596.73 L857.684 1596.73 L857.684 1513.76 L864.571 1513.76 Z\" fill=\"#000000\" fill-rule=\"evenodd\" fill-opacity=\"1\" /><path clip-path=\"url(#clip430)\" d=\"M885.392 1570.27 L898.76 1570.27 L898.76 1524.13 L884.217 1527.05 L884.217 1519.6 L898.679 1516.68 L906.862 1516.68 L906.862 1570.27 L920.23 1570.27 L920.23 1577.16 L885.392 1577.16 L885.392 1570.27 Z\" fill=\"#000000\" fill-rule=\"evenodd\" fill-opacity=\"1\" /><path clip-path=\"url(#clip430)\" d=\"M938.175 1570.27 L951.543 1570.27 L951.543 1524.13 L937.001 1527.05 L937.001 1519.6 L951.462 1516.68 L959.645 1516.68 L959.645 1570.27 L973.013 1570.27 L973.013 1577.16 L938.175 1577.16 L938.175 1570.27 Z\" fill=\"#000000\" fill-rule=\"evenodd\" fill-opacity=\"1\" /><path clip-path=\"url(#clip430)\" d=\"M1005.62 1551.15 L994.2 1588.1 L987.313 1588.1 L998.737 1551.15 L987.313 1514.21 L994.2 1514.21 L1005.62 1551.15 Z\" fill=\"#000000\" fill-rule=\"evenodd\" fill-opacity=\"1\" /><circle clip-path=\"url(#clip432)\" style=\"fill:#3da44d; stroke:none; fill-opacity:1\" cx=\"268.346\" cy=\"47.2441\" r=\"2\"/>\n",
       "<circle clip-path=\"url(#clip432)\" style=\"fill:#3da44d; stroke:none; fill-opacity:1\" cx=\"489.449\" cy=\"47.2441\" r=\"2\"/>\n",
       "<circle clip-path=\"url(#clip432)\" style=\"fill:#3da44d; stroke:none; fill-opacity:1\" cx=\"710.551\" cy=\"47.2441\" r=\"2\"/>\n",
       "<circle clip-path=\"url(#clip432)\" style=\"fill:#3da44d; stroke:none; fill-opacity:1\" cx=\"931.654\" cy=\"47.2441\" r=\"2\"/>\n",
       "<path clip-path=\"url(#clip430)\" d=\"M197.84 17.0041 L229.964 17.0041 L229.964 23.8906 L205.335 23.8906 L205.335 38.7169 Q207.117 38.1093 208.899 37.8257 Q210.682 37.5017 212.464 37.5017 Q222.591 37.5017 228.506 43.0514 Q234.42 48.6011 234.42 58.0803 Q234.42 67.8429 228.344 73.2712 Q222.267 78.6589 211.208 78.6589 Q207.401 78.6589 203.431 78.0107 Q199.501 77.3626 195.288 76.0663 L195.288 67.8429 Q198.934 69.8279 202.823 70.8001 Q206.712 71.7723 211.046 71.7723 Q218.054 71.7723 222.146 68.086 Q226.237 64.3997 226.237 58.0803 Q226.237 51.7609 222.146 48.0745 Q218.054 44.3882 211.046 44.3882 Q207.765 44.3882 204.484 45.1174 Q201.243 45.8465 197.84 47.3859 L197.84 17.0041 Z\" fill=\"#000000\" fill-rule=\"evenodd\" fill-opacity=\"1\" /><path clip-path=\"url(#clip430)\" d=\"M268.043 22.3918 Q261.723 22.3918 258.523 28.6302 Q255.363 34.8281 255.363 47.3049 Q255.363 59.7411 258.523 65.9795 Q261.723 72.1774 268.043 72.1774 Q274.403 72.1774 277.562 65.9795 Q280.762 59.7411 280.762 47.3049 Q280.762 34.8281 277.562 28.6302 Q274.403 22.3918 268.043 22.3918 M268.043 15.9104 Q278.21 15.9104 283.558 23.9716 Q288.945 31.9924 288.945 47.3049 Q288.945 62.5768 283.558 70.6381 Q278.21 78.6589 268.043 78.6589 Q257.875 78.6589 252.487 70.6381 Q247.14 62.5768 247.14 47.3049 Q247.14 31.9924 252.487 23.9716 Q257.875 15.9104 268.043 15.9104 Z\" fill=\"#000000\" fill-rule=\"evenodd\" fill-opacity=\"1\" /><path clip-path=\"url(#clip430)\" d=\"M303.569 76.2283 L303.569 68.7747 Q306.648 70.233 309.807 71.0026 Q312.967 71.7723 316.005 71.7723 Q324.107 71.7723 328.361 66.3441 Q332.655 60.8754 333.262 49.7759 Q330.913 53.2597 327.307 55.1231 Q323.702 56.9865 319.327 56.9865 Q310.253 56.9865 304.946 51.5178 Q299.68 46.0086 299.68 36.4889 Q299.68 27.1719 305.189 21.5411 Q310.699 15.9104 319.854 15.9104 Q330.346 15.9104 335.855 23.9716 Q341.405 31.9924 341.405 47.3049 Q341.405 61.6045 334.599 70.152 Q327.834 78.6589 316.37 78.6589 Q313.291 78.6589 310.132 78.0512 Q306.972 77.4436 303.569 76.2283 M319.854 50.5861 Q325.363 50.5861 328.563 46.8187 Q331.804 43.0514 331.804 36.4889 Q331.804 29.967 328.563 26.1996 Q325.363 22.3918 319.854 22.3918 Q314.344 22.3918 311.104 26.1996 Q307.904 29.967 307.904 36.4889 Q307.904 43.0514 311.104 46.8187 Q314.344 50.5861 319.854 50.5861 Z\" fill=\"#000000\" fill-rule=\"evenodd\" fill-opacity=\"1\" /><path clip-path=\"url(#clip430)\" d=\"M489.449 22.3918 Q483.129 22.3918 479.929 28.6302 Q476.769 34.8281 476.769 47.3049 Q476.769 59.7411 479.929 65.9795 Q483.129 72.1774 489.449 72.1774 Q495.809 72.1774 498.968 65.9795 Q502.169 59.7411 502.169 47.3049 Q502.169 34.8281 498.968 28.6302 Q495.809 22.3918 489.449 22.3918 M489.449 15.9104 Q499.617 15.9104 504.964 23.9716 Q510.351 31.9924 510.351 47.3049 Q510.351 62.5768 504.964 70.6381 Q499.617 78.6589 489.449 78.6589 Q479.281 78.6589 473.893 70.6381 Q468.546 62.5768 468.546 47.3049 Q468.546 31.9924 473.893 23.9716 Q479.281 15.9104 489.449 15.9104 Z\" fill=\"#000000\" fill-rule=\"evenodd\" fill-opacity=\"1\" /><path clip-path=\"url(#clip430)\" d=\"M710.551 22.3918 Q704.232 22.3918 701.032 28.6302 Q697.872 34.8281 697.872 47.3049 Q697.872 59.7411 701.032 65.9795 Q704.232 72.1774 710.551 72.1774 Q716.911 72.1774 720.071 65.9795 Q723.271 59.7411 723.271 47.3049 Q723.271 34.8281 720.071 28.6302 Q716.911 22.3918 710.551 22.3918 M710.551 15.9104 Q720.719 15.9104 726.066 23.9716 Q731.454 31.9924 731.454 47.3049 Q731.454 62.5768 726.066 70.6381 Q720.719 78.6589 710.551 78.6589 Q700.383 78.6589 694.996 70.6381 Q689.649 62.5768 689.649 47.3049 Q689.649 31.9924 694.996 23.9716 Q700.383 15.9104 710.551 15.9104 Z\" fill=\"#000000\" fill-rule=\"evenodd\" fill-opacity=\"1\" /><path clip-path=\"url(#clip430)\" d=\"M861.856 17.0041 L893.98 17.0041 L893.98 23.8906 L869.351 23.8906 L869.351 38.7169 Q871.133 38.1093 872.915 37.8257 Q874.698 37.5017 876.48 37.5017 Q886.607 37.5017 892.522 43.0514 Q898.436 48.6011 898.436 58.0803 Q898.436 67.8429 892.36 73.2712 Q886.283 78.6589 875.224 78.6589 Q871.417 78.6589 867.447 78.0107 Q863.517 77.3626 859.304 76.0663 L859.304 67.8429 Q862.95 69.8279 866.839 70.8001 Q870.728 71.7723 875.062 71.7723 Q882.07 71.7723 886.162 68.086 Q890.253 64.3997 890.253 58.0803 Q890.253 51.7609 886.162 48.0745 Q882.07 44.3882 875.062 44.3882 Q871.781 44.3882 868.5 45.1174 Q865.259 45.8465 861.856 47.3859 L861.856 17.0041 Z\" fill=\"#000000\" fill-rule=\"evenodd\" fill-opacity=\"1\" /><path clip-path=\"url(#clip430)\" d=\"M915.977 70.5976 L929.345 70.5976 L929.345 24.4578 L914.802 27.3744 L914.802 19.9207 L929.264 17.0041 L937.446 17.0041 L937.446 70.5976 L950.814 70.5976 L950.814 77.4841 L915.977 77.4841 L915.977 70.5976 Z\" fill=\"#000000\" fill-rule=\"evenodd\" fill-opacity=\"1\" /><path clip-path=\"url(#clip430)\" d=\"M967.423 17.0041 L999.547 17.0041 L999.547 23.8906 L974.917 23.8906 L974.917 38.7169 Q976.7 38.1093 978.482 37.8257 Q980.264 37.5017 982.047 37.5017 Q992.174 37.5017 998.088 43.0514 Q1004 48.6011 1004 58.0803 Q1004 67.8429 997.926 73.2712 Q991.85 78.6589 980.791 78.6589 Q976.983 78.6589 973.013 78.0107 Q969.084 77.3626 964.871 76.0663 L964.871 67.8429 Q968.517 69.8279 972.406 70.8001 Q976.295 71.7723 980.629 71.7723 Q987.637 71.7723 991.728 68.086 Q995.82 64.3997 995.82 58.0803 Q995.82 51.7609 991.728 48.0745 Q987.637 44.3882 980.629 44.3882 Q977.348 44.3882 974.067 45.1174 Q970.826 45.8465 967.423 47.3859 L967.423 17.0041 Z\" fill=\"#000000\" fill-rule=\"evenodd\" fill-opacity=\"1\" /></svg>\n"
      ]
     },
     "execution_count": 10,
     "metadata": {},
     "output_type": "execute_result"
    }
   ],
   "source": [
    "plotmeasure(measuredqubits)"
   ]
  }
 ],
 "metadata": {
  "kernelspec": {
   "display_name": "Julia 1.8.0",
   "language": "julia",
   "name": "julia-1.8"
  },
  "language_info": {
   "file_extension": ".jl",
   "mimetype": "application/julia",
   "name": "julia",
   "version": "1.8.0"
  }
 },
 "nbformat": 4,
 "nbformat_minor": 5
}
