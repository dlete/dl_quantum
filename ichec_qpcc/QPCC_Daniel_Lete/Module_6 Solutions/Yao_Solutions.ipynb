{
 "cells": [
  {
   "cell_type": "markdown",
   "id": "cee58cb5",
   "metadata": {},
   "source": [
    "# Yao \n",
    "\n",
    "\n",
    "- Import the necessary Yao packages"
   ]
  },
  {
   "cell_type": "code",
   "execution_count": 2,
   "id": "4ae925bf",
   "metadata": {},
   "outputs": [
    {
     "name": "stderr",
     "output_type": "stream",
     "text": [
      "\u001b[32m\u001b[1m  Activating\u001b[22m\u001b[39m new project at `/var/folders/82/9_h72ksj75n463kms2b_yf8c0000gq/T/jl_k5iQ4z`\n",
      "\u001b[32m\u001b[1m    Updating\u001b[22m\u001b[39m registry at `~/.julia/registries/General.toml`\n",
      "\u001b[32m\u001b[1m    Updating\u001b[22m\u001b[39m registry at `~/.julia/registries/General.toml`\n",
      "\u001b[32m\u001b[1m   Resolving\u001b[22m\u001b[39m package versions...\n",
      "\u001b[32m\u001b[1m    Updating\u001b[22m\u001b[39m `/private/var/folders/82/9_h72ksj75n463kms2b_yf8c0000gq/T/jl_k5iQ4z/Project.toml`\n",
      " \u001b[90m [5872b779] \u001b[39m\u001b[92m+ Yao v0.8.9\u001b[39m\n",
      "\u001b[32m\u001b[1m    Updating\u001b[22m\u001b[39m `/private/var/folders/82/9_h72ksj75n463kms2b_yf8c0000gq/T/jl_k5iQ4z/Manifest.toml`\n",
      " \u001b[90m [79e6a3ab] \u001b[39m\u001b[92m+ Adapt v3.6.1\u001b[39m\n",
      " \u001b[90m [4fba245c] \u001b[39m\u001b[92m+ ArrayInterface v7.4.3\u001b[39m\n",
      " \u001b[90m [50ba71b6] \u001b[39m\u001b[92m+ BitBasis v0.8.1\u001b[39m\n",
      " \u001b[90m [a921213e] \u001b[39m\u001b[92m+ CacheServers v0.2.0\u001b[39m\n",
      " \u001b[90m [d360d2e6] \u001b[39m\u001b[92m+ ChainRulesCore v1.15.7\u001b[39m\n",
      " \u001b[90m [9e997f8a] \u001b[39m\u001b[92m+ ChangesOfVariables v0.1.6\u001b[39m\n",
      " \u001b[90m [34da2185] \u001b[39m\u001b[92m+ Compat v4.6.1\u001b[39m\n",
      " \u001b[90m [9a962f9c] \u001b[39m\u001b[92m+ DataAPI v1.14.0\u001b[39m\n",
      " \u001b[90m [864edb3b] \u001b[39m\u001b[92m+ DataStructures v0.18.13\u001b[39m\n",
      " \u001b[90m [ffbed154] \u001b[39m\u001b[92m+ DocStringExtensions v0.9.3\u001b[39m\n",
      " \u001b[90m [d4d017d3] \u001b[39m\u001b[92m+ ExponentialUtilities v1.24.0\u001b[39m\n",
      " \u001b[90m [46192b85] \u001b[39m\u001b[92m+ GPUArraysCore v0.1.4\u001b[39m\n",
      " \u001b[90m [c145ed77] \u001b[39m\u001b[92m+ GenericSchur v0.5.3\u001b[39m\n",
      " \u001b[90m [3587e190] \u001b[39m\u001b[92m+ InverseFunctions v0.1.8\u001b[39m\n",
      " \u001b[90m [92d709cd] \u001b[39m\u001b[92m+ IrrationalConstants v0.2.2\u001b[39m\n",
      " \u001b[90m [f1f30506] \u001b[39m\u001b[92m+ LegibleLambdas v0.3.0\u001b[39m\n",
      " \u001b[90m [2ab3a3ac] \u001b[39m\u001b[92m+ LogExpFunctions v0.3.23\u001b[39m\n",
      " \u001b[90m [d05aeea4] \u001b[39m\u001b[92m+ LuxurySparse v0.7.1\u001b[39m\n",
      " \u001b[90m [d8e11817] \u001b[39m\u001b[92m+ MLStyle v0.4.17\u001b[39m\n",
      " \u001b[90m [1914dd2f] \u001b[39m\u001b[92m+ MacroTools v0.5.10\u001b[39m\n",
      " \u001b[90m [e1d29d7a] \u001b[39m\u001b[92m+ Missings v1.1.0\u001b[39m\n",
      " \u001b[90m [bac558e1] \u001b[39m\u001b[92m+ OrderedCollections v1.6.0\u001b[39m\n",
      " \u001b[90m [21216c6a] \u001b[39m\u001b[92m+ Preferences v1.3.0\u001b[39m\n",
      " \u001b[90m [189a3867] \u001b[39m\u001b[92m+ Reexport v1.2.2\u001b[39m\n",
      " \u001b[90m [ae029012] \u001b[39m\u001b[92m+ Requires v1.3.0\u001b[39m\n",
      " \u001b[90m [66db9d55] \u001b[39m\u001b[92m+ SnoopPrecompile v1.0.3\u001b[39m\n",
      " \u001b[90m [a2af1166] \u001b[39m\u001b[92m+ SortingAlgorithms v1.1.0\u001b[39m\n",
      " \u001b[90m [90137ffa] \u001b[39m\u001b[92m+ StaticArrays v1.5.21\u001b[39m\n",
      " \u001b[90m [1e83bf80] \u001b[39m\u001b[92m+ StaticArraysCore v1.4.0\u001b[39m\n",
      " \u001b[90m [82ae8749] \u001b[39m\u001b[92m+ StatsAPI v1.6.0\u001b[39m\n",
      " \u001b[90m [2913bbd2] \u001b[39m\u001b[92m+ StatsBase v0.33.21\u001b[39m\n",
      " \u001b[90m [9d95972d] \u001b[39m\u001b[92m+ TupleTools v1.3.0\u001b[39m\n",
      " \u001b[90m [5872b779] \u001b[39m\u001b[92m+ Yao v0.8.9\u001b[39m\n",
      " \u001b[90m [0843a435] \u001b[39m\u001b[92m+ YaoAPI v0.4.6\u001b[39m\n",
      " \u001b[90m [e600142f] \u001b[39m\u001b[92m+ YaoArrayRegister v0.9.6\u001b[39m\n",
      " \u001b[90m [418bc28f] \u001b[39m\u001b[92m+ YaoBlocks v0.13.8\u001b[39m\n",
      " \u001b[90m [3b27209a] \u001b[39m\u001b[92m+ YaoSym v0.6.5\u001b[39m\n",
      " \u001b[90m [56f22d72] \u001b[39m\u001b[92m+ Artifacts\u001b[39m\n",
      " \u001b[90m [2a0f44e3] \u001b[39m\u001b[92m+ Base64\u001b[39m\n",
      " \u001b[90m [ade2ca70] \u001b[39m\u001b[92m+ Dates\u001b[39m\n",
      " \u001b[90m [8ba89e20] \u001b[39m\u001b[92m+ Distributed\u001b[39m\n",
      " \u001b[90m [b77e0a4c] \u001b[39m\u001b[92m+ InteractiveUtils\u001b[39m\n",
      " \u001b[90m [76f85450] \u001b[39m\u001b[92m+ LibGit2\u001b[39m\n",
      " \u001b[90m [8f399da3] \u001b[39m\u001b[92m+ Libdl\u001b[39m\n",
      " \u001b[90m [37e2e46d] \u001b[39m\u001b[92m+ LinearAlgebra\u001b[39m\n",
      " \u001b[90m [56ddb016] \u001b[39m\u001b[92m+ Logging\u001b[39m\n",
      " \u001b[90m [d6f4376e] \u001b[39m\u001b[92m+ Markdown\u001b[39m\n",
      " \u001b[90m [ca575930] \u001b[39m\u001b[92m+ NetworkOptions v1.2.0\u001b[39m\n",
      " \u001b[90m [de0858da] \u001b[39m\u001b[92m+ Printf\u001b[39m\n",
      " \u001b[90m [9a3f8284] \u001b[39m\u001b[92m+ Random\u001b[39m\n",
      " \u001b[90m [ea8e919c] \u001b[39m\u001b[92m+ SHA v0.7.0\u001b[39m\n",
      " \u001b[90m [9e88b42a] \u001b[39m\u001b[92m+ Serialization\u001b[39m\n",
      " \u001b[90m [6462fe0b] \u001b[39m\u001b[92m+ Sockets\u001b[39m\n",
      " \u001b[90m [2f01184e] \u001b[39m\u001b[92m+ SparseArrays\u001b[39m\n",
      " \u001b[90m [10745b16] \u001b[39m\u001b[92m+ Statistics\u001b[39m\n",
      " \u001b[90m [4607b0f0] \u001b[39m\u001b[92m+ SuiteSparse\u001b[39m\n",
      " \u001b[90m [fa267f1f] \u001b[39m\u001b[92m+ TOML v1.0.0\u001b[39m\n",
      " \u001b[90m [8dfed614] \u001b[39m\u001b[92m+ Test\u001b[39m\n",
      " \u001b[90m [cf7118a7] \u001b[39m\u001b[92m+ UUIDs\u001b[39m\n",
      " \u001b[90m [4ec0a83e] \u001b[39m\u001b[92m+ Unicode\u001b[39m\n",
      " \u001b[90m [e66e0078] \u001b[39m\u001b[92m+ CompilerSupportLibraries_jll v0.5.2+0\u001b[39m\n",
      " \u001b[90m [4536629a] \u001b[39m\u001b[92m+ OpenBLAS_jll v0.3.20+0\u001b[39m\n",
      " \u001b[90m [8e850b90] \u001b[39m\u001b[92m+ libblastrampoline_jll v5.1.1+0\u001b[39m\n",
      "\u001b[32m\u001b[1m   Resolving\u001b[22m\u001b[39m package versions...\n",
      "\u001b[32m\u001b[1m    Updating\u001b[22m\u001b[39m `/private/var/folders/82/9_h72ksj75n463kms2b_yf8c0000gq/T/jl_k5iQ4z/Project.toml`\n",
      " \u001b[90m [32cfe2d9] \u001b[39m\u001b[92m+ YaoPlots v0.8.1\u001b[39m\n",
      "\u001b[32m\u001b[1m    Updating\u001b[22m\u001b[39m `/private/var/folders/82/9_h72ksj75n463kms2b_yf8c0000gq/T/jl_k5iQ4z/Manifest.toml`\n",
      " \u001b[90m [159f3aea] \u001b[39m\u001b[92m+ Cairo v1.0.5\u001b[39m\n",
      " \u001b[90m [3da002f7] \u001b[39m\u001b[92m+ ColorTypes v0.11.4\u001b[39m\n",
      " \u001b[90m [5ae59095] \u001b[39m\u001b[92m+ Colors v0.12.10\u001b[39m\n",
      " \u001b[90m [c87230d0] \u001b[39m\u001b[92m+ FFMPEG v0.4.1\u001b[39m\n",
      " \u001b[90m [5789e2e9] \u001b[39m\u001b[92m+ FileIO v1.16.0\u001b[39m\n",
      " \u001b[90m [53c48c17] \u001b[39m\u001b[92m+ FixedPointNumbers v0.8.4\u001b[39m\n",
      " \u001b[90m [a2bd30eb] \u001b[39m\u001b[92m+ Graphics v1.1.2\u001b[39m\n",
      " \u001b[90m [692b3bcd] \u001b[39m\u001b[92m+ JLLWrappers v1.4.1\u001b[39m\n",
      " \u001b[90m [e5e0dc1b] \u001b[39m\u001b[92m+ Juno v0.8.4\u001b[39m\n",
      " \u001b[90m [b964fa9f] \u001b[39m\u001b[92m+ LaTeXStrings v1.3.0\u001b[39m\n",
      " \u001b[90m [ae8d54c2] \u001b[39m\u001b[92m+ Luxor v3.7.0\u001b[39m\n",
      " \u001b[90m [e89f7d12] \u001b[39m\u001b[92m+ Media v0.5.0\u001b[39m\n",
      " \u001b[90m [77ba4419] \u001b[39m\u001b[92m+ NaNMath v1.0.2\u001b[39m\n",
      " \u001b[90m [c4c386cf] \u001b[39m\u001b[92m+ Rsvg v1.0.0\u001b[39m\n",
      " \u001b[90m [32cfe2d9] \u001b[39m\u001b[92m+ YaoPlots v0.8.1\u001b[39m\n",
      " \u001b[90m [6e34b625] \u001b[39m\u001b[92m+ Bzip2_jll v1.0.8+0\u001b[39m\n",
      " \u001b[90m [83423d85] \u001b[39m\u001b[92m+ Cairo_jll v1.16.1+1\u001b[39m\n",
      " \u001b[90m [2e619515] \u001b[39m\u001b[92m+ Expat_jll v2.4.8+0\u001b[39m\n",
      " \u001b[90m [b22a6f82] \u001b[39m\u001b[92m+ FFMPEG_jll v4.4.2+2\u001b[39m\n",
      " \u001b[90m [a3f928ae] \u001b[39m\u001b[92m+ Fontconfig_jll v2.13.93+0\u001b[39m\n",
      " \u001b[90m [d7e528f0] \u001b[39m\u001b[92m+ FreeType2_jll v2.10.4+0\u001b[39m\n",
      " \u001b[90m [559328eb] \u001b[39m\u001b[92m+ FriBidi_jll v1.0.10+0\u001b[39m\n",
      " \u001b[90m [78b55507] \u001b[39m\u001b[92m+ Gettext_jll v0.21.0+0\u001b[39m\n",
      " \u001b[90m [7746bdde] \u001b[39m\u001b[92m+ Glib_jll v2.74.0+2\u001b[39m\n",
      " \u001b[90m [3b182d85] \u001b[39m\u001b[92m+ Graphite2_jll v1.3.14+0\u001b[39m\n",
      " \u001b[90m [2e76f6c2] \u001b[39m\u001b[92m+ HarfBuzz_jll v2.8.1+1\u001b[39m\n",
      " \u001b[90m [aacddb02] \u001b[39m\u001b[92m+ JpegTurbo_jll v2.1.91+0\u001b[39m\n",
      " \u001b[90m [c1c5ebd0] \u001b[39m\u001b[92m+ LAME_jll v3.100.1+0\u001b[39m\n",
      " \u001b[90m [88015f11] \u001b[39m\u001b[92m+ LERC_jll v3.0.0+1\u001b[39m\n",
      " \u001b[90m [dd4b983a] \u001b[39m\u001b[92m+ LZO_jll v2.10.1+0\u001b[39m\n",
      "\u001b[33m⌅\u001b[39m\u001b[90m [e9f186c6] \u001b[39m\u001b[92m+ Libffi_jll v3.2.2+1\u001b[39m\n",
      " \u001b[90m [d4300ac3] \u001b[39m\u001b[92m+ Libgcrypt_jll v1.8.7+0\u001b[39m\n",
      " \u001b[90m [7add5ba3] \u001b[39m\u001b[92m+ Libgpg_error_jll v1.42.0+0\u001b[39m\n",
      " \u001b[90m [94ce4f54] \u001b[39m\u001b[92m+ Libiconv_jll v1.16.1+2\u001b[39m\n",
      " \u001b[90m [4b2f31a3] \u001b[39m\u001b[92m+ Libmount_jll v2.35.0+0\u001b[39m\n",
      " \u001b[90m [925c91fb] \u001b[39m\u001b[92m+ Librsvg_jll v2.54.5+0\u001b[39m\n",
      " \u001b[90m [89763e89] \u001b[39m\u001b[92m+ Libtiff_jll v4.4.0+0\u001b[39m\n",
      " \u001b[90m [38a345b3] \u001b[39m\u001b[92m+ Libuuid_jll v2.36.0+0\u001b[39m\n",
      " \u001b[90m [e7412a2a] \u001b[39m\u001b[92m+ Ogg_jll v1.3.5+1\u001b[39m\n",
      "\u001b[33m⌅\u001b[39m\u001b[90m [458c3c95] \u001b[39m\u001b[92m+ OpenSSL_jll v1.1.20+0\u001b[39m\n",
      " \u001b[90m [91d4177d] \u001b[39m\u001b[92m+ Opus_jll v1.3.2+0\u001b[39m\n",
      " \u001b[90m [36c8627f] \u001b[39m\u001b[92m+ Pango_jll v1.50.9+0\u001b[39m\n",
      " \u001b[90m [30392449] \u001b[39m\u001b[92m+ Pixman_jll v0.40.1+0\u001b[39m\n",
      " \u001b[90m [02c8fc9c] \u001b[39m\u001b[92m+ XML2_jll v2.10.3+0\u001b[39m\n",
      " \u001b[90m [aed1982a] \u001b[39m\u001b[92m+ XSLT_jll v1.1.34+0\u001b[39m\n",
      " \u001b[90m [4f6342f7] \u001b[39m\u001b[92m+ Xorg_libX11_jll v1.6.9+4\u001b[39m\n",
      " \u001b[90m [0c0b7dd1] \u001b[39m\u001b[92m+ Xorg_libXau_jll v1.0.9+4\u001b[39m\n",
      " \u001b[90m [a3789734] \u001b[39m\u001b[92m+ Xorg_libXdmcp_jll v1.1.3+4\u001b[39m\n",
      " \u001b[90m [1082639a] \u001b[39m\u001b[92m+ Xorg_libXext_jll v1.3.4+4\u001b[39m\n",
      " \u001b[90m [ea2f1a96] \u001b[39m\u001b[92m+ Xorg_libXrender_jll v0.9.10+4\u001b[39m\n",
      " \u001b[90m [14d82f49] \u001b[39m\u001b[92m+ Xorg_libpthread_stubs_jll v0.1.0+3\u001b[39m\n",
      " \u001b[90m [c7cfdc94] \u001b[39m\u001b[92m+ Xorg_libxcb_jll v1.13.0+3\u001b[39m\n",
      " \u001b[90m [c5fb5394] \u001b[39m\u001b[92m+ Xorg_xtrans_jll v1.4.0+3\u001b[39m\n",
      " \u001b[90m [3161d3a3] \u001b[39m\u001b[92m+ Zstd_jll v1.5.5+0\u001b[39m\n",
      " \u001b[90m [da03df04] \u001b[39m\u001b[92m+ gdk_pixbuf_jll v2.42.8+0\u001b[39m\n",
      " \u001b[90m [a4ae2306] \u001b[39m\u001b[92m+ libaom_jll v3.4.0+0\u001b[39m\n",
      " \u001b[90m [0ac62f75] \u001b[39m\u001b[92m+ libass_jll v0.15.1+0\u001b[39m\n",
      " \u001b[90m [f638f0a6] \u001b[39m\u001b[92m+ libfdk_aac_jll v2.0.2+0\u001b[39m\n",
      " \u001b[90m [b53b4c65] \u001b[39m\u001b[92m+ libpng_jll v1.6.38+0\u001b[39m\n",
      " \u001b[90m [f27f6e37] \u001b[39m\u001b[92m+ libvorbis_jll v1.3.7+1\u001b[39m\n",
      " \u001b[90m [1270edf5] \u001b[39m\u001b[92m+ x264_jll v2021.5.5+0\u001b[39m\n",
      " \u001b[90m [dfaa095f] \u001b[39m\u001b[92m+ x265_jll v3.5.0+0\u001b[39m\n",
      " \u001b[90m [0dad84c5] \u001b[39m\u001b[92m+ ArgTools v1.1.1\u001b[39m\n",
      " \u001b[90m [f43a241f] \u001b[39m\u001b[92m+ Downloads v1.6.0\u001b[39m\n",
      " \u001b[90m [7b1f6079] \u001b[39m\u001b[92m+ FileWatching\u001b[39m\n",
      " \u001b[90m [b27032c2] \u001b[39m\u001b[92m+ LibCURL v0.6.3\u001b[39m\n",
      " \u001b[90m [44cfe95a] \u001b[39m\u001b[92m+ Pkg v1.8.0\u001b[39m\n",
      " \u001b[90m [9abbd945] \u001b[39m\u001b[92m+ Profile\u001b[39m\n",
      " \u001b[90m [3fa0cd96] \u001b[39m\u001b[92m+ REPL\u001b[39m\n",
      " \u001b[90m [a4e569a6] \u001b[39m\u001b[92m+ Tar v1.10.0\u001b[39m\n",
      " \u001b[90m [deac9b47] \u001b[39m\u001b[92m+ LibCURL_jll v7.84.0+0\u001b[39m\n",
      " \u001b[90m [29816b5a] \u001b[39m\u001b[92m+ LibSSH2_jll v1.10.2+0\u001b[39m\n",
      " \u001b[90m [c8ffd9c3] \u001b[39m\u001b[92m+ MbedTLS_jll v2.28.0+0\u001b[39m\n",
      " \u001b[90m [14a3606d] \u001b[39m\u001b[92m+ MozillaCACerts_jll v2022.2.1\u001b[39m\n",
      " \u001b[90m [05823500] \u001b[39m\u001b[92m+ OpenLibm_jll v0.8.1+0\u001b[39m\n",
      " \u001b[90m [efcefdf7] \u001b[39m\u001b[92m+ PCRE2_jll v10.40.0+0\u001b[39m\n",
      " \u001b[90m [83775a58] \u001b[39m\u001b[92m+ Zlib_jll v1.2.12+3\u001b[39m\n",
      " \u001b[90m [8e850ede] \u001b[39m\u001b[92m+ nghttp2_jll v1.48.0+0\u001b[39m\n",
      " \u001b[90m [3f19e933] \u001b[39m\u001b[92m+ p7zip_jll v17.4.0+0\u001b[39m\n",
      "\u001b[36m\u001b[1m        Info\u001b[22m\u001b[39m Packages marked with \u001b[33m⌅\u001b[39m have new versions available but cannot be upgraded. To see why use `status --outdated -m`\n"
     ]
    },
    {
     "name": "stderr",
     "output_type": "stream",
     "text": [
      "\u001b[32m\u001b[1m   Resolving\u001b[22m\u001b[39m package versions...\n",
      "\u001b[32m\u001b[1m    Updating\u001b[22m\u001b[39m `/private/var/folders/82/9_h72ksj75n463kms2b_yf8c0000gq/T/jl_k5iQ4z/Project.toml`\n",
      " \u001b[90m [2913bbd2] \u001b[39m\u001b[92m+ StatsBase v0.33.21\u001b[39m\n",
      "\u001b[32m\u001b[1m  No Changes\u001b[22m\u001b[39m to `/private/var/folders/82/9_h72ksj75n463kms2b_yf8c0000gq/T/jl_k5iQ4z/Manifest.toml`\n",
      "\u001b[32m\u001b[1m   Resolving\u001b[22m\u001b[39m package versions...\n",
      "\u001b[32m\u001b[1m    Updating\u001b[22m\u001b[39m `/private/var/folders/82/9_h72ksj75n463kms2b_yf8c0000gq/T/jl_k5iQ4z/Project.toml`\n",
      " \u001b[90m [91a5bcdd] \u001b[39m\u001b[92m+ Plots v1.38.10\u001b[39m\n",
      "\u001b[32m\u001b[1m    Updating\u001b[22m\u001b[39m `/private/var/folders/82/9_h72ksj75n463kms2b_yf8c0000gq/T/jl_k5iQ4z/Manifest.toml`\n",
      " \u001b[90m [d1d4a3ce] \u001b[39m\u001b[92m+ BitFlags v0.1.7\u001b[39m\n",
      " \u001b[90m [944b1d66] \u001b[39m\u001b[92m+ CodecZlib v0.7.1\u001b[39m\n",
      " \u001b[90m [35d6a980] \u001b[39m\u001b[92m+ ColorSchemes v3.20.0\u001b[39m\n",
      " \u001b[90m [c3611d14] \u001b[39m\u001b[92m+ ColorVectorSpace v0.9.10\u001b[39m\n",
      " \u001b[90m [d38c429a] \u001b[39m\u001b[92m+ Contour v0.6.2\u001b[39m\n",
      " \u001b[90m [59287772] \u001b[39m\u001b[92m+ Formatting v0.4.2\u001b[39m\n",
      " \u001b[90m [28b8d3ca] \u001b[39m\u001b[92m+ GR v0.72.1\u001b[39m\n",
      " \u001b[90m [42e2da0e] \u001b[39m\u001b[92m+ Grisu v1.0.2\u001b[39m\n",
      " \u001b[90m [cd3eb016] \u001b[39m\u001b[92m+ HTTP v1.7.4\u001b[39m\n",
      " \u001b[90m [83e8ac13] \u001b[39m\u001b[92m+ IniFile v0.5.1\u001b[39m\n",
      " \u001b[90m [1019f520] \u001b[39m\u001b[92m+ JLFzf v0.1.5\u001b[39m\n",
      " \u001b[90m [682c06a0] \u001b[39m\u001b[92m+ JSON v0.21.4\u001b[39m\n",
      " \u001b[90m [23fbe1c1] \u001b[39m\u001b[92m+ Latexify v0.15.19\u001b[39m\n",
      " \u001b[90m [e6f89c97] \u001b[39m\u001b[92m+ LoggingExtras v1.0.0\u001b[39m\n",
      " \u001b[90m [739be429] \u001b[39m\u001b[92m+ MbedTLS v1.1.7\u001b[39m\n",
      " \u001b[90m [442fdcdd] \u001b[39m\u001b[92m+ Measures v0.3.2\u001b[39m\n",
      " \u001b[90m [4d8831e6] \u001b[39m\u001b[92m+ OpenSSL v1.3.5\u001b[39m\n",
      " \u001b[90m [69de0a69] \u001b[39m\u001b[92m+ Parsers v2.5.8\u001b[39m\n",
      " \u001b[90m [b98c9c47] \u001b[39m\u001b[92m+ Pipe v1.3.0\u001b[39m\n",
      " \u001b[90m [ccf2f8ad] \u001b[39m\u001b[92m+ PlotThemes v3.1.0\u001b[39m\n",
      " \u001b[90m [995b91a9] \u001b[39m\u001b[92m+ PlotUtils v1.3.4\u001b[39m\n",
      " \u001b[90m [91a5bcdd] \u001b[39m\u001b[92m+ Plots v1.38.10\u001b[39m\n",
      " \u001b[90m [3cdcf5f2] \u001b[39m\u001b[92m+ RecipesBase v1.3.3\u001b[39m\n",
      " \u001b[90m [01d81517] \u001b[39m\u001b[92m+ RecipesPipeline v0.6.11\u001b[39m\n",
      " \u001b[90m [05181044] \u001b[39m\u001b[92m+ RelocatableFolders v1.0.0\u001b[39m\n",
      " \u001b[90m [6c6a2e73] \u001b[39m\u001b[92m+ Scratch v1.2.0\u001b[39m\n",
      " \u001b[90m [992d4aef] \u001b[39m\u001b[92m+ Showoff v1.0.3\u001b[39m\n",
      " \u001b[90m [777ac1f9] \u001b[39m\u001b[92m+ SimpleBufferStream v1.1.0\u001b[39m\n",
      " \u001b[90m [276daf66] \u001b[39m\u001b[92m+ SpecialFunctions v2.2.0\u001b[39m\n",
      " \u001b[90m [62fd8b95] \u001b[39m\u001b[92m+ TensorCore v0.1.1\u001b[39m\n",
      " \u001b[90m [3bb67fe8] \u001b[39m\u001b[92m+ TranscodingStreams v0.9.12\u001b[39m\n",
      " \u001b[90m [5c2747f8] \u001b[39m\u001b[92m+ URIs v1.4.2\u001b[39m\n",
      " \u001b[90m [1cfade01] \u001b[39m\u001b[92m+ UnicodeFun v0.4.1\u001b[39m\n",
      " \u001b[90m [41fe7b60] \u001b[39m\u001b[92m+ Unzip v0.2.0\u001b[39m\n",
      " \u001b[90m [0656b61e] \u001b[39m\u001b[92m+ GLFW_jll v3.3.8+0\u001b[39m\n",
      "\u001b[33m⌅\u001b[39m\u001b[90m [d2c73de3] \u001b[39m\u001b[92m+ GR_jll v0.72.1+1\u001b[39m\n",
      " \u001b[90m [7e76a0d4] \u001b[39m\u001b[92m+ Libglvnd_jll v1.6.0+0\u001b[39m\n",
      " \u001b[90m [efe28fd5] \u001b[39m\u001b[92m+ OpenSpecFun_jll v0.5.5+0\u001b[39m\n",
      " \u001b[90m [ea2cea3b] \u001b[39m\u001b[92m+ Qt5Base_jll v5.15.3+2\u001b[39m\n",
      " \u001b[90m [a2964d1f] \u001b[39m\u001b[92m+ Wayland_jll v1.21.0+0\u001b[39m\n",
      " \u001b[90m [2381bf8a] \u001b[39m\u001b[92m+ Wayland_protocols_jll v1.25.0+0\u001b[39m\n",
      " \u001b[90m [935fb764] \u001b[39m\u001b[92m+ Xorg_libXcursor_jll v1.2.0+4\u001b[39m\n",
      " \u001b[90m [d091e8ba] \u001b[39m\u001b[92m+ Xorg_libXfixes_jll v5.0.3+4\u001b[39m\n",
      " \u001b[90m [a51aa0fd] \u001b[39m\u001b[92m+ Xorg_libXi_jll v1.7.10+4\u001b[39m\n",
      " \u001b[90m [d1454406] \u001b[39m\u001b[92m+ Xorg_libXinerama_jll v1.1.4+4\u001b[39m\n",
      " \u001b[90m [ec84b674] \u001b[39m\u001b[92m+ Xorg_libXrandr_jll v1.5.2+4\u001b[39m\n",
      " \u001b[90m [cc61e674] \u001b[39m\u001b[92m+ Xorg_libxkbfile_jll v1.1.0+4\u001b[39m\n",
      " \u001b[90m [12413925] \u001b[39m\u001b[92m+ Xorg_xcb_util_image_jll v0.4.0+1\u001b[39m\n",
      " \u001b[90m [2def613f] \u001b[39m\u001b[92m+ Xorg_xcb_util_jll v0.4.0+1\u001b[39m\n",
      " \u001b[90m [975044d2] \u001b[39m\u001b[92m+ Xorg_xcb_util_keysyms_jll v0.4.0+1\u001b[39m\n",
      " \u001b[90m [0d47668e] \u001b[39m\u001b[92m+ Xorg_xcb_util_renderutil_jll v0.3.9+1\u001b[39m\n",
      " \u001b[90m [c22f9ab0] \u001b[39m\u001b[92m+ Xorg_xcb_util_wm_jll v0.4.1+1\u001b[39m\n",
      " \u001b[90m [35661453] \u001b[39m\u001b[92m+ Xorg_xkbcomp_jll v1.4.2+4\u001b[39m\n",
      " \u001b[90m [33bec58e] \u001b[39m\u001b[92m+ Xorg_xkeyboard_config_jll v2.27.0+4\u001b[39m\n",
      "\u001b[33m⌅\u001b[39m\u001b[90m [214eeab7] \u001b[39m\u001b[92m+ fzf_jll v0.29.0+0\u001b[39m\n",
      " \u001b[90m [d8fb68d0] \u001b[39m\u001b[92m+ xkbcommon_jll v1.4.1+0\u001b[39m\n",
      " \u001b[90m [8bb1440f] \u001b[39m\u001b[92m+ DelimitedFiles\u001b[39m\n",
      " \u001b[90m [a63ad114] \u001b[39m\u001b[92m+ Mmap\u001b[39m\n",
      "\u001b[36m\u001b[1m        Info\u001b[22m\u001b[39m Packages marked with \u001b[33m⌅\u001b[39m have new versions available but cannot be upgraded. To see why use `status --outdated -m`\n",
      "\u001b[32m\u001b[1m   Resolving\u001b[22m\u001b[39m package versions...\n",
      "\u001b[32m\u001b[1m    Updating\u001b[22m\u001b[39m `/private/var/folders/82/9_h72ksj75n463kms2b_yf8c0000gq/T/jl_k5iQ4z/Project.toml`\n",
      " \u001b[90m [50ba71b6] \u001b[39m\u001b[92m+ BitBasis v0.8.1\u001b[39m\n",
      "\u001b[32m\u001b[1m  No Changes\u001b[22m\u001b[39m to `/private/var/folders/82/9_h72ksj75n463kms2b_yf8c0000gq/T/jl_k5iQ4z/Manifest.toml`\n"
     ]
    }
   ],
   "source": [
    "begin\n",
    "\tusing Pkg\n",
    "\tPkg.activate(mktempdir())\n",
    "\tPkg.Registry.update()\n",
    "\tPkg.add(\"Yao\")\n",
    "\tPkg.add(\"YaoPlots\")\n",
    "\tPkg.add(\"StatsBase\")\n",
    "\tPkg.add(\"Plots\")\n",
    "\tPkg.add(\"BitBasis\")\n",
    "end"
   ]
  },
  {
   "cell_type": "code",
   "execution_count": 3,
   "id": "5377feeb",
   "metadata": {},
   "outputs": [],
   "source": [
    "using Yao, YaoPlots"
   ]
  },
  {
   "cell_type": "markdown",
   "id": "32804c59",
   "metadata": {},
   "source": [
    "- First create a histogram function to represent measurements"
   ]
  },
  {
   "cell_type": "code",
   "execution_count": 4,
   "id": "3ead31e9",
   "metadata": {},
   "outputs": [
    {
     "data": {
      "text/plain": [
       "plotmeasure (generic function with 1 method)"
      ]
     },
     "execution_count": 4,
     "metadata": {},
     "output_type": "execute_result"
    }
   ],
   "source": [
    "begin\n",
    "\tusing StatsBase: Histogram, fit\n",
    "\tusing Plots: bar, scatter!, gr; gr()\n",
    "\tusing BitBasis\n",
    "\tfunction plotmeasure(x::Array{BitStr{n,Int},1}) where n\n",
    "\t\thist = fit(Histogram, Int.(x), 0:2^n)\n",
    "\t\tx = 0\n",
    "\t\tif(n<=3)\n",
    "\t\t\ts=8\n",
    "\t\telseif(n>3 && n<=6)\n",
    "\t\t\ts=5\n",
    "\t\telseif(n>6 && n<=10)\n",
    "\t\t\ts=3.2\n",
    "\t\telseif(n>10 && n<=15)\n",
    "\t\t\ts=2\n",
    "\t\telseif(n>15)\n",
    "\t\t\ts=1\n",
    "\t\tend\n",
    "\t\tbar(hist.edges[1] .- 0.5, hist.weights, legend=:none, size=(600*(2^n)/s,400), ylims=((-1,maximum(hist.weights))), xlims=((-1,2^n)), grid=:false, ticks=false, border=:none, color=:lightblue, lc=:lightblue)\n",
    "\t\tscatter!(0:2^n-1, ones(2^n,1), markersize=0,\n",
    "         series_annotations=\"|\" .* string.(hist.edges[1]; base=2, pad=n) .* \"⟩\")\n",
    "\t\tscatter!(0:2^n-1, zeros(2^n,1) .+ maximum(hist.weights), markersize=0,\n",
    "         series_annotations=string.(hist.weights))\n",
    "\tend\n",
    "end"
   ]
  },
  {
   "cell_type": "markdown",
   "id": "dbfc1708",
   "metadata": {},
   "source": [
    "\n",
    "## First Bell State\n",
    "\n",
    "## 1/sqrt(2) * ( |00⟩ + |11⟩ )"
   ]
  },
  {
   "cell_type": "markdown",
   "id": "e1371fb5",
   "metadata": {},
   "source": [
    "- Define the quantum circuit\n",
    "- Plot the circuit"
   ]
  },
  {
   "cell_type": "code",
   "execution_count": 5,
   "id": "991824cb",
   "metadata": {},
   "outputs": [
    {
     "data": {
      "image/svg+xml": [
       "<?xml version=\"1.0\" encoding=\"UTF-8\"?>\n",
       "<svg xmlns=\"http://www.w3.org/2000/svg\" xmlns:xlink=\"http://www.w3.org/1999/xlink\" width=\"153pt\" height=\"90pt\" viewBox=\"0 0 153 90\" version=\"1.1\">\n",
       "<defs>\n",
       "<g>\n",
       "<symbol overflow=\"visible\" id=\"glyph-6668620-0\">\n",
       "<path style=\"stroke:none;\" d=\"M 0.796875 2.828125 L 0.796875 -11.28125 L 8.796875 -11.28125 L 8.796875 2.828125 Z M 1.695312 1.9375 L 7.90625 1.9375 L 7.90625 -10.382812 L 1.695312 -10.382812 Z M 1.695312 1.9375 \"/>\n",
       "</symbol>\n",
       "<symbol overflow=\"visible\" id=\"glyph-6668620-1\">\n",
       "<path style=\"stroke:none;\" d=\"M 2.929688 -1.101562 L 3.453125 -1.101562 C 3.761719 -1.101562 3.976562 -1.058594 4.101562 -0.976562 C 4.226562 -0.894531 4.289062 -0.753906 4.289062 -0.5625 C 4.289062 -0.347656 4.234375 -0.203125 4.125 -0.121094 C 4.015625 -0.0390625 3.777344 0 3.40625 0 L 1.34375 0 C 1.152344 0 1.007812 -0.046875 0.910156 -0.140625 C 0.8125 -0.234375 0.765625 -0.375 0.765625 -0.5625 C 0.765625 -0.765625 0.820312 -0.90625 0.933594 -0.984375 C 1.046875 -1.0625 1.257812 -1.101562 1.570312 -1.101562 L 1.710938 -1.101562 L 1.710938 -8.140625 L 1.585938 -8.140625 C 1.273438 -8.140625 1.058594 -8.183594 0.941406 -8.265625 C 0.824219 -8.347656 0.765625 -8.496094 0.765625 -8.703125 C 0.765625 -8.894531 0.8125 -9.039062 0.910156 -9.128906 C 1.007812 -9.21875 1.15625 -9.265625 1.359375 -9.265625 L 3.328125 -9.265625 C 3.746094 -9.265625 4.007812 -9.226562 4.121094 -9.144531 C 4.234375 -9.0625 4.289062 -8.917969 4.289062 -8.703125 C 4.289062 -8.496094 4.21875 -8.347656 4.078125 -8.265625 C 3.9375 -8.183594 3.671875 -8.140625 3.28125 -8.140625 L 2.929688 -8.140625 L 2.929688 -5.421875 L 6.671875 -5.421875 L 6.671875 -8.140625 L 6.140625 -8.140625 C 5.84375 -8.140625 5.632812 -8.183594 5.503906 -8.273438 C 5.375 -8.363281 5.3125 -8.503906 5.3125 -8.703125 C 5.3125 -8.917969 5.371094 -9.0625 5.488281 -9.144531 C 5.605469 -9.226562 5.894531 -9.265625 6.351562 -9.265625 L 8.257812 -9.265625 C 8.445312 -9.265625 8.585938 -9.21875 8.683594 -9.125 C 8.78125 -9.03125 8.828125 -8.890625 8.828125 -8.703125 C 8.828125 -8.5 8.773438 -8.355469 8.664062 -8.269531 C 8.554688 -8.183594 8.359375 -8.140625 8.078125 -8.140625 L 7.890625 -8.140625 L 7.890625 -1.101562 L 8.015625 -1.101562 C 8.328125 -1.101562 8.542969 -1.0625 8.65625 -0.980469 C 8.769531 -0.898438 8.828125 -0.761719 8.828125 -0.5625 C 8.828125 -0.347656 8.773438 -0.203125 8.664062 -0.121094 C 8.554688 -0.0390625 8.300781 0 7.90625 0 L 6.289062 0 C 5.867188 0 5.597656 -0.0390625 5.484375 -0.121094 C 5.371094 -0.203125 5.3125 -0.347656 5.3125 -0.5625 C 5.3125 -0.765625 5.378906 -0.90625 5.515625 -0.984375 C 5.652344 -1.0625 5.910156 -1.101562 6.289062 -1.101562 L 6.671875 -1.101562 L 6.671875 -4.351562 L 2.929688 -4.351562 Z M 2.929688 -1.101562 \"/>\n",
       "</symbol>\n",
       "</g>\n",
       "</defs>\n",
       "<g id=\"surface4\">\n",
       "<path style=\"fill:none;stroke-width:1;stroke-linecap:butt;stroke-linejoin:miter;stroke:rgb(0%,0%,0%);stroke-opacity:1;stroke-miterlimit:10;\" d=\"M 39 34.5 L 39 10.5 L 63 10.5 L 63 34.5 Z M 39 34.5 \"/>\n",
       "<g style=\"fill:rgb(0%,0%,0%);fill-opacity:1;\">\n",
       "  <use xlink:href=\"#glyph-6668620-1\" x=\"46.199219\" y=\"27.132812\"/>\n",
       "</g>\n",
       "<path style=\"fill:none;stroke-width:1;stroke-linecap:butt;stroke-linejoin:miter;stroke:rgb(0%,0%,0%);stroke-opacity:1;stroke-miterlimit:10;\" d=\"M 25.5 22.5 L 39 22.5 \"/>\n",
       "<path style=\"fill:none;stroke-width:1;stroke-linecap:butt;stroke-linejoin:miter;stroke:rgb(0%,0%,0%);stroke-opacity:1;stroke-miterlimit:10;\" d=\"M 63 22.5 L 76.5 22.5 \"/>\n",
       "<path style=\" stroke:none;fill-rule:nonzero;fill:rgb(0%,0%,0%);fill-opacity:1;\" d=\"M 104.398438 22.5 C 104.398438 25.699219 99.601562 25.699219 99.601562 22.5 C 99.601562 19.300781 104.398438 19.300781 104.398438 22.5 \"/>\n",
       "<path style=\"fill:none;stroke-width:1;stroke-linecap:butt;stroke-linejoin:miter;stroke:rgb(0%,0%,0%);stroke-opacity:1;stroke-miterlimit:10;\" d=\"M 110.398438 67.5 C 110.398438 72.140625 106.640625 75.898438 102 75.898438 C 97.359375 75.898438 93.601562 72.140625 93.601562 67.5 C 93.601562 62.859375 97.359375 59.101562 102 59.101562 C 106.640625 59.101562 110.398438 62.859375 110.398438 67.5 \"/>\n",
       "<path style=\"fill:none;stroke-width:1;stroke-linecap:butt;stroke-linejoin:miter;stroke:rgb(0%,0%,0%);stroke-opacity:1;stroke-miterlimit:10;\" d=\"M 93.601562 67.5 L 110.398438 67.5 \"/>\n",
       "<path style=\"fill:none;stroke-width:1;stroke-linecap:butt;stroke-linejoin:miter;stroke:rgb(0%,0%,0%);stroke-opacity:1;stroke-miterlimit:10;\" d=\"M 102 59.101562 L 102 75.898438 \"/>\n",
       "<path style=\"fill:none;stroke-width:1;stroke-linecap:butt;stroke-linejoin:miter;stroke:rgb(0%,0%,0%);stroke-opacity:1;stroke-miterlimit:10;\" d=\"M 102 59.101562 L 102 24.898438 \"/>\n",
       "<path style=\"fill:none;stroke-width:1;stroke-linecap:butt;stroke-linejoin:miter;stroke:rgb(0%,0%,0%);stroke-opacity:1;stroke-miterlimit:10;\" d=\"M 76.5 22.5 L 99.601562 22.5 \"/>\n",
       "<path style=\"fill:none;stroke-width:1;stroke-linecap:butt;stroke-linejoin:miter;stroke:rgb(0%,0%,0%);stroke-opacity:1;stroke-miterlimit:10;\" d=\"M 104.398438 22.5 L 127.5 22.5 \"/>\n",
       "<path style=\"fill:none;stroke-width:1;stroke-linecap:butt;stroke-linejoin:miter;stroke:rgb(0%,0%,0%);stroke-opacity:1;stroke-miterlimit:10;\" d=\"M 25.5 67.5 L 93.601562 67.5 \"/>\n",
       "<path style=\"fill:none;stroke-width:1;stroke-linecap:butt;stroke-linejoin:miter;stroke:rgb(0%,0%,0%);stroke-opacity:1;stroke-miterlimit:10;\" d=\"M 110.398438 67.5 L 127.5 67.5 \"/>\n",
       "<path style=\"fill:none;stroke-width:1;stroke-linecap:butt;stroke-linejoin:miter;stroke:rgb(0%,0%,0%);stroke-opacity:1;stroke-miterlimit:10;\" d=\"M 127.5 22.5 L 127.5 22.5 \"/>\n",
       "<path style=\"fill:none;stroke-width:1;stroke-linecap:butt;stroke-linejoin:miter;stroke:rgb(0%,0%,0%);stroke-opacity:1;stroke-miterlimit:10;\" d=\"M 127.5 67.5 L 127.5 67.5 \"/>\n",
       "</g>\n",
       "</svg>\n"
      ],
      "text/plain": []
     },
     "execution_count": 5,
     "metadata": {},
     "output_type": "execute_result"
    }
   ],
   "source": [
    "begin\n",
    "\tbellcircuit = chain(2, put(1=>H), control(1, 2=>X))\n",
    "\tplot(bellcircuit)\n",
    "end"
   ]
  },
  {
   "cell_type": "markdown",
   "id": "a0847a44",
   "metadata": {},
   "source": [
    "- Set up the two qubits to be sent into the circuit"
   ]
  },
  {
   "cell_type": "code",
   "execution_count": 6,
   "id": "2cd180c6",
   "metadata": {},
   "outputs": [
    {
     "data": {
      "text/plain": [
       "ArrayReg{2, ComplexF64, Array...}\n",
       "    active qubits: 2/2\n",
       "    nlevel: 2"
      ]
     },
     "execution_count": 6,
     "metadata": {},
     "output_type": "execute_result"
    }
   ],
   "source": [
    "q1 = ArrayReg(bit\"00\") #creating the system of two qubits with state |00>."
   ]
  },
  {
   "cell_type": "markdown",
   "id": "ee79151d",
   "metadata": {},
   "source": [
    "- View the state vector of the two qubits"
   ]
  },
  {
   "cell_type": "code",
   "execution_count": 7,
   "id": "b22ab067",
   "metadata": {},
   "outputs": [
    {
     "data": {
      "text/plain": [
       "4×1 Matrix{ComplexF64}:\n",
       " 1.0 + 0.0im\n",
       " 0.0 + 0.0im\n",
       " 0.0 + 0.0im\n",
       " 0.0 + 0.0im"
      ]
     },
     "execution_count": 7,
     "metadata": {},
     "output_type": "execute_result"
    }
   ],
   "source": [
    "state(q1) #state of a qubit in vector form"
   ]
  },
  {
   "cell_type": "markdown",
   "id": "63435359",
   "metadata": {},
   "source": [
    "- Send the qubits into the circuit"
   ]
  },
  {
   "cell_type": "code",
   "execution_count": 8,
   "id": "8721ca87",
   "metadata": {},
   "outputs": [
    {
     "data": {
      "text/plain": [
       "ArrayReg{2, ComplexF64, Array...}\n",
       "    active qubits: 2/2\n",
       "    nlevel: 2"
      ]
     },
     "execution_count": 8,
     "metadata": {},
     "output_type": "execute_result"
    }
   ],
   "source": [
    "a = (q1 |> bellcircuit) #Passing the qubit q1 through the bell circuit"
   ]
  },
  {
   "cell_type": "markdown",
   "id": "209d2c22",
   "metadata": {},
   "source": [
    "- Now look at the resulting statevector"
   ]
  },
  {
   "cell_type": "code",
   "execution_count": 9,
   "id": "8c77f288",
   "metadata": {},
   "outputs": [
    {
     "data": {
      "text/plain": [
       "4×1 Matrix{ComplexF64}:\n",
       " 0.7071067811865475 + 0.0im\n",
       "                0.0 + 0.0im\n",
       "                0.0 + 0.0im\n",
       " 0.7071067811865475 + 0.0im"
      ]
     },
     "execution_count": 9,
     "metadata": {},
     "output_type": "execute_result"
    }
   ],
   "source": [
    "state(a)"
   ]
  },
  {
   "cell_type": "markdown",
   "id": "0810988e",
   "metadata": {},
   "source": [
    "- Meassure the state \"nshots\" times"
   ]
  },
  {
   "cell_type": "code",
   "execution_count": 10,
   "id": "805d4f97",
   "metadata": {
    "scrolled": true
   },
   "outputs": [
    {
     "data": {
      "text/plain": [
       "1024-element Vector{DitStr{2, 2, Int64}}:\n",
       " 00 ₍₂₎\n",
       " 00 ₍₂₎\n",
       " 11 ₍₂₎\n",
       " 11 ₍₂₎\n",
       " 11 ₍₂₎\n",
       " 11 ₍₂₎\n",
       " 11 ₍₂₎\n",
       " 00 ₍₂₎\n",
       " 11 ₍₂₎\n",
       " 00 ₍₂₎\n",
       " 11 ₍₂₎\n",
       " 11 ₍₂₎\n",
       " 11 ₍₂₎\n",
       "      ⋮\n",
       " 11 ₍₂₎\n",
       " 11 ₍₂₎\n",
       " 11 ₍₂₎\n",
       " 11 ₍₂₎\n",
       " 11 ₍₂₎\n",
       " 11 ₍₂₎\n",
       " 11 ₍₂₎\n",
       " 11 ₍₂₎\n",
       " 11 ₍₂₎\n",
       " 00 ₍₂₎\n",
       " 11 ₍₂₎\n",
       " 00 ₍₂₎"
      ]
     },
     "execution_count": 10,
     "metadata": {},
     "output_type": "execute_result"
    }
   ],
   "source": [
    "measuredqubits = a |> r->measure(r, nshots=1024)"
   ]
  },
  {
   "cell_type": "markdown",
   "id": "da2f3889",
   "metadata": {},
   "source": [
    "- Plot the resulting states"
   ]
  },
  {
   "cell_type": "code",
   "execution_count": 11,
   "id": "69bc9134",
   "metadata": {},
   "outputs": [
    {
     "data": {
      "image/svg+xml": [
       "<?xml version=\"1.0\" encoding=\"utf-8\"?>\n",
       "<svg xmlns=\"http://www.w3.org/2000/svg\" xmlns:xlink=\"http://www.w3.org/1999/xlink\" width=\"300\" height=\"400\" viewBox=\"0 0 1200 1600\">\n",
       "<defs>\n",
       "  <clipPath id=\"clip500\">\n",
       "    <rect x=\"0\" y=\"0\" width=\"1200\" height=\"1600\"/>\n",
       "  </clipPath>\n",
       "</defs>\n",
       "<path clip-path=\"url(#clip500)\" d=\"M0 1600 L1200 1600 L1200 0 L0 0  Z\" fill=\"#ffffff\" fill-rule=\"evenodd\" fill-opacity=\"1\"/>\n",
       "<defs>\n",
       "  <clipPath id=\"clip501\">\n",
       "    <rect x=\"320\" y=\"160\" width=\"1121\" height=\"1121\"/>\n",
       "  </clipPath>\n",
       "</defs>\n",
       "<path clip-path=\"url(#clip500)\" d=\"M47.2441 1552.76 L1152.76 1552.76 L1152.76 47.2441 L47.2441 47.2441  Z\" fill=\"#ffffff\" fill-rule=\"evenodd\" fill-opacity=\"1\"/>\n",
       "<defs>\n",
       "  <clipPath id=\"clip502\">\n",
       "    <rect x=\"47\" y=\"47\" width=\"1107\" height=\"1507\"/>\n",
       "  </clipPath>\n",
       "</defs>\n",
       "<path clip-path=\"url(#clip502)\" d=\"M179.906 93.4786 L179.906 1549.87 L356.787 1549.87 L356.787 93.4786 L179.906 93.4786 L179.906 93.4786  Z\" fill=\"#add8e6\" fill-rule=\"evenodd\" fill-opacity=\"1\"/>\n",
       "<polyline clip-path=\"url(#clip502)\" style=\"stroke:#add8e6; stroke-linecap:round; stroke-linejoin:round; stroke-width:4; stroke-opacity:1; fill:none\" points=\"179.906,93.4786 179.906,1549.87 356.787,1549.87 356.787,93.4786 179.906,93.4786 \"/>\n",
       "<path clip-path=\"url(#clip502)\" d=\"M401.008 1549.87 L401.008 1549.87 L577.89 1549.87 L577.89 1549.87 L401.008 1549.87 L401.008 1549.87  Z\" fill=\"#add8e6\" fill-rule=\"evenodd\" fill-opacity=\"1\"/>\n",
       "<polyline clip-path=\"url(#clip502)\" style=\"stroke:#add8e6; stroke-linecap:round; stroke-linejoin:round; stroke-width:4; stroke-opacity:1; fill:none\" points=\"401.008,1549.87 401.008,1549.87 577.89,1549.87 401.008,1549.87 \"/>\n",
       "<path clip-path=\"url(#clip502)\" d=\"M622.11 1549.87 L622.11 1549.87 L798.992 1549.87 L798.992 1549.87 L622.11 1549.87 L622.11 1549.87  Z\" fill=\"#add8e6\" fill-rule=\"evenodd\" fill-opacity=\"1\"/>\n",
       "<polyline clip-path=\"url(#clip502)\" style=\"stroke:#add8e6; stroke-linecap:round; stroke-linejoin:round; stroke-width:4; stroke-opacity:1; fill:none\" points=\"622.11,1549.87 622.11,1549.87 798.992,1549.87 622.11,1549.87 \"/>\n",
       "<path clip-path=\"url(#clip502)\" d=\"M843.213 47.2441 L843.213 1549.87 L1020.09 1549.87 L1020.09 47.2441 L843.213 47.2441 L843.213 47.2441  Z\" fill=\"#add8e6\" fill-rule=\"evenodd\" fill-opacity=\"1\"/>\n",
       "<polyline clip-path=\"url(#clip502)\" style=\"stroke:#add8e6; stroke-linecap:round; stroke-linejoin:round; stroke-width:4; stroke-opacity:1; fill:none\" points=\"843.213,47.2441 843.213,1549.87 1020.09,1549.87 1020.09,47.2441 843.213,47.2441 \"/>\n",
       "<circle clip-path=\"url(#clip502)\" style=\"fill:#add8e6; stroke:none; fill-opacity:0\" cx=\"157.795\" cy=\"93.4786\" r=\"2\"/>\n",
       "<circle clip-path=\"url(#clip502)\" style=\"fill:#add8e6; stroke:none; fill-opacity:0\" cx=\"378.898\" cy=\"1549.87\" r=\"2\"/>\n",
       "<circle clip-path=\"url(#clip502)\" style=\"fill:#add8e6; stroke:none; fill-opacity:0\" cx=\"600\" cy=\"1549.87\" r=\"2\"/>\n",
       "<circle clip-path=\"url(#clip502)\" style=\"fill:#add8e6; stroke:none; fill-opacity:0\" cx=\"821.102\" cy=\"47.2441\" r=\"2\"/>\n",
       "<circle clip-path=\"url(#clip502)\" style=\"fill:#add8e6; stroke:none; fill-opacity:0\" cx=\"1042.2\" cy=\"93.4786\" r=\"2\"/>\n",
       "<circle clip-path=\"url(#clip502)\" style=\"fill:#e26f46; stroke:none; fill-opacity:1\" cx=\"268.346\" cy=\"1546.98\" r=\"2\"/>\n",
       "<circle clip-path=\"url(#clip502)\" style=\"fill:#e26f46; stroke:none; fill-opacity:1\" cx=\"489.449\" cy=\"1546.98\" r=\"2\"/>\n",
       "<circle clip-path=\"url(#clip502)\" style=\"fill:#e26f46; stroke:none; fill-opacity:1\" cx=\"710.551\" cy=\"1546.98\" r=\"2\"/>\n",
       "<circle clip-path=\"url(#clip502)\" style=\"fill:#e26f46; stroke:none; fill-opacity:1\" cx=\"931.654\" cy=\"1546.98\" r=\"2\"/>\n",
       "<path clip-path=\"url(#clip500)\" d=\"M201.263 1513.82 L201.263 1596.78 L194.377 1596.78 L194.377 1513.82 L201.263 1513.82 Z\" fill=\"#000000\" fill-rule=\"nonzero\" fill-opacity=\"1\" /><path clip-path=\"url(#clip500)\" d=\"M238.167 1522.12 Q231.848 1522.12 228.648 1528.36 Q225.488 1534.56 225.488 1547.04 Q225.488 1559.47 228.648 1565.71 Q231.848 1571.91 238.167 1571.91 Q244.527 1571.91 247.687 1565.71 Q250.887 1559.47 250.887 1547.04 Q250.887 1534.56 247.687 1528.36 Q244.527 1522.12 238.167 1522.12 M238.167 1515.64 Q248.335 1515.64 253.682 1523.7 Q259.07 1531.72 259.07 1547.04 Q259.07 1562.31 253.682 1570.37 Q248.335 1578.39 238.167 1578.39 Q227.999 1578.39 222.612 1570.37 Q217.265 1562.31 217.265 1547.04 Q217.265 1531.72 222.612 1523.7 Q227.999 1515.64 238.167 1515.64 Z\" fill=\"#000000\" fill-rule=\"nonzero\" fill-opacity=\"1\" /><path clip-path=\"url(#clip500)\" d=\"M290.951 1522.12 Q284.631 1522.12 281.431 1528.36 Q278.271 1534.56 278.271 1547.04 Q278.271 1559.47 281.431 1565.71 Q284.631 1571.91 290.951 1571.91 Q297.31 1571.91 300.47 1565.71 Q303.67 1559.47 303.67 1547.04 Q303.67 1534.56 300.47 1528.36 Q297.31 1522.12 290.951 1522.12 M290.951 1515.64 Q301.118 1515.64 306.465 1523.7 Q311.853 1531.72 311.853 1547.04 Q311.853 1562.31 306.465 1570.37 Q301.118 1578.39 290.951 1578.39 Q280.783 1578.39 275.395 1570.37 Q270.048 1562.31 270.048 1547.04 Q270.048 1531.72 275.395 1523.7 Q280.783 1515.64 290.951 1515.64 Z\" fill=\"#000000\" fill-rule=\"nonzero\" fill-opacity=\"1\" /><path clip-path=\"url(#clip500)\" d=\"M342.316 1551.21 L330.892 1588.15 L324.006 1588.15 L335.429 1551.21 L324.006 1514.27 L330.892 1514.27 L342.316 1551.21 Z\" fill=\"#000000\" fill-rule=\"nonzero\" fill-opacity=\"1\" /><path clip-path=\"url(#clip500)\" d=\"M422.366 1513.82 L422.366 1596.78 L415.479 1596.78 L415.479 1513.82 L422.366 1513.82 Z\" fill=\"#000000\" fill-rule=\"nonzero\" fill-opacity=\"1\" /><path clip-path=\"url(#clip500)\" d=\"M459.27 1522.12 Q452.95 1522.12 449.75 1528.36 Q446.59 1534.56 446.59 1547.04 Q446.59 1559.47 449.75 1565.71 Q452.95 1571.91 459.27 1571.91 Q465.63 1571.91 468.789 1565.71 Q471.989 1559.47 471.989 1547.04 Q471.989 1534.56 468.789 1528.36 Q465.63 1522.12 459.27 1522.12 M459.27 1515.64 Q469.437 1515.64 474.785 1523.7 Q480.172 1531.72 480.172 1547.04 Q480.172 1562.31 474.785 1570.37 Q469.437 1578.39 459.27 1578.39 Q449.102 1578.39 443.714 1570.37 Q438.367 1562.31 438.367 1547.04 Q438.367 1531.72 443.714 1523.7 Q449.102 1515.64 459.27 1515.64 Z\" fill=\"#000000\" fill-rule=\"nonzero\" fill-opacity=\"1\" /><path clip-path=\"url(#clip500)\" d=\"M495.971 1570.33 L509.339 1570.33 L509.339 1524.19 L494.796 1527.11 L494.796 1519.65 L509.258 1516.74 L517.441 1516.74 L517.441 1570.33 L530.809 1570.33 L530.809 1577.22 L495.971 1577.22 L495.971 1570.33 Z\" fill=\"#000000\" fill-rule=\"nonzero\" fill-opacity=\"1\" /><path clip-path=\"url(#clip500)\" d=\"M563.418 1551.21 L551.995 1588.15 L545.108 1588.15 L556.532 1551.21 L545.108 1514.27 L551.995 1514.27 L563.418 1551.21 Z\" fill=\"#000000\" fill-rule=\"nonzero\" fill-opacity=\"1\" /><path clip-path=\"url(#clip500)\" d=\"M643.468 1513.82 L643.468 1596.78 L636.582 1596.78 L636.582 1513.82 L643.468 1513.82 Z\" fill=\"#000000\" fill-rule=\"nonzero\" fill-opacity=\"1\" /><path clip-path=\"url(#clip500)\" d=\"M664.29 1570.33 L677.658 1570.33 L677.658 1524.19 L663.115 1527.11 L663.115 1519.65 L677.577 1516.74 L685.76 1516.74 L685.76 1570.33 L699.128 1570.33 L699.128 1577.22 L664.29 1577.22 L664.29 1570.33 Z\" fill=\"#000000\" fill-rule=\"nonzero\" fill-opacity=\"1\" /><path clip-path=\"url(#clip500)\" d=\"M733.155 1522.12 Q726.836 1522.12 723.636 1528.36 Q720.476 1534.56 720.476 1547.04 Q720.476 1559.47 723.636 1565.71 Q726.836 1571.91 733.155 1571.91 Q739.515 1571.91 742.675 1565.71 Q745.875 1559.47 745.875 1547.04 Q745.875 1534.56 742.675 1528.36 Q739.515 1522.12 733.155 1522.12 M733.155 1515.64 Q743.323 1515.64 748.67 1523.7 Q754.058 1531.72 754.058 1547.04 Q754.058 1562.31 748.67 1570.37 Q743.323 1578.39 733.155 1578.39 Q722.987 1578.39 717.6 1570.37 Q712.253 1562.31 712.253 1547.04 Q712.253 1531.72 717.6 1523.7 Q722.987 1515.64 733.155 1515.64 Z\" fill=\"#000000\" fill-rule=\"nonzero\" fill-opacity=\"1\" /><path clip-path=\"url(#clip500)\" d=\"M784.521 1551.21 L773.097 1588.15 L766.211 1588.15 L777.634 1551.21 L766.211 1514.27 L773.097 1514.27 L784.521 1551.21 Z\" fill=\"#000000\" fill-rule=\"nonzero\" fill-opacity=\"1\" /><path clip-path=\"url(#clip500)\" d=\"M864.571 1513.82 L864.571 1596.78 L857.684 1596.78 L857.684 1513.82 L864.571 1513.82 Z\" fill=\"#000000\" fill-rule=\"nonzero\" fill-opacity=\"1\" /><path clip-path=\"url(#clip500)\" d=\"M885.392 1570.33 L898.76 1570.33 L898.76 1524.19 L884.217 1527.11 L884.217 1519.65 L898.679 1516.74 L906.862 1516.74 L906.862 1570.33 L920.23 1570.33 L920.23 1577.22 L885.392 1577.22 L885.392 1570.33 Z\" fill=\"#000000\" fill-rule=\"nonzero\" fill-opacity=\"1\" /><path clip-path=\"url(#clip500)\" d=\"M938.175 1570.33 L951.543 1570.33 L951.543 1524.19 L937.001 1527.11 L937.001 1519.65 L951.462 1516.74 L959.645 1516.74 L959.645 1570.33 L973.013 1570.33 L973.013 1577.22 L938.175 1577.22 L938.175 1570.33 Z\" fill=\"#000000\" fill-rule=\"nonzero\" fill-opacity=\"1\" /><path clip-path=\"url(#clip500)\" d=\"M1005.62 1551.21 L994.2 1588.15 L987.313 1588.15 L998.737 1551.21 L987.313 1514.27 L994.2 1514.27 L1005.62 1551.21 Z\" fill=\"#000000\" fill-rule=\"nonzero\" fill-opacity=\"1\" /><circle clip-path=\"url(#clip502)\" style=\"fill:#3da44d; stroke:none; fill-opacity:1\" cx=\"268.346\" cy=\"47.2441\" r=\"2\"/>\n",
       "<circle clip-path=\"url(#clip502)\" style=\"fill:#3da44d; stroke:none; fill-opacity:1\" cx=\"489.449\" cy=\"47.2441\" r=\"2\"/>\n",
       "<circle clip-path=\"url(#clip502)\" style=\"fill:#3da44d; stroke:none; fill-opacity:1\" cx=\"710.551\" cy=\"47.2441\" r=\"2\"/>\n",
       "<circle clip-path=\"url(#clip502)\" style=\"fill:#3da44d; stroke:none; fill-opacity:1\" cx=\"931.654\" cy=\"47.2441\" r=\"2\"/>\n",
       "<path clip-path=\"url(#clip500)\" d=\"M197.253 17.0041 L229.377 17.0041 L229.377 23.8906 L204.747 23.8906 L204.747 38.7169 Q206.53 38.1093 208.312 37.8257 Q210.094 37.5017 211.877 37.5017 Q222.004 37.5017 227.918 43.0514 Q233.833 48.6011 233.833 58.0803 Q233.833 67.8429 227.756 73.2712 Q221.68 78.6589 210.621 78.6589 Q206.813 78.6589 202.843 78.0107 Q198.914 77.3626 194.701 76.0663 L194.701 67.8429 Q198.347 69.8279 202.236 70.8001 Q206.125 71.7723 210.459 71.7723 Q217.467 71.7723 221.559 68.086 Q225.65 64.3997 225.65 58.0803 Q225.65 51.7609 221.559 48.0745 Q217.467 44.3882 210.459 44.3882 Q207.178 44.3882 203.897 45.1174 Q200.656 45.8465 197.253 47.3859 L197.253 17.0041 Z\" fill=\"#000000\" fill-rule=\"nonzero\" fill-opacity=\"1\" /><path clip-path=\"url(#clip500)\" d=\"M267.455 22.3918 Q261.136 22.3918 257.936 28.6302 Q254.776 34.8281 254.776 47.3049 Q254.776 59.7411 257.936 65.9795 Q261.136 72.1774 267.455 72.1774 Q273.815 72.1774 276.975 65.9795 Q280.175 59.7411 280.175 47.3049 Q280.175 34.8281 276.975 28.6302 Q273.815 22.3918 267.455 22.3918 M267.455 15.9104 Q277.623 15.9104 282.97 23.9716 Q288.358 31.9924 288.358 47.3049 Q288.358 62.5768 282.97 70.6381 Q277.623 78.6589 267.455 78.6589 Q257.287 78.6589 251.9 70.6381 Q246.553 62.5768 246.553 47.3049 Q246.553 31.9924 251.9 23.9716 Q257.287 15.9104 267.455 15.9104 Z\" fill=\"#000000\" fill-rule=\"nonzero\" fill-opacity=\"1\" /><path clip-path=\"url(#clip500)\" d=\"M325.221 24.1337 L304.562 56.4194 L325.221 56.4194 L325.221 24.1337 M323.074 17.0041 L333.363 17.0041 L333.363 56.4194 L341.992 56.4194 L341.992 63.2249 L333.363 63.2249 L333.363 77.4841 L325.221 77.4841 L325.221 63.2249 L297.918 63.2249 L297.918 55.3256 L323.074 17.0041 Z\" fill=\"#000000\" fill-rule=\"nonzero\" fill-opacity=\"1\" /><path clip-path=\"url(#clip500)\" d=\"M489.449 22.3918 Q483.129 22.3918 479.929 28.6302 Q476.769 34.8281 476.769 47.3049 Q476.769 59.7411 479.929 65.9795 Q483.129 72.1774 489.449 72.1774 Q495.809 72.1774 498.968 65.9795 Q502.169 59.7411 502.169 47.3049 Q502.169 34.8281 498.968 28.6302 Q495.809 22.3918 489.449 22.3918 M489.449 15.9104 Q499.617 15.9104 504.964 23.9716 Q510.351 31.9924 510.351 47.3049 Q510.351 62.5768 504.964 70.6381 Q499.617 78.6589 489.449 78.6589 Q479.281 78.6589 473.893 70.6381 Q468.546 62.5768 468.546 47.3049 Q468.546 31.9924 473.893 23.9716 Q479.281 15.9104 489.449 15.9104 Z\" fill=\"#000000\" fill-rule=\"nonzero\" fill-opacity=\"1\" /><path clip-path=\"url(#clip500)\" d=\"M710.551 22.3918 Q704.232 22.3918 701.032 28.6302 Q697.872 34.8281 697.872 47.3049 Q697.872 59.7411 701.032 65.9795 Q704.232 72.1774 710.551 72.1774 Q716.911 72.1774 720.071 65.9795 Q723.271 59.7411 723.271 47.3049 Q723.271 34.8281 720.071 28.6302 Q716.911 22.3918 710.551 22.3918 M710.551 15.9104 Q720.719 15.9104 726.066 23.9716 Q731.454 31.9924 731.454 47.3049 Q731.454 62.5768 726.066 70.6381 Q720.719 78.6589 710.551 78.6589 Q700.383 78.6589 694.996 70.6381 Q689.649 62.5768 689.649 47.3049 Q689.649 31.9924 694.996 23.9716 Q700.383 15.9104 710.551 15.9104 Z\" fill=\"#000000\" fill-rule=\"nonzero\" fill-opacity=\"1\" /><path clip-path=\"url(#clip500)\" d=\"M860.986 17.0041 L893.109 17.0041 L893.109 23.8906 L868.48 23.8906 L868.48 38.7169 Q870.262 38.1093 872.044 37.8257 Q873.827 37.5017 875.609 37.5017 Q885.737 37.5017 891.651 43.0514 Q897.565 48.6011 897.565 58.0803 Q897.565 67.8429 891.489 73.2712 Q885.412 78.6589 874.354 78.6589 Q870.546 78.6589 866.576 78.0107 Q862.646 77.3626 858.433 76.0663 L858.433 67.8429 Q862.079 69.8279 865.968 70.8001 Q869.857 71.7723 874.191 71.7723 Q881.2 71.7723 885.291 68.086 Q889.382 64.3997 889.382 58.0803 Q889.382 51.7609 885.291 48.0745 Q881.2 44.3882 874.191 44.3882 Q870.91 44.3882 867.629 45.1174 Q864.388 45.8465 860.986 47.3859 L860.986 17.0041 Z\" fill=\"#000000\" fill-rule=\"nonzero\" fill-opacity=\"1\" /><path clip-path=\"url(#clip500)\" d=\"M920.736 70.5976 L949.295 70.5976 L949.295 77.4841 L910.893 77.4841 L910.893 70.5976 Q915.551 65.777 923.572 57.6752 Q931.633 49.5329 933.699 47.1833 Q937.629 42.7678 939.168 39.7297 Q940.748 36.651 940.748 33.6938 Q940.748 28.8732 937.345 25.8351 Q933.983 22.7969 928.555 22.7969 Q924.706 22.7969 920.412 24.1337 Q916.159 25.4705 911.298 28.1846 L911.298 19.9207 Q916.24 17.9358 920.534 16.9231 Q924.828 15.9104 928.393 15.9104 Q937.791 15.9104 943.381 20.6094 Q948.971 25.3084 948.971 33.1672 Q948.971 36.894 947.553 40.2563 Q946.176 43.578 942.49 48.115 Q941.477 49.2898 936.049 54.9206 Q930.621 60.5108 920.736 70.5976 Z\" fill=\"#000000\" fill-rule=\"nonzero\" fill-opacity=\"1\" /><path clip-path=\"url(#clip500)\" d=\"M983.971 22.3918 Q977.652 22.3918 974.451 28.6302 Q971.292 34.8281 971.292 47.3049 Q971.292 59.7411 974.451 65.9795 Q977.652 72.1774 983.971 72.1774 Q990.331 72.1774 993.491 65.9795 Q996.691 59.7411 996.691 47.3049 Q996.691 34.8281 993.491 28.6302 Q990.331 22.3918 983.971 22.3918 M983.971 15.9104 Q994.139 15.9104 999.486 23.9716 Q1004.87 31.9924 1004.87 47.3049 Q1004.87 62.5768 999.486 70.6381 Q994.139 78.6589 983.971 78.6589 Q973.803 78.6589 968.415 70.6381 Q963.068 62.5768 963.068 47.3049 Q963.068 31.9924 968.415 23.9716 Q973.803 15.9104 983.971 15.9104 Z\" fill=\"#000000\" fill-rule=\"nonzero\" fill-opacity=\"1\" /></svg>\n"
      ]
     },
     "execution_count": 11,
     "metadata": {},
     "output_type": "execute_result"
    }
   ],
   "source": [
    "plotmeasure(measuredqubits)"
   ]
  },
  {
   "cell_type": "markdown",
   "id": "d7e2fbbb",
   "metadata": {},
   "source": [
    "\n",
    "## Second Bell State\n",
    "\n",
    "## 1/sqrt(2) * ( |01⟩ + |10⟩ )"
   ]
  },
  {
   "cell_type": "markdown",
   "id": "f0f93d1d",
   "metadata": {},
   "source": [
    "- Define the quantum circuit\n",
    "- Plot the circuit"
   ]
  },
  {
   "cell_type": "code",
   "execution_count": 12,
   "id": "966126d9",
   "metadata": {},
   "outputs": [
    {
     "data": {
      "image/svg+xml": [
       "<?xml version=\"1.0\" encoding=\"UTF-8\"?>\n",
       "<svg xmlns=\"http://www.w3.org/2000/svg\" xmlns:xlink=\"http://www.w3.org/1999/xlink\" width=\"153pt\" height=\"90pt\" viewBox=\"0 0 153 90\" version=\"1.1\">\n",
       "<defs>\n",
       "<g>\n",
       "<symbol overflow=\"visible\" id=\"glyph-7737380-0\">\n",
       "<path style=\"stroke:none;\" d=\"M 0.796875 2.828125 L 0.796875 -11.28125 L 8.796875 -11.28125 L 8.796875 2.828125 Z M 1.695312 1.9375 L 7.90625 1.9375 L 7.90625 -10.382812 L 1.695312 -10.382812 Z M 1.695312 1.9375 \"/>\n",
       "</symbol>\n",
       "<symbol overflow=\"visible\" id=\"glyph-7737380-1\">\n",
       "<path style=\"stroke:none;\" d=\"M 2.929688 -1.101562 L 3.453125 -1.101562 C 3.761719 -1.101562 3.976562 -1.058594 4.101562 -0.976562 C 4.226562 -0.894531 4.289062 -0.753906 4.289062 -0.5625 C 4.289062 -0.347656 4.234375 -0.203125 4.125 -0.121094 C 4.015625 -0.0390625 3.777344 0 3.40625 0 L 1.34375 0 C 1.152344 0 1.007812 -0.046875 0.910156 -0.140625 C 0.8125 -0.234375 0.765625 -0.375 0.765625 -0.5625 C 0.765625 -0.765625 0.820312 -0.90625 0.933594 -0.984375 C 1.046875 -1.0625 1.257812 -1.101562 1.570312 -1.101562 L 1.710938 -1.101562 L 1.710938 -8.140625 L 1.585938 -8.140625 C 1.273438 -8.140625 1.058594 -8.183594 0.941406 -8.265625 C 0.824219 -8.347656 0.765625 -8.496094 0.765625 -8.703125 C 0.765625 -8.894531 0.8125 -9.039062 0.910156 -9.128906 C 1.007812 -9.21875 1.15625 -9.265625 1.359375 -9.265625 L 3.328125 -9.265625 C 3.746094 -9.265625 4.007812 -9.226562 4.121094 -9.144531 C 4.234375 -9.0625 4.289062 -8.917969 4.289062 -8.703125 C 4.289062 -8.496094 4.21875 -8.347656 4.078125 -8.265625 C 3.9375 -8.183594 3.671875 -8.140625 3.28125 -8.140625 L 2.929688 -8.140625 L 2.929688 -5.421875 L 6.671875 -5.421875 L 6.671875 -8.140625 L 6.140625 -8.140625 C 5.84375 -8.140625 5.632812 -8.183594 5.503906 -8.273438 C 5.375 -8.363281 5.3125 -8.503906 5.3125 -8.703125 C 5.3125 -8.917969 5.371094 -9.0625 5.488281 -9.144531 C 5.605469 -9.226562 5.894531 -9.265625 6.351562 -9.265625 L 8.257812 -9.265625 C 8.445312 -9.265625 8.585938 -9.21875 8.683594 -9.125 C 8.78125 -9.03125 8.828125 -8.890625 8.828125 -8.703125 C 8.828125 -8.5 8.773438 -8.355469 8.664062 -8.269531 C 8.554688 -8.183594 8.359375 -8.140625 8.078125 -8.140625 L 7.890625 -8.140625 L 7.890625 -1.101562 L 8.015625 -1.101562 C 8.328125 -1.101562 8.542969 -1.0625 8.65625 -0.980469 C 8.769531 -0.898438 8.828125 -0.761719 8.828125 -0.5625 C 8.828125 -0.347656 8.773438 -0.203125 8.664062 -0.121094 C 8.554688 -0.0390625 8.300781 0 7.90625 0 L 6.289062 0 C 5.867188 0 5.597656 -0.0390625 5.484375 -0.121094 C 5.371094 -0.203125 5.3125 -0.347656 5.3125 -0.5625 C 5.3125 -0.765625 5.378906 -0.90625 5.515625 -0.984375 C 5.652344 -1.0625 5.910156 -1.101562 6.289062 -1.101562 L 6.671875 -1.101562 L 6.671875 -4.351562 L 2.929688 -4.351562 Z M 2.929688 -1.101562 \"/>\n",
       "</symbol>\n",
       "<symbol overflow=\"visible\" id=\"glyph-7737380-2\">\n",
       "<path style=\"stroke:none;\" d=\"M 1.507812 -8.140625 C 1.285156 -8.152344 1.125 -8.199219 1.027344 -8.285156 C 0.929688 -8.371094 0.882812 -8.511719 0.882812 -8.703125 C 0.882812 -8.886719 0.929688 -9.023438 1.019531 -9.121094 C 1.109375 -9.21875 1.246094 -9.265625 1.421875 -9.265625 L 3.390625 -9.265625 C 3.582031 -9.265625 3.730469 -9.21875 3.832031 -9.121094 C 3.933594 -9.023438 3.984375 -8.886719 3.984375 -8.703125 C 3.984375 -8.527344 3.917969 -8.386719 3.789062 -8.289062 C 3.660156 -8.191406 3.480469 -8.140625 3.25 -8.140625 L 3.023438 -8.140625 L 4.796875 -5.632812 L 6.640625 -8.140625 L 6.398438 -8.140625 C 6.148438 -8.140625 5.953125 -8.191406 5.8125 -8.292969 C 5.671875 -8.394531 5.601562 -8.53125 5.601562 -8.703125 C 5.601562 -8.875 5.65625 -9.011719 5.765625 -9.113281 C 5.875 -9.214844 6.023438 -9.265625 6.210938 -9.265625 L 8.179688 -9.265625 C 8.355469 -9.265625 8.492188 -9.21875 8.582031 -9.121094 C 8.671875 -9.023438 8.71875 -8.886719 8.71875 -8.703125 C 8.71875 -8.503906 8.664062 -8.363281 8.558594 -8.273438 C 8.453125 -8.183594 8.277344 -8.140625 8.03125 -8.140625 L 5.539062 -4.765625 L 8.257812 -1.101562 C 8.488281 -1.085938 8.65625 -1.035156 8.765625 -0.945312 C 8.875 -0.855469 8.929688 -0.730469 8.929688 -0.5625 C 8.929688 -0.390625 8.878906 -0.253906 8.773438 -0.152344 C 8.667969 -0.0507812 8.527344 0 8.351562 0 L 6.257812 0 C 5.988281 0 5.804688 -0.0429688 5.710938 -0.125 C 5.617188 -0.207031 5.570312 -0.355469 5.570312 -0.5625 C 5.570312 -0.765625 5.628906 -0.90625 5.742188 -0.984375 C 5.855469 -1.0625 6.082031 -1.101562 6.414062 -1.101562 L 6.734375 -1.101562 L 4.734375 -3.859375 L 2.765625 -1.101562 L 3.117188 -1.101562 C 3.476562 -1.101562 3.71875 -1.0625 3.84375 -0.984375 C 3.96875 -0.90625 4.03125 -0.765625 4.03125 -0.5625 C 4.03125 -0.355469 3.980469 -0.207031 3.882812 -0.125 C 3.785156 -0.0429688 3.597656 0 3.328125 0 L 1.25 0 C 1.074219 0 0.933594 -0.0507812 0.828125 -0.152344 C 0.722656 -0.253906 0.671875 -0.390625 0.671875 -0.5625 C 0.671875 -0.738281 0.726562 -0.871094 0.835938 -0.960938 C 0.945312 -1.050781 1.121094 -1.097656 1.359375 -1.101562 L 4 -4.71875 Z M 1.507812 -8.140625 \"/>\n",
       "</symbol>\n",
       "</g>\n",
       "</defs>\n",
       "<g id=\"surface11\">\n",
       "<path style=\"fill:none;stroke-width:1;stroke-linecap:butt;stroke-linejoin:miter;stroke:rgb(0%,0%,0%);stroke-opacity:1;stroke-miterlimit:10;\" d=\"M 39 34.5 L 39 10.5 L 63 10.5 L 63 34.5 Z M 39 34.5 \"/>\n",
       "<g style=\"fill:rgb(0%,0%,0%);fill-opacity:1;\">\n",
       "  <use xlink:href=\"#glyph-7737380-1\" x=\"46.199219\" y=\"27.132812\"/>\n",
       "</g>\n",
       "<path style=\"fill:none;stroke-width:1;stroke-linecap:butt;stroke-linejoin:miter;stroke:rgb(0%,0%,0%);stroke-opacity:1;stroke-miterlimit:10;\" d=\"M 25.5 22.5 L 39 22.5 \"/>\n",
       "<path style=\"fill:none;stroke-width:1;stroke-linecap:butt;stroke-linejoin:miter;stroke:rgb(0%,0%,0%);stroke-opacity:1;stroke-miterlimit:10;\" d=\"M 63 22.5 L 76.5 22.5 \"/>\n",
       "<path style=\"fill:none;stroke-width:1;stroke-linecap:butt;stroke-linejoin:miter;stroke:rgb(0%,0%,0%);stroke-opacity:1;stroke-miterlimit:10;\" d=\"M 39 79.5 L 39 55.5 L 63 55.5 L 63 79.5 Z M 39 79.5 \"/>\n",
       "<g style=\"fill:rgb(0%,0%,0%);fill-opacity:1;\">\n",
       "  <use xlink:href=\"#glyph-7737380-2\" x=\"46.199219\" y=\"72.132812\"/>\n",
       "</g>\n",
       "<path style=\"fill:none;stroke-width:1;stroke-linecap:butt;stroke-linejoin:miter;stroke:rgb(0%,0%,0%);stroke-opacity:1;stroke-miterlimit:10;\" d=\"M 25.5 67.5 L 39 67.5 \"/>\n",
       "<path style=\"fill:none;stroke-width:1;stroke-linecap:butt;stroke-linejoin:miter;stroke:rgb(0%,0%,0%);stroke-opacity:1;stroke-miterlimit:10;\" d=\"M 63 67.5 L 76.5 67.5 \"/>\n",
       "<path style=\" stroke:none;fill-rule:nonzero;fill:rgb(0%,0%,0%);fill-opacity:1;\" d=\"M 104.398438 22.5 C 104.398438 25.699219 99.601562 25.699219 99.601562 22.5 C 99.601562 19.300781 104.398438 19.300781 104.398438 22.5 \"/>\n",
       "<path style=\"fill:none;stroke-width:1;stroke-linecap:butt;stroke-linejoin:miter;stroke:rgb(0%,0%,0%);stroke-opacity:1;stroke-miterlimit:10;\" d=\"M 110.398438 67.5 C 110.398438 72.140625 106.640625 75.898438 102 75.898438 C 97.359375 75.898438 93.601562 72.140625 93.601562 67.5 C 93.601562 62.859375 97.359375 59.101562 102 59.101562 C 106.640625 59.101562 110.398438 62.859375 110.398438 67.5 \"/>\n",
       "<path style=\"fill:none;stroke-width:1;stroke-linecap:butt;stroke-linejoin:miter;stroke:rgb(0%,0%,0%);stroke-opacity:1;stroke-miterlimit:10;\" d=\"M 93.601562 67.5 L 110.398438 67.5 \"/>\n",
       "<path style=\"fill:none;stroke-width:1;stroke-linecap:butt;stroke-linejoin:miter;stroke:rgb(0%,0%,0%);stroke-opacity:1;stroke-miterlimit:10;\" d=\"M 102 59.101562 L 102 75.898438 \"/>\n",
       "<path style=\"fill:none;stroke-width:1;stroke-linecap:butt;stroke-linejoin:miter;stroke:rgb(0%,0%,0%);stroke-opacity:1;stroke-miterlimit:10;\" d=\"M 102 59.101562 L 102 24.898438 \"/>\n",
       "<path style=\"fill:none;stroke-width:1;stroke-linecap:butt;stroke-linejoin:miter;stroke:rgb(0%,0%,0%);stroke-opacity:1;stroke-miterlimit:10;\" d=\"M 76.5 22.5 L 99.601562 22.5 \"/>\n",
       "<path style=\"fill:none;stroke-width:1;stroke-linecap:butt;stroke-linejoin:miter;stroke:rgb(0%,0%,0%);stroke-opacity:1;stroke-miterlimit:10;\" d=\"M 104.398438 22.5 L 127.5 22.5 \"/>\n",
       "<path style=\"fill:none;stroke-width:1;stroke-linecap:butt;stroke-linejoin:miter;stroke:rgb(0%,0%,0%);stroke-opacity:1;stroke-miterlimit:10;\" d=\"M 76.5 67.5 L 93.601562 67.5 \"/>\n",
       "<path style=\"fill:none;stroke-width:1;stroke-linecap:butt;stroke-linejoin:miter;stroke:rgb(0%,0%,0%);stroke-opacity:1;stroke-miterlimit:10;\" d=\"M 110.398438 67.5 L 127.5 67.5 \"/>\n",
       "<path style=\"fill:none;stroke-width:1;stroke-linecap:butt;stroke-linejoin:miter;stroke:rgb(0%,0%,0%);stroke-opacity:1;stroke-miterlimit:10;\" d=\"M 127.5 22.5 L 127.5 22.5 \"/>\n",
       "<path style=\"fill:none;stroke-width:1;stroke-linecap:butt;stroke-linejoin:miter;stroke:rgb(0%,0%,0%);stroke-opacity:1;stroke-miterlimit:10;\" d=\"M 127.5 67.5 L 127.5 67.5 \"/>\n",
       "</g>\n",
       "</svg>\n"
      ],
      "text/plain": []
     },
     "execution_count": 12,
     "metadata": {},
     "output_type": "execute_result"
    }
   ],
   "source": [
    "begin\n",
    "\tbellcircuit = chain(2, put(1=>H), put(2=>X),control(1, 2=>X))\n",
    "\tplot(bellcircuit)\n",
    "end"
   ]
  },
  {
   "cell_type": "markdown",
   "id": "97053eda",
   "metadata": {},
   "source": [
    "- Set up the two qubits to be sent into the circuit"
   ]
  },
  {
   "cell_type": "code",
   "execution_count": 13,
   "id": "7d5a192a",
   "metadata": {},
   "outputs": [
    {
     "data": {
      "text/plain": [
       "ArrayReg{2, ComplexF64, Array...}\n",
       "    active qubits: 2/2\n",
       "    nlevel: 2"
      ]
     },
     "execution_count": 13,
     "metadata": {},
     "output_type": "execute_result"
    }
   ],
   "source": [
    "q1 = ArrayReg(bit\"00\") #creating the system of two qubits with state |00>."
   ]
  },
  {
   "cell_type": "markdown",
   "id": "6cba469e",
   "metadata": {},
   "source": [
    "- View the state vector of the two qubits"
   ]
  },
  {
   "cell_type": "code",
   "execution_count": 14,
   "id": "3af17167",
   "metadata": {},
   "outputs": [
    {
     "data": {
      "text/plain": [
       "4×1 Matrix{ComplexF64}:\n",
       " 1.0 + 0.0im\n",
       " 0.0 + 0.0im\n",
       " 0.0 + 0.0im\n",
       " 0.0 + 0.0im"
      ]
     },
     "execution_count": 14,
     "metadata": {},
     "output_type": "execute_result"
    }
   ],
   "source": [
    "state(q1) #state of a qubit in vector form"
   ]
  },
  {
   "cell_type": "markdown",
   "id": "409c24da",
   "metadata": {},
   "source": [
    "- Send the qubits into the circuit"
   ]
  },
  {
   "cell_type": "code",
   "execution_count": 15,
   "id": "4529fe23",
   "metadata": {},
   "outputs": [
    {
     "data": {
      "text/plain": [
       "ArrayReg{2, ComplexF64, Array...}\n",
       "    active qubits: 2/2\n",
       "    nlevel: 2"
      ]
     },
     "execution_count": 15,
     "metadata": {},
     "output_type": "execute_result"
    }
   ],
   "source": [
    "a = (q1 |> bellcircuit) #Passing the qubit q1 through the bell circuit"
   ]
  },
  {
   "cell_type": "markdown",
   "id": "b6171262",
   "metadata": {},
   "source": [
    "- Now look at the resulting statevector"
   ]
  },
  {
   "cell_type": "code",
   "execution_count": 16,
   "id": "05fa8a5f",
   "metadata": {},
   "outputs": [
    {
     "data": {
      "text/plain": [
       "4×1 Matrix{ComplexF64}:\n",
       "                0.0 + 0.0im\n",
       " 0.7071067811865475 + 0.0im\n",
       " 0.7071067811865475 + 0.0im\n",
       "                0.0 + 0.0im"
      ]
     },
     "execution_count": 16,
     "metadata": {},
     "output_type": "execute_result"
    }
   ],
   "source": [
    "state(a)"
   ]
  },
  {
   "cell_type": "markdown",
   "id": "8c87f7d0",
   "metadata": {},
   "source": [
    "- Meassure the state \"nshots\" times"
   ]
  },
  {
   "cell_type": "code",
   "execution_count": 17,
   "id": "3dbbb5ba",
   "metadata": {
    "scrolled": true
   },
   "outputs": [
    {
     "data": {
      "text/plain": [
       "1024-element Vector{DitStr{2, 2, Int64}}:\n",
       " 10 ₍₂₎\n",
       " 01 ₍₂₎\n",
       " 01 ₍₂₎\n",
       " 10 ₍₂₎\n",
       " 10 ₍₂₎\n",
       " 01 ₍₂₎\n",
       " 01 ₍₂₎\n",
       " 01 ₍₂₎\n",
       " 10 ₍₂₎\n",
       " 01 ₍₂₎\n",
       " 01 ₍₂₎\n",
       " 01 ₍₂₎\n",
       " 10 ₍₂₎\n",
       "      ⋮\n",
       " 01 ₍₂₎\n",
       " 10 ₍₂₎\n",
       " 10 ₍₂₎\n",
       " 01 ₍₂₎\n",
       " 10 ₍₂₎\n",
       " 10 ₍₂₎\n",
       " 10 ₍₂₎\n",
       " 01 ₍₂₎\n",
       " 10 ₍₂₎\n",
       " 01 ₍₂₎\n",
       " 01 ₍₂₎\n",
       " 01 ₍₂₎"
      ]
     },
     "execution_count": 17,
     "metadata": {},
     "output_type": "execute_result"
    }
   ],
   "source": [
    "measuredqubits = a |> r->measure(r, nshots=1024)"
   ]
  },
  {
   "cell_type": "markdown",
   "id": "05fde840",
   "metadata": {},
   "source": [
    "- Plot the resulting states"
   ]
  },
  {
   "cell_type": "code",
   "execution_count": 18,
   "id": "ccfcb170",
   "metadata": {},
   "outputs": [
    {
     "data": {
      "image/svg+xml": [
       "<?xml version=\"1.0\" encoding=\"utf-8\"?>\n",
       "<svg xmlns=\"http://www.w3.org/2000/svg\" xmlns:xlink=\"http://www.w3.org/1999/xlink\" width=\"300\" height=\"400\" viewBox=\"0 0 1200 1600\">\n",
       "<defs>\n",
       "  <clipPath id=\"clip530\">\n",
       "    <rect x=\"0\" y=\"0\" width=\"1200\" height=\"1600\"/>\n",
       "  </clipPath>\n",
       "</defs>\n",
       "<path clip-path=\"url(#clip530)\" d=\"M0 1600 L1200 1600 L1200 0 L0 0  Z\" fill=\"#ffffff\" fill-rule=\"evenodd\" fill-opacity=\"1\"/>\n",
       "<defs>\n",
       "  <clipPath id=\"clip531\">\n",
       "    <rect x=\"320\" y=\"160\" width=\"1121\" height=\"1121\"/>\n",
       "  </clipPath>\n",
       "</defs>\n",
       "<path clip-path=\"url(#clip530)\" d=\"M47.2441 1552.76 L1152.76 1552.76 L1152.76 47.2441 L47.2441 47.2441  Z\" fill=\"#ffffff\" fill-rule=\"evenodd\" fill-opacity=\"1\"/>\n",
       "<defs>\n",
       "  <clipPath id=\"clip532\">\n",
       "    <rect x=\"47\" y=\"47\" width=\"1107\" height=\"1507\"/>\n",
       "  </clipPath>\n",
       "</defs>\n",
       "<path clip-path=\"url(#clip532)\" d=\"M179.906 1549.94 L179.906 1549.94 L356.787 1549.94 L356.787 1549.94 L179.906 1549.94 L179.906 1549.94  Z\" fill=\"#add8e6\" fill-rule=\"evenodd\" fill-opacity=\"1\"/>\n",
       "<polyline clip-path=\"url(#clip532)\" style=\"stroke:#add8e6; stroke-linecap:round; stroke-linejoin:round; stroke-width:4; stroke-opacity:1; fill:none\" points=\"179.906,1549.94 179.906,1549.94 356.787,1549.94 179.906,1549.94 \"/>\n",
       "<path clip-path=\"url(#clip532)\" d=\"M401.008 47.2441 L401.008 1549.94 L577.89 1549.94 L577.89 47.2441 L401.008 47.2441 L401.008 47.2441  Z\" fill=\"#add8e6\" fill-rule=\"evenodd\" fill-opacity=\"1\"/>\n",
       "<polyline clip-path=\"url(#clip532)\" style=\"stroke:#add8e6; stroke-linecap:round; stroke-linejoin:round; stroke-width:4; stroke-opacity:1; fill:none\" points=\"401.008,47.2441 401.008,1549.94 577.89,1549.94 577.89,47.2441 401.008,47.2441 \"/>\n",
       "<path clip-path=\"url(#clip532)\" d=\"M622.11 171.062 L622.11 1549.94 L798.992 1549.94 L798.992 171.062 L622.11 171.062 L622.11 171.062  Z\" fill=\"#add8e6\" fill-rule=\"evenodd\" fill-opacity=\"1\"/>\n",
       "<polyline clip-path=\"url(#clip532)\" style=\"stroke:#add8e6; stroke-linecap:round; stroke-linejoin:round; stroke-width:4; stroke-opacity:1; fill:none\" points=\"622.11,171.062 622.11,1549.94 798.992,1549.94 798.992,171.062 622.11,171.062 \"/>\n",
       "<path clip-path=\"url(#clip532)\" d=\"M843.213 1549.94 L843.213 1549.94 L1020.09 1549.94 L1020.09 1549.94 L843.213 1549.94 L843.213 1549.94  Z\" fill=\"#add8e6\" fill-rule=\"evenodd\" fill-opacity=\"1\"/>\n",
       "<polyline clip-path=\"url(#clip532)\" style=\"stroke:#add8e6; stroke-linecap:round; stroke-linejoin:round; stroke-width:4; stroke-opacity:1; fill:none\" points=\"843.213,1549.94 843.213,1549.94 1020.09,1549.94 843.213,1549.94 \"/>\n",
       "<circle clip-path=\"url(#clip532)\" style=\"fill:#add8e6; stroke:none; fill-opacity:0\" cx=\"157.795\" cy=\"1549.94\" r=\"2\"/>\n",
       "<circle clip-path=\"url(#clip532)\" style=\"fill:#add8e6; stroke:none; fill-opacity:0\" cx=\"378.898\" cy=\"47.2441\" r=\"2\"/>\n",
       "<circle clip-path=\"url(#clip532)\" style=\"fill:#add8e6; stroke:none; fill-opacity:0\" cx=\"600\" cy=\"171.062\" r=\"2\"/>\n",
       "<circle clip-path=\"url(#clip532)\" style=\"fill:#add8e6; stroke:none; fill-opacity:0\" cx=\"821.102\" cy=\"1549.94\" r=\"2\"/>\n",
       "<circle clip-path=\"url(#clip532)\" style=\"fill:#add8e6; stroke:none; fill-opacity:0\" cx=\"1042.2\" cy=\"1549.94\" r=\"2\"/>\n",
       "<circle clip-path=\"url(#clip532)\" style=\"fill:#e26f46; stroke:none; fill-opacity:1\" cx=\"268.346\" cy=\"1547.13\" r=\"2\"/>\n",
       "<circle clip-path=\"url(#clip532)\" style=\"fill:#e26f46; stroke:none; fill-opacity:1\" cx=\"489.449\" cy=\"1547.13\" r=\"2\"/>\n",
       "<circle clip-path=\"url(#clip532)\" style=\"fill:#e26f46; stroke:none; fill-opacity:1\" cx=\"710.551\" cy=\"1547.13\" r=\"2\"/>\n",
       "<circle clip-path=\"url(#clip532)\" style=\"fill:#e26f46; stroke:none; fill-opacity:1\" cx=\"931.654\" cy=\"1547.13\" r=\"2\"/>\n",
       "<path clip-path=\"url(#clip530)\" d=\"M201.263 1513.97 L201.263 1596.93 L194.377 1596.93 L194.377 1513.97 L201.263 1513.97 Z\" fill=\"#000000\" fill-rule=\"nonzero\" fill-opacity=\"1\" /><path clip-path=\"url(#clip530)\" d=\"M238.167 1522.28 Q231.848 1522.28 228.648 1528.51 Q225.488 1534.71 225.488 1547.19 Q225.488 1559.62 228.648 1565.86 Q231.848 1572.06 238.167 1572.06 Q244.527 1572.06 247.687 1565.86 Q250.887 1559.62 250.887 1547.19 Q250.887 1534.71 247.687 1528.51 Q244.527 1522.28 238.167 1522.28 M238.167 1515.79 Q248.335 1515.79 253.682 1523.86 Q259.07 1531.88 259.07 1547.19 Q259.07 1562.46 253.682 1570.52 Q248.335 1578.54 238.167 1578.54 Q227.999 1578.54 222.612 1570.52 Q217.265 1562.46 217.265 1547.19 Q217.265 1531.88 222.612 1523.86 Q227.999 1515.79 238.167 1515.79 Z\" fill=\"#000000\" fill-rule=\"nonzero\" fill-opacity=\"1\" /><path clip-path=\"url(#clip530)\" d=\"M290.951 1522.28 Q284.631 1522.28 281.431 1528.51 Q278.271 1534.71 278.271 1547.19 Q278.271 1559.62 281.431 1565.86 Q284.631 1572.06 290.951 1572.06 Q297.31 1572.06 300.47 1565.86 Q303.67 1559.62 303.67 1547.19 Q303.67 1534.71 300.47 1528.51 Q297.31 1522.28 290.951 1522.28 M290.951 1515.79 Q301.118 1515.79 306.465 1523.86 Q311.853 1531.88 311.853 1547.19 Q311.853 1562.46 306.465 1570.52 Q301.118 1578.54 290.951 1578.54 Q280.783 1578.54 275.395 1570.52 Q270.048 1562.46 270.048 1547.19 Q270.048 1531.88 275.395 1523.86 Q280.783 1515.79 290.951 1515.79 Z\" fill=\"#000000\" fill-rule=\"nonzero\" fill-opacity=\"1\" /><path clip-path=\"url(#clip530)\" d=\"M342.316 1551.36 L330.892 1588.31 L324.006 1588.31 L335.429 1551.36 L324.006 1514.42 L330.892 1514.42 L342.316 1551.36 Z\" fill=\"#000000\" fill-rule=\"nonzero\" fill-opacity=\"1\" /><path clip-path=\"url(#clip530)\" d=\"M422.366 1513.97 L422.366 1596.93 L415.479 1596.93 L415.479 1513.97 L422.366 1513.97 Z\" fill=\"#000000\" fill-rule=\"nonzero\" fill-opacity=\"1\" /><path clip-path=\"url(#clip530)\" d=\"M459.27 1522.28 Q452.95 1522.28 449.75 1528.51 Q446.59 1534.71 446.59 1547.19 Q446.59 1559.62 449.75 1565.86 Q452.95 1572.06 459.27 1572.06 Q465.63 1572.06 468.789 1565.86 Q471.989 1559.62 471.989 1547.19 Q471.989 1534.71 468.789 1528.51 Q465.63 1522.28 459.27 1522.28 M459.27 1515.79 Q469.437 1515.79 474.785 1523.86 Q480.172 1531.88 480.172 1547.19 Q480.172 1562.46 474.785 1570.52 Q469.437 1578.54 459.27 1578.54 Q449.102 1578.54 443.714 1570.52 Q438.367 1562.46 438.367 1547.19 Q438.367 1531.88 443.714 1523.86 Q449.102 1515.79 459.27 1515.79 Z\" fill=\"#000000\" fill-rule=\"nonzero\" fill-opacity=\"1\" /><path clip-path=\"url(#clip530)\" d=\"M495.971 1570.48 L509.339 1570.48 L509.339 1524.34 L494.796 1527.26 L494.796 1519.8 L509.258 1516.89 L517.441 1516.89 L517.441 1570.48 L530.809 1570.48 L530.809 1577.37 L495.971 1577.37 L495.971 1570.48 Z\" fill=\"#000000\" fill-rule=\"nonzero\" fill-opacity=\"1\" /><path clip-path=\"url(#clip530)\" d=\"M563.418 1551.36 L551.995 1588.31 L545.108 1588.31 L556.532 1551.36 L545.108 1514.42 L551.995 1514.42 L563.418 1551.36 Z\" fill=\"#000000\" fill-rule=\"nonzero\" fill-opacity=\"1\" /><path clip-path=\"url(#clip530)\" d=\"M643.468 1513.97 L643.468 1596.93 L636.582 1596.93 L636.582 1513.97 L643.468 1513.97 Z\" fill=\"#000000\" fill-rule=\"nonzero\" fill-opacity=\"1\" /><path clip-path=\"url(#clip530)\" d=\"M664.29 1570.48 L677.658 1570.48 L677.658 1524.34 L663.115 1527.26 L663.115 1519.8 L677.577 1516.89 L685.76 1516.89 L685.76 1570.48 L699.128 1570.48 L699.128 1577.37 L664.29 1577.37 L664.29 1570.48 Z\" fill=\"#000000\" fill-rule=\"nonzero\" fill-opacity=\"1\" /><path clip-path=\"url(#clip530)\" d=\"M733.155 1522.28 Q726.836 1522.28 723.636 1528.51 Q720.476 1534.71 720.476 1547.19 Q720.476 1559.62 723.636 1565.86 Q726.836 1572.06 733.155 1572.06 Q739.515 1572.06 742.675 1565.86 Q745.875 1559.62 745.875 1547.19 Q745.875 1534.71 742.675 1528.51 Q739.515 1522.28 733.155 1522.28 M733.155 1515.79 Q743.323 1515.79 748.67 1523.86 Q754.058 1531.88 754.058 1547.19 Q754.058 1562.46 748.67 1570.52 Q743.323 1578.54 733.155 1578.54 Q722.987 1578.54 717.6 1570.52 Q712.253 1562.46 712.253 1547.19 Q712.253 1531.88 717.6 1523.86 Q722.987 1515.79 733.155 1515.79 Z\" fill=\"#000000\" fill-rule=\"nonzero\" fill-opacity=\"1\" /><path clip-path=\"url(#clip530)\" d=\"M784.521 1551.36 L773.097 1588.31 L766.211 1588.31 L777.634 1551.36 L766.211 1514.42 L773.097 1514.42 L784.521 1551.36 Z\" fill=\"#000000\" fill-rule=\"nonzero\" fill-opacity=\"1\" /><path clip-path=\"url(#clip530)\" d=\"M864.571 1513.97 L864.571 1596.93 L857.684 1596.93 L857.684 1513.97 L864.571 1513.97 Z\" fill=\"#000000\" fill-rule=\"nonzero\" fill-opacity=\"1\" /><path clip-path=\"url(#clip530)\" d=\"M885.392 1570.48 L898.76 1570.48 L898.76 1524.34 L884.217 1527.26 L884.217 1519.8 L898.679 1516.89 L906.862 1516.89 L906.862 1570.48 L920.23 1570.48 L920.23 1577.37 L885.392 1577.37 L885.392 1570.48 Z\" fill=\"#000000\" fill-rule=\"nonzero\" fill-opacity=\"1\" /><path clip-path=\"url(#clip530)\" d=\"M938.175 1570.48 L951.543 1570.48 L951.543 1524.34 L937.001 1527.26 L937.001 1519.8 L951.462 1516.89 L959.645 1516.89 L959.645 1570.48 L973.013 1570.48 L973.013 1577.37 L938.175 1577.37 L938.175 1570.48 Z\" fill=\"#000000\" fill-rule=\"nonzero\" fill-opacity=\"1\" /><path clip-path=\"url(#clip530)\" d=\"M1005.62 1551.36 L994.2 1588.31 L987.313 1588.31 L998.737 1551.36 L987.313 1514.42 L994.2 1514.42 L1005.62 1551.36 Z\" fill=\"#000000\" fill-rule=\"nonzero\" fill-opacity=\"1\" /><circle clip-path=\"url(#clip532)\" style=\"fill:#3da44d; stroke:none; fill-opacity:1\" cx=\"268.346\" cy=\"47.2441\" r=\"2\"/>\n",
       "<circle clip-path=\"url(#clip532)\" style=\"fill:#3da44d; stroke:none; fill-opacity:1\" cx=\"489.449\" cy=\"47.2441\" r=\"2\"/>\n",
       "<circle clip-path=\"url(#clip532)\" style=\"fill:#3da44d; stroke:none; fill-opacity:1\" cx=\"710.551\" cy=\"47.2441\" r=\"2\"/>\n",
       "<circle clip-path=\"url(#clip532)\" style=\"fill:#3da44d; stroke:none; fill-opacity:1\" cx=\"931.654\" cy=\"47.2441\" r=\"2\"/>\n",
       "<path clip-path=\"url(#clip530)\" d=\"M268.346 22.3918 Q262.027 22.3918 258.827 28.6302 Q255.667 34.8281 255.667 47.3049 Q255.667 59.7411 258.827 65.9795 Q262.027 72.1774 268.346 72.1774 Q274.706 72.1774 277.866 65.9795 Q281.066 59.7411 281.066 47.3049 Q281.066 34.8281 277.866 28.6302 Q274.706 22.3918 268.346 22.3918 M268.346 15.9104 Q278.514 15.9104 283.861 23.9716 Q289.249 31.9924 289.249 47.3049 Q289.249 62.5768 283.861 70.6381 Q278.514 78.6589 268.346 78.6589 Q258.179 78.6589 252.791 70.6381 Q247.444 62.5768 247.444 47.3049 Q247.444 31.9924 252.791 23.9716 Q258.179 15.9104 268.346 15.9104 Z\" fill=\"#000000\" fill-rule=\"nonzero\" fill-opacity=\"1\" /><path clip-path=\"url(#clip530)\" d=\"M418.355 17.0041 L450.479 17.0041 L450.479 23.8906 L425.85 23.8906 L425.85 38.7169 Q427.632 38.1093 429.414 37.8257 Q431.197 37.5017 432.979 37.5017 Q443.106 37.5017 449.021 43.0514 Q454.935 48.6011 454.935 58.0803 Q454.935 67.8429 448.859 73.2712 Q442.782 78.6589 431.723 78.6589 Q427.916 78.6589 423.946 78.0107 Q420.016 77.3626 415.803 76.0663 L415.803 67.8429 Q419.449 69.8279 423.338 70.8001 Q427.227 71.7723 431.561 71.7723 Q438.569 71.7723 442.661 68.086 Q446.752 64.3997 446.752 58.0803 Q446.752 51.7609 442.661 48.0745 Q438.569 44.3882 431.561 44.3882 Q428.28 44.3882 424.999 45.1174 Q421.758 45.8465 418.355 47.3859 L418.355 17.0041 Z\" fill=\"#000000\" fill-rule=\"nonzero\" fill-opacity=\"1\" /><path clip-path=\"url(#clip530)\" d=\"M495.849 44.8743 Q501.723 46.1301 505.004 50.1 Q508.326 54.0699 508.326 59.9032 Q508.326 68.8557 502.169 73.7573 Q496.011 78.6589 484.669 78.6589 Q480.861 78.6589 476.81 77.8892 Q472.8 77.16 468.506 75.6612 L468.506 67.7619 Q471.908 69.7469 475.959 70.7596 Q480.01 71.7723 484.426 71.7723 Q492.122 71.7723 496.133 68.7341 Q500.184 65.696 500.184 59.9032 Q500.184 54.556 496.416 51.5583 Q492.69 48.5201 486.006 48.5201 L478.957 48.5201 L478.957 41.7956 L486.33 41.7956 Q492.365 41.7956 495.566 39.4056 Q498.766 36.9751 498.766 32.438 Q498.766 27.7795 495.444 25.3084 Q492.163 22.7969 486.006 22.7969 Q482.643 22.7969 478.795 23.5261 Q474.947 24.2552 470.329 25.7946 L470.329 18.5029 Q474.987 17.2066 479.038 16.5585 Q483.129 15.9104 486.735 15.9104 Q496.052 15.9104 501.48 20.1638 Q506.908 24.3767 506.908 31.5873 Q506.908 36.6105 504.032 40.0942 Q501.156 43.5375 495.849 44.8743 Z\" fill=\"#000000\" fill-rule=\"nonzero\" fill-opacity=\"1\" /><path clip-path=\"url(#clip530)\" d=\"M546.324 24.1337 L525.664 56.4194 L546.324 56.4194 L546.324 24.1337 M544.177 17.0041 L554.466 17.0041 L554.466 56.4194 L563.094 56.4194 L563.094 63.2249 L554.466 63.2249 L554.466 77.4841 L546.324 77.4841 L546.324 63.2249 L519.02 63.2249 L519.02 55.3256 L544.177 17.0041 Z\" fill=\"#000000\" fill-rule=\"nonzero\" fill-opacity=\"1\" /><path clip-path=\"url(#clip530)\" d=\"M663.459 24.1337 L642.8 56.4194 L663.459 56.4194 L663.459 24.1337 M661.312 17.0041 L671.602 17.0041 L671.602 56.4194 L680.23 56.4194 L680.23 63.2249 L671.602 63.2249 L671.602 77.4841 L663.459 77.4841 L663.459 63.2249 L636.156 63.2249 L636.156 55.3256 L661.312 17.0041 Z\" fill=\"#000000\" fill-rule=\"nonzero\" fill-opacity=\"1\" /><path clip-path=\"url(#clip530)\" d=\"M694.003 76.2283 L694.003 68.7747 Q697.082 70.233 700.242 71.0026 Q703.401 71.7723 706.44 71.7723 Q714.541 71.7723 718.795 66.3441 Q723.089 60.8754 723.696 49.7759 Q721.347 53.2597 717.742 55.1231 Q714.136 56.9865 709.761 56.9865 Q700.687 56.9865 695.381 51.5178 Q690.114 46.0086 690.114 36.4889 Q690.114 27.1719 695.624 21.5411 Q701.133 15.9104 710.288 15.9104 Q720.78 15.9104 726.289 23.9716 Q731.839 31.9924 731.839 47.3049 Q731.839 61.6045 725.033 70.152 Q718.268 78.6589 706.804 78.6589 Q703.725 78.6589 700.566 78.0512 Q697.406 77.4436 694.003 76.2283 M710.288 50.5861 Q715.797 50.5861 718.997 46.8187 Q722.238 43.0514 722.238 36.4889 Q722.238 29.967 718.997 26.1996 Q715.797 22.3918 710.288 22.3918 Q704.779 22.3918 701.538 26.1996 Q698.338 29.967 698.338 36.4889 Q698.338 43.0514 701.538 46.8187 Q704.779 50.5861 710.288 50.5861 Z\" fill=\"#000000\" fill-rule=\"nonzero\" fill-opacity=\"1\" /><path clip-path=\"url(#clip530)\" d=\"M764.043 22.3918 Q757.724 22.3918 754.524 28.6302 Q751.364 34.8281 751.364 47.3049 Q751.364 59.7411 754.524 65.9795 Q757.724 72.1774 764.043 72.1774 Q770.403 72.1774 773.563 65.9795 Q776.763 59.7411 776.763 47.3049 Q776.763 34.8281 773.563 28.6302 Q770.403 22.3918 764.043 22.3918 M764.043 15.9104 Q774.211 15.9104 779.558 23.9716 Q784.946 31.9924 784.946 47.3049 Q784.946 62.5768 779.558 70.6381 Q774.211 78.6589 764.043 78.6589 Q753.876 78.6589 748.488 70.6381 Q743.141 62.5768 743.141 47.3049 Q743.141 31.9924 748.488 23.9716 Q753.876 15.9104 764.043 15.9104 Z\" fill=\"#000000\" fill-rule=\"nonzero\" fill-opacity=\"1\" /><path clip-path=\"url(#clip530)\" d=\"M931.654 22.3918 Q925.334 22.3918 922.134 28.6302 Q918.974 34.8281 918.974 47.3049 Q918.974 59.7411 922.134 65.9795 Q925.334 72.1774 931.654 72.1774 Q938.013 72.1774 941.173 65.9795 Q944.373 59.7411 944.373 47.3049 Q944.373 34.8281 941.173 28.6302 Q938.013 22.3918 931.654 22.3918 M931.654 15.9104 Q941.821 15.9104 947.169 23.9716 Q952.556 31.9924 952.556 47.3049 Q952.556 62.5768 947.169 70.6381 Q941.821 78.6589 931.654 78.6589 Q921.486 78.6589 916.098 70.6381 Q910.751 62.5768 910.751 47.3049 Q910.751 31.9924 916.098 23.9716 Q921.486 15.9104 931.654 15.9104 Z\" fill=\"#000000\" fill-rule=\"nonzero\" fill-opacity=\"1\" /></svg>\n"
      ]
     },
     "execution_count": 18,
     "metadata": {},
     "output_type": "execute_result"
    }
   ],
   "source": [
    "plotmeasure(measuredqubits)"
   ]
  },
  {
   "cell_type": "markdown",
   "id": "3aa32a66",
   "metadata": {},
   "source": [
    "\n",
    "## Third Bell State\n",
    "\n",
    "## 1/sqrt(2) * ( |00⟩ - |11⟩ )"
   ]
  },
  {
   "cell_type": "markdown",
   "id": "33b1fd6b",
   "metadata": {},
   "source": [
    "- Define the quantum circuit\n",
    "- Plot the circuit"
   ]
  },
  {
   "cell_type": "code",
   "execution_count": 19,
   "id": "23c05166",
   "metadata": {},
   "outputs": [
    {
     "data": {
      "image/svg+xml": [
       "<?xml version=\"1.0\" encoding=\"UTF-8\"?>\n",
       "<svg xmlns=\"http://www.w3.org/2000/svg\" xmlns:xlink=\"http://www.w3.org/1999/xlink\" width=\"204pt\" height=\"90pt\" viewBox=\"0 0 204 90\" version=\"1.1\">\n",
       "<defs>\n",
       "<g>\n",
       "<symbol overflow=\"visible\" id=\"glyph-7274370-0\">\n",
       "<path style=\"stroke:none;\" d=\"M 0.796875 2.828125 L 0.796875 -11.28125 L 8.796875 -11.28125 L 8.796875 2.828125 Z M 1.695312 1.9375 L 7.90625 1.9375 L 7.90625 -10.382812 L 1.695312 -10.382812 Z M 1.695312 1.9375 \"/>\n",
       "</symbol>\n",
       "<symbol overflow=\"visible\" id=\"glyph-7274370-1\">\n",
       "<path style=\"stroke:none;\" d=\"M 1.507812 -8.140625 C 1.285156 -8.152344 1.125 -8.199219 1.027344 -8.285156 C 0.929688 -8.371094 0.882812 -8.511719 0.882812 -8.703125 C 0.882812 -8.886719 0.929688 -9.023438 1.019531 -9.121094 C 1.109375 -9.21875 1.246094 -9.265625 1.421875 -9.265625 L 3.390625 -9.265625 C 3.582031 -9.265625 3.730469 -9.21875 3.832031 -9.121094 C 3.933594 -9.023438 3.984375 -8.886719 3.984375 -8.703125 C 3.984375 -8.527344 3.917969 -8.386719 3.789062 -8.289062 C 3.660156 -8.191406 3.480469 -8.140625 3.25 -8.140625 L 3.023438 -8.140625 L 4.796875 -5.632812 L 6.640625 -8.140625 L 6.398438 -8.140625 C 6.148438 -8.140625 5.953125 -8.191406 5.8125 -8.292969 C 5.671875 -8.394531 5.601562 -8.53125 5.601562 -8.703125 C 5.601562 -8.875 5.65625 -9.011719 5.765625 -9.113281 C 5.875 -9.214844 6.023438 -9.265625 6.210938 -9.265625 L 8.179688 -9.265625 C 8.355469 -9.265625 8.492188 -9.21875 8.582031 -9.121094 C 8.671875 -9.023438 8.71875 -8.886719 8.71875 -8.703125 C 8.71875 -8.503906 8.664062 -8.363281 8.558594 -8.273438 C 8.453125 -8.183594 8.277344 -8.140625 8.03125 -8.140625 L 5.539062 -4.765625 L 8.257812 -1.101562 C 8.488281 -1.085938 8.65625 -1.035156 8.765625 -0.945312 C 8.875 -0.855469 8.929688 -0.730469 8.929688 -0.5625 C 8.929688 -0.390625 8.878906 -0.253906 8.773438 -0.152344 C 8.667969 -0.0507812 8.527344 0 8.351562 0 L 6.257812 0 C 5.988281 0 5.804688 -0.0429688 5.710938 -0.125 C 5.617188 -0.207031 5.570312 -0.355469 5.570312 -0.5625 C 5.570312 -0.765625 5.628906 -0.90625 5.742188 -0.984375 C 5.855469 -1.0625 6.082031 -1.101562 6.414062 -1.101562 L 6.734375 -1.101562 L 4.734375 -3.859375 L 2.765625 -1.101562 L 3.117188 -1.101562 C 3.476562 -1.101562 3.71875 -1.0625 3.84375 -0.984375 C 3.96875 -0.90625 4.03125 -0.765625 4.03125 -0.5625 C 4.03125 -0.355469 3.980469 -0.207031 3.882812 -0.125 C 3.785156 -0.0429688 3.597656 0 3.328125 0 L 1.25 0 C 1.074219 0 0.933594 -0.0507812 0.828125 -0.152344 C 0.722656 -0.253906 0.671875 -0.390625 0.671875 -0.5625 C 0.671875 -0.738281 0.726562 -0.871094 0.835938 -0.960938 C 0.945312 -1.050781 1.121094 -1.097656 1.359375 -1.101562 L 4 -4.71875 Z M 1.507812 -8.140625 \"/>\n",
       "</symbol>\n",
       "<symbol overflow=\"visible\" id=\"glyph-7274370-2\">\n",
       "<path style=\"stroke:none;\" d=\"M 2.929688 -1.101562 L 3.453125 -1.101562 C 3.761719 -1.101562 3.976562 -1.058594 4.101562 -0.976562 C 4.226562 -0.894531 4.289062 -0.753906 4.289062 -0.5625 C 4.289062 -0.347656 4.234375 -0.203125 4.125 -0.121094 C 4.015625 -0.0390625 3.777344 0 3.40625 0 L 1.34375 0 C 1.152344 0 1.007812 -0.046875 0.910156 -0.140625 C 0.8125 -0.234375 0.765625 -0.375 0.765625 -0.5625 C 0.765625 -0.765625 0.820312 -0.90625 0.933594 -0.984375 C 1.046875 -1.0625 1.257812 -1.101562 1.570312 -1.101562 L 1.710938 -1.101562 L 1.710938 -8.140625 L 1.585938 -8.140625 C 1.273438 -8.140625 1.058594 -8.183594 0.941406 -8.265625 C 0.824219 -8.347656 0.765625 -8.496094 0.765625 -8.703125 C 0.765625 -8.894531 0.8125 -9.039062 0.910156 -9.128906 C 1.007812 -9.21875 1.15625 -9.265625 1.359375 -9.265625 L 3.328125 -9.265625 C 3.746094 -9.265625 4.007812 -9.226562 4.121094 -9.144531 C 4.234375 -9.0625 4.289062 -8.917969 4.289062 -8.703125 C 4.289062 -8.496094 4.21875 -8.347656 4.078125 -8.265625 C 3.9375 -8.183594 3.671875 -8.140625 3.28125 -8.140625 L 2.929688 -8.140625 L 2.929688 -5.421875 L 6.671875 -5.421875 L 6.671875 -8.140625 L 6.140625 -8.140625 C 5.84375 -8.140625 5.632812 -8.183594 5.503906 -8.273438 C 5.375 -8.363281 5.3125 -8.503906 5.3125 -8.703125 C 5.3125 -8.917969 5.371094 -9.0625 5.488281 -9.144531 C 5.605469 -9.226562 5.894531 -9.265625 6.351562 -9.265625 L 8.257812 -9.265625 C 8.445312 -9.265625 8.585938 -9.21875 8.683594 -9.125 C 8.78125 -9.03125 8.828125 -8.890625 8.828125 -8.703125 C 8.828125 -8.5 8.773438 -8.355469 8.664062 -8.269531 C 8.554688 -8.183594 8.359375 -8.140625 8.078125 -8.140625 L 7.890625 -8.140625 L 7.890625 -1.101562 L 8.015625 -1.101562 C 8.328125 -1.101562 8.542969 -1.0625 8.65625 -0.980469 C 8.769531 -0.898438 8.828125 -0.761719 8.828125 -0.5625 C 8.828125 -0.347656 8.773438 -0.203125 8.664062 -0.121094 C 8.554688 -0.0390625 8.300781 0 7.90625 0 L 6.289062 0 C 5.867188 0 5.597656 -0.0390625 5.484375 -0.121094 C 5.371094 -0.203125 5.3125 -0.347656 5.3125 -0.5625 C 5.3125 -0.765625 5.378906 -0.90625 5.515625 -0.984375 C 5.652344 -1.0625 5.910156 -1.101562 6.289062 -1.101562 L 6.671875 -1.101562 L 6.671875 -4.351562 L 2.929688 -4.351562 Z M 2.929688 -1.101562 \"/>\n",
       "</symbol>\n",
       "</g>\n",
       "</defs>\n",
       "<g id=\"surface19\">\n",
       "<path style=\"fill:none;stroke-width:1;stroke-linecap:butt;stroke-linejoin:miter;stroke:rgb(0%,0%,0%);stroke-opacity:1;stroke-miterlimit:10;\" d=\"M 39 34.5 L 39 10.5 L 63 10.5 L 63 34.5 Z M 39 34.5 \"/>\n",
       "<g style=\"fill:rgb(0%,0%,0%);fill-opacity:1;\">\n",
       "  <use xlink:href=\"#glyph-7274370-1\" x=\"46.199219\" y=\"27.132812\"/>\n",
       "</g>\n",
       "<path style=\"fill:none;stroke-width:1;stroke-linecap:butt;stroke-linejoin:miter;stroke:rgb(0%,0%,0%);stroke-opacity:1;stroke-miterlimit:10;\" d=\"M 25.5 22.5 L 39 22.5 \"/>\n",
       "<path style=\"fill:none;stroke-width:1;stroke-linecap:butt;stroke-linejoin:miter;stroke:rgb(0%,0%,0%);stroke-opacity:1;stroke-miterlimit:10;\" d=\"M 63 22.5 L 76.5 22.5 \"/>\n",
       "<path style=\"fill:none;stroke-width:1;stroke-linecap:butt;stroke-linejoin:miter;stroke:rgb(0%,0%,0%);stroke-opacity:1;stroke-miterlimit:10;\" d=\"M 90 34.5 L 90 10.5 L 114 10.5 L 114 34.5 Z M 90 34.5 \"/>\n",
       "<g style=\"fill:rgb(0%,0%,0%);fill-opacity:1;\">\n",
       "  <use xlink:href=\"#glyph-7274370-2\" x=\"97.199219\" y=\"27.132812\"/>\n",
       "</g>\n",
       "<path style=\"fill:none;stroke-width:1;stroke-linecap:butt;stroke-linejoin:miter;stroke:rgb(0%,0%,0%);stroke-opacity:1;stroke-miterlimit:10;\" d=\"M 76.5 22.5 L 90 22.5 \"/>\n",
       "<path style=\"fill:none;stroke-width:1;stroke-linecap:butt;stroke-linejoin:miter;stroke:rgb(0%,0%,0%);stroke-opacity:1;stroke-miterlimit:10;\" d=\"M 114 22.5 L 127.5 22.5 \"/>\n",
       "<path style=\" stroke:none;fill-rule:nonzero;fill:rgb(0%,0%,0%);fill-opacity:1;\" d=\"M 155.398438 22.5 C 155.398438 25.699219 150.601562 25.699219 150.601562 22.5 C 150.601562 19.300781 155.398438 19.300781 155.398438 22.5 \"/>\n",
       "<path style=\"fill:none;stroke-width:1;stroke-linecap:butt;stroke-linejoin:miter;stroke:rgb(0%,0%,0%);stroke-opacity:1;stroke-miterlimit:10;\" d=\"M 161.398438 67.5 C 161.398438 72.140625 157.640625 75.898438 153 75.898438 C 148.359375 75.898438 144.601562 72.140625 144.601562 67.5 C 144.601562 62.859375 148.359375 59.101562 153 59.101562 C 157.640625 59.101562 161.398438 62.859375 161.398438 67.5 \"/>\n",
       "<path style=\"fill:none;stroke-width:1;stroke-linecap:butt;stroke-linejoin:miter;stroke:rgb(0%,0%,0%);stroke-opacity:1;stroke-miterlimit:10;\" d=\"M 144.601562 67.5 L 161.398438 67.5 \"/>\n",
       "<path style=\"fill:none;stroke-width:1;stroke-linecap:butt;stroke-linejoin:miter;stroke:rgb(0%,0%,0%);stroke-opacity:1;stroke-miterlimit:10;\" d=\"M 153 59.101562 L 153 75.898438 \"/>\n",
       "<path style=\"fill:none;stroke-width:1;stroke-linecap:butt;stroke-linejoin:miter;stroke:rgb(0%,0%,0%);stroke-opacity:1;stroke-miterlimit:10;\" d=\"M 153 59.101562 L 153 24.898438 \"/>\n",
       "<path style=\"fill:none;stroke-width:1;stroke-linecap:butt;stroke-linejoin:miter;stroke:rgb(0%,0%,0%);stroke-opacity:1;stroke-miterlimit:10;\" d=\"M 127.5 22.5 L 150.601562 22.5 \"/>\n",
       "<path style=\"fill:none;stroke-width:1;stroke-linecap:butt;stroke-linejoin:miter;stroke:rgb(0%,0%,0%);stroke-opacity:1;stroke-miterlimit:10;\" d=\"M 155.398438 22.5 L 178.5 22.5 \"/>\n",
       "<path style=\"fill:none;stroke-width:1;stroke-linecap:butt;stroke-linejoin:miter;stroke:rgb(0%,0%,0%);stroke-opacity:1;stroke-miterlimit:10;\" d=\"M 25.5 67.5 L 144.601562 67.5 \"/>\n",
       "<path style=\"fill:none;stroke-width:1;stroke-linecap:butt;stroke-linejoin:miter;stroke:rgb(0%,0%,0%);stroke-opacity:1;stroke-miterlimit:10;\" d=\"M 161.398438 67.5 L 178.5 67.5 \"/>\n",
       "<path style=\"fill:none;stroke-width:1;stroke-linecap:butt;stroke-linejoin:miter;stroke:rgb(0%,0%,0%);stroke-opacity:1;stroke-miterlimit:10;\" d=\"M 178.5 22.5 L 178.5 22.5 \"/>\n",
       "<path style=\"fill:none;stroke-width:1;stroke-linecap:butt;stroke-linejoin:miter;stroke:rgb(0%,0%,0%);stroke-opacity:1;stroke-miterlimit:10;\" d=\"M 178.5 67.5 L 178.5 67.5 \"/>\n",
       "</g>\n",
       "</svg>\n"
      ],
      "text/plain": []
     },
     "execution_count": 19,
     "metadata": {},
     "output_type": "execute_result"
    }
   ],
   "source": [
    "begin\n",
    "\tbellcircuit = chain(2, put(1=>X),put(1=>H), control(1, 2=>X))\n",
    "\tplot(bellcircuit)\n",
    "end"
   ]
  },
  {
   "cell_type": "markdown",
   "id": "97261c13",
   "metadata": {},
   "source": [
    "- Set up the two qubits to be sent into the circuit"
   ]
  },
  {
   "cell_type": "code",
   "execution_count": 20,
   "id": "978729c5",
   "metadata": {},
   "outputs": [
    {
     "data": {
      "text/plain": [
       "ArrayReg{2, ComplexF64, Array...}\n",
       "    active qubits: 2/2\n",
       "    nlevel: 2"
      ]
     },
     "execution_count": 20,
     "metadata": {},
     "output_type": "execute_result"
    }
   ],
   "source": [
    "q1 = ArrayReg(bit\"00\") #creating the system of two qubits with state |00>."
   ]
  },
  {
   "cell_type": "markdown",
   "id": "cae002e2",
   "metadata": {},
   "source": [
    "- View the state vector of the two qubits"
   ]
  },
  {
   "cell_type": "code",
   "execution_count": 21,
   "id": "297e0f04",
   "metadata": {},
   "outputs": [
    {
     "data": {
      "text/plain": [
       "4×1 Matrix{ComplexF64}:\n",
       " 1.0 + 0.0im\n",
       " 0.0 + 0.0im\n",
       " 0.0 + 0.0im\n",
       " 0.0 + 0.0im"
      ]
     },
     "execution_count": 21,
     "metadata": {},
     "output_type": "execute_result"
    }
   ],
   "source": [
    "state(q1) #state of a qubit in vector form"
   ]
  },
  {
   "cell_type": "markdown",
   "id": "73d0d0b8",
   "metadata": {},
   "source": [
    "- Send the qubits into the circuit"
   ]
  },
  {
   "cell_type": "code",
   "execution_count": 22,
   "id": "ab2dbce8",
   "metadata": {},
   "outputs": [
    {
     "data": {
      "text/plain": [
       "ArrayReg{2, ComplexF64, Array...}\n",
       "    active qubits: 2/2\n",
       "    nlevel: 2"
      ]
     },
     "execution_count": 22,
     "metadata": {},
     "output_type": "execute_result"
    }
   ],
   "source": [
    "a = (q1 |> bellcircuit) #Passing the qubit q1 through the bell circuit"
   ]
  },
  {
   "cell_type": "markdown",
   "id": "e3b9b2ab",
   "metadata": {},
   "source": [
    "- Now look at the resulting statevector"
   ]
  },
  {
   "cell_type": "code",
   "execution_count": 23,
   "id": "ece338a7",
   "metadata": {},
   "outputs": [
    {
     "data": {
      "text/plain": [
       "4×1 Matrix{ComplexF64}:\n",
       "  0.7071067811865475 + 0.0im\n",
       "                 0.0 + 0.0im\n",
       "                 0.0 + 0.0im\n",
       " -0.7071067811865475 + 0.0im"
      ]
     },
     "execution_count": 23,
     "metadata": {},
     "output_type": "execute_result"
    }
   ],
   "source": [
    "state(a)"
   ]
  },
  {
   "cell_type": "markdown",
   "id": "f40d5070",
   "metadata": {},
   "source": [
    "- Meassure the state \"nshots\" times"
   ]
  },
  {
   "cell_type": "code",
   "execution_count": 24,
   "id": "86b9114c",
   "metadata": {
    "scrolled": true
   },
   "outputs": [
    {
     "data": {
      "text/plain": [
       "1024-element Vector{DitStr{2, 2, Int64}}:\n",
       " 00 ₍₂₎\n",
       " 11 ₍₂₎\n",
       " 00 ₍₂₎\n",
       " 00 ₍₂₎\n",
       " 00 ₍₂₎\n",
       " 00 ₍₂₎\n",
       " 11 ₍₂₎\n",
       " 00 ₍₂₎\n",
       " 11 ₍₂₎\n",
       " 11 ₍₂₎\n",
       " 00 ₍₂₎\n",
       " 11 ₍₂₎\n",
       " 11 ₍₂₎\n",
       "      ⋮\n",
       " 11 ₍₂₎\n",
       " 11 ₍₂₎\n",
       " 00 ₍₂₎\n",
       " 00 ₍₂₎\n",
       " 11 ₍₂₎\n",
       " 11 ₍₂₎\n",
       " 00 ₍₂₎\n",
       " 11 ₍₂₎\n",
       " 00 ₍₂₎\n",
       " 00 ₍₂₎\n",
       " 11 ₍₂₎\n",
       " 00 ₍₂₎"
      ]
     },
     "execution_count": 24,
     "metadata": {},
     "output_type": "execute_result"
    }
   ],
   "source": [
    "measuredqubits = a |> r->measure(r, nshots=1024)"
   ]
  },
  {
   "cell_type": "markdown",
   "id": "61abd3fe",
   "metadata": {},
   "source": [
    "- Plot the resulting states"
   ]
  },
  {
   "cell_type": "code",
   "execution_count": 25,
   "id": "259d918d",
   "metadata": {
    "scrolled": true
   },
   "outputs": [
    {
     "data": {
      "image/svg+xml": [
       "<?xml version=\"1.0\" encoding=\"utf-8\"?>\n",
       "<svg xmlns=\"http://www.w3.org/2000/svg\" xmlns:xlink=\"http://www.w3.org/1999/xlink\" width=\"300\" height=\"400\" viewBox=\"0 0 1200 1600\">\n",
       "<defs>\n",
       "  <clipPath id=\"clip560\">\n",
       "    <rect x=\"0\" y=\"0\" width=\"1200\" height=\"1600\"/>\n",
       "  </clipPath>\n",
       "</defs>\n",
       "<path clip-path=\"url(#clip560)\" d=\"M0 1600 L1200 1600 L1200 0 L0 0  Z\" fill=\"#ffffff\" fill-rule=\"evenodd\" fill-opacity=\"1\"/>\n",
       "<defs>\n",
       "  <clipPath id=\"clip561\">\n",
       "    <rect x=\"320\" y=\"160\" width=\"1121\" height=\"1121\"/>\n",
       "  </clipPath>\n",
       "</defs>\n",
       "<path clip-path=\"url(#clip560)\" d=\"M47.2441 1552.76 L1152.76 1552.76 L1152.76 47.2441 L47.2441 47.2441  Z\" fill=\"#ffffff\" fill-rule=\"evenodd\" fill-opacity=\"1\"/>\n",
       "<defs>\n",
       "  <clipPath id=\"clip562\">\n",
       "    <rect x=\"47\" y=\"47\" width=\"1107\" height=\"1507\"/>\n",
       "  </clipPath>\n",
       "</defs>\n",
       "<path clip-path=\"url(#clip562)\" d=\"M179.906 229.229 L179.906 1550 L356.787 1550 L356.787 229.229 L179.906 229.229 L179.906 229.229  Z\" fill=\"#add8e6\" fill-rule=\"evenodd\" fill-opacity=\"1\"/>\n",
       "<polyline clip-path=\"url(#clip562)\" style=\"stroke:#add8e6; stroke-linecap:round; stroke-linejoin:round; stroke-width:4; stroke-opacity:1; fill:none\" points=\"179.906,229.229 179.906,1550 356.787,1550 356.787,229.229 179.906,229.229 \"/>\n",
       "<path clip-path=\"url(#clip562)\" d=\"M401.008 1550 L401.008 1550 L577.89 1550 L577.89 1550 L401.008 1550 L401.008 1550  Z\" fill=\"#add8e6\" fill-rule=\"evenodd\" fill-opacity=\"1\"/>\n",
       "<polyline clip-path=\"url(#clip562)\" style=\"stroke:#add8e6; stroke-linecap:round; stroke-linejoin:round; stroke-width:4; stroke-opacity:1; fill:none\" points=\"401.008,1550 401.008,1550 577.89,1550 401.008,1550 \"/>\n",
       "<path clip-path=\"url(#clip562)\" d=\"M622.11 1550 L622.11 1550 L798.992 1550 L798.992 1550 L622.11 1550 L622.11 1550  Z\" fill=\"#add8e6\" fill-rule=\"evenodd\" fill-opacity=\"1\"/>\n",
       "<polyline clip-path=\"url(#clip562)\" style=\"stroke:#add8e6; stroke-linecap:round; stroke-linejoin:round; stroke-width:4; stroke-opacity:1; fill:none\" points=\"622.11,1550 622.11,1550 798.992,1550 622.11,1550 \"/>\n",
       "<path clip-path=\"url(#clip562)\" d=\"M843.213 47.2441 L843.213 1550 L1020.09 1550 L1020.09 47.2441 L843.213 47.2441 L843.213 47.2441  Z\" fill=\"#add8e6\" fill-rule=\"evenodd\" fill-opacity=\"1\"/>\n",
       "<polyline clip-path=\"url(#clip562)\" style=\"stroke:#add8e6; stroke-linecap:round; stroke-linejoin:round; stroke-width:4; stroke-opacity:1; fill:none\" points=\"843.213,47.2441 843.213,1550 1020.09,1550 1020.09,47.2441 843.213,47.2441 \"/>\n",
       "<circle clip-path=\"url(#clip562)\" style=\"fill:#add8e6; stroke:none; fill-opacity:0\" cx=\"157.795\" cy=\"229.229\" r=\"2\"/>\n",
       "<circle clip-path=\"url(#clip562)\" style=\"fill:#add8e6; stroke:none; fill-opacity:0\" cx=\"378.898\" cy=\"1550\" r=\"2\"/>\n",
       "<circle clip-path=\"url(#clip562)\" style=\"fill:#add8e6; stroke:none; fill-opacity:0\" cx=\"600\" cy=\"1550\" r=\"2\"/>\n",
       "<circle clip-path=\"url(#clip562)\" style=\"fill:#add8e6; stroke:none; fill-opacity:0\" cx=\"821.102\" cy=\"47.2441\" r=\"2\"/>\n",
       "<circle clip-path=\"url(#clip562)\" style=\"fill:#add8e6; stroke:none; fill-opacity:0\" cx=\"1042.2\" cy=\"229.229\" r=\"2\"/>\n",
       "<circle clip-path=\"url(#clip562)\" style=\"fill:#e26f46; stroke:none; fill-opacity:1\" cx=\"268.346\" cy=\"1547.24\" r=\"2\"/>\n",
       "<circle clip-path=\"url(#clip562)\" style=\"fill:#e26f46; stroke:none; fill-opacity:1\" cx=\"489.449\" cy=\"1547.24\" r=\"2\"/>\n",
       "<circle clip-path=\"url(#clip562)\" style=\"fill:#e26f46; stroke:none; fill-opacity:1\" cx=\"710.551\" cy=\"1547.24\" r=\"2\"/>\n",
       "<circle clip-path=\"url(#clip562)\" style=\"fill:#e26f46; stroke:none; fill-opacity:1\" cx=\"931.654\" cy=\"1547.24\" r=\"2\"/>\n",
       "<path clip-path=\"url(#clip560)\" d=\"M201.263 1514.08 L201.263 1597.05 L194.377 1597.05 L194.377 1514.08 L201.263 1514.08 Z\" fill=\"#000000\" fill-rule=\"nonzero\" fill-opacity=\"1\" /><path clip-path=\"url(#clip560)\" d=\"M238.167 1522.39 Q231.848 1522.39 228.648 1528.63 Q225.488 1534.83 225.488 1547.3 Q225.488 1559.74 228.648 1565.98 Q231.848 1572.17 238.167 1572.17 Q244.527 1572.17 247.687 1565.98 Q250.887 1559.74 250.887 1547.3 Q250.887 1534.83 247.687 1528.63 Q244.527 1522.39 238.167 1522.39 M238.167 1515.91 Q248.335 1515.91 253.682 1523.97 Q259.07 1531.99 259.07 1547.3 Q259.07 1562.57 253.682 1570.64 Q248.335 1578.66 238.167 1578.66 Q227.999 1578.66 222.612 1570.64 Q217.265 1562.57 217.265 1547.3 Q217.265 1531.99 222.612 1523.97 Q227.999 1515.91 238.167 1515.91 Z\" fill=\"#000000\" fill-rule=\"nonzero\" fill-opacity=\"1\" /><path clip-path=\"url(#clip560)\" d=\"M290.951 1522.39 Q284.631 1522.39 281.431 1528.63 Q278.271 1534.83 278.271 1547.3 Q278.271 1559.74 281.431 1565.98 Q284.631 1572.17 290.951 1572.17 Q297.31 1572.17 300.47 1565.98 Q303.67 1559.74 303.67 1547.3 Q303.67 1534.83 300.47 1528.63 Q297.31 1522.39 290.951 1522.39 M290.951 1515.91 Q301.118 1515.91 306.465 1523.97 Q311.853 1531.99 311.853 1547.3 Q311.853 1562.57 306.465 1570.64 Q301.118 1578.66 290.951 1578.66 Q280.783 1578.66 275.395 1570.64 Q270.048 1562.57 270.048 1547.3 Q270.048 1531.99 275.395 1523.97 Q280.783 1515.91 290.951 1515.91 Z\" fill=\"#000000\" fill-rule=\"nonzero\" fill-opacity=\"1\" /><path clip-path=\"url(#clip560)\" d=\"M342.316 1551.47 L330.892 1588.42 L324.006 1588.42 L335.429 1551.47 L324.006 1514.53 L330.892 1514.53 L342.316 1551.47 Z\" fill=\"#000000\" fill-rule=\"nonzero\" fill-opacity=\"1\" /><path clip-path=\"url(#clip560)\" d=\"M422.366 1514.08 L422.366 1597.05 L415.479 1597.05 L415.479 1514.08 L422.366 1514.08 Z\" fill=\"#000000\" fill-rule=\"nonzero\" fill-opacity=\"1\" /><path clip-path=\"url(#clip560)\" d=\"M459.27 1522.39 Q452.95 1522.39 449.75 1528.63 Q446.59 1534.83 446.59 1547.3 Q446.59 1559.74 449.75 1565.98 Q452.95 1572.17 459.27 1572.17 Q465.63 1572.17 468.789 1565.98 Q471.989 1559.74 471.989 1547.3 Q471.989 1534.83 468.789 1528.63 Q465.63 1522.39 459.27 1522.39 M459.27 1515.91 Q469.437 1515.91 474.785 1523.97 Q480.172 1531.99 480.172 1547.3 Q480.172 1562.57 474.785 1570.64 Q469.437 1578.66 459.27 1578.66 Q449.102 1578.66 443.714 1570.64 Q438.367 1562.57 438.367 1547.3 Q438.367 1531.99 443.714 1523.97 Q449.102 1515.91 459.27 1515.91 Z\" fill=\"#000000\" fill-rule=\"nonzero\" fill-opacity=\"1\" /><path clip-path=\"url(#clip560)\" d=\"M495.971 1570.59 L509.339 1570.59 L509.339 1524.45 L494.796 1527.37 L494.796 1519.92 L509.258 1517 L517.441 1517 L517.441 1570.59 L530.809 1570.59 L530.809 1577.48 L495.971 1577.48 L495.971 1570.59 Z\" fill=\"#000000\" fill-rule=\"nonzero\" fill-opacity=\"1\" /><path clip-path=\"url(#clip560)\" d=\"M563.418 1551.47 L551.995 1588.42 L545.108 1588.42 L556.532 1551.47 L545.108 1514.53 L551.995 1514.53 L563.418 1551.47 Z\" fill=\"#000000\" fill-rule=\"nonzero\" fill-opacity=\"1\" /><path clip-path=\"url(#clip560)\" d=\"M643.468 1514.08 L643.468 1597.05 L636.582 1597.05 L636.582 1514.08 L643.468 1514.08 Z\" fill=\"#000000\" fill-rule=\"nonzero\" fill-opacity=\"1\" /><path clip-path=\"url(#clip560)\" d=\"M664.29 1570.59 L677.658 1570.59 L677.658 1524.45 L663.115 1527.37 L663.115 1519.92 L677.577 1517 L685.76 1517 L685.76 1570.59 L699.128 1570.59 L699.128 1577.48 L664.29 1577.48 L664.29 1570.59 Z\" fill=\"#000000\" fill-rule=\"nonzero\" fill-opacity=\"1\" /><path clip-path=\"url(#clip560)\" d=\"M733.155 1522.39 Q726.836 1522.39 723.636 1528.63 Q720.476 1534.83 720.476 1547.3 Q720.476 1559.74 723.636 1565.98 Q726.836 1572.17 733.155 1572.17 Q739.515 1572.17 742.675 1565.98 Q745.875 1559.74 745.875 1547.3 Q745.875 1534.83 742.675 1528.63 Q739.515 1522.39 733.155 1522.39 M733.155 1515.91 Q743.323 1515.91 748.67 1523.97 Q754.058 1531.99 754.058 1547.3 Q754.058 1562.57 748.67 1570.64 Q743.323 1578.66 733.155 1578.66 Q722.987 1578.66 717.6 1570.64 Q712.253 1562.57 712.253 1547.3 Q712.253 1531.99 717.6 1523.97 Q722.987 1515.91 733.155 1515.91 Z\" fill=\"#000000\" fill-rule=\"nonzero\" fill-opacity=\"1\" /><path clip-path=\"url(#clip560)\" d=\"M784.521 1551.47 L773.097 1588.42 L766.211 1588.42 L777.634 1551.47 L766.211 1514.53 L773.097 1514.53 L784.521 1551.47 Z\" fill=\"#000000\" fill-rule=\"nonzero\" fill-opacity=\"1\" /><path clip-path=\"url(#clip560)\" d=\"M864.571 1514.08 L864.571 1597.05 L857.684 1597.05 L857.684 1514.08 L864.571 1514.08 Z\" fill=\"#000000\" fill-rule=\"nonzero\" fill-opacity=\"1\" /><path clip-path=\"url(#clip560)\" d=\"M885.392 1570.59 L898.76 1570.59 L898.76 1524.45 L884.217 1527.37 L884.217 1519.92 L898.679 1517 L906.862 1517 L906.862 1570.59 L920.23 1570.59 L920.23 1577.48 L885.392 1577.48 L885.392 1570.59 Z\" fill=\"#000000\" fill-rule=\"nonzero\" fill-opacity=\"1\" /><path clip-path=\"url(#clip560)\" d=\"M938.175 1570.59 L951.543 1570.59 L951.543 1524.45 L937.001 1527.37 L937.001 1519.92 L951.462 1517 L959.645 1517 L959.645 1570.59 L973.013 1570.59 L973.013 1577.48 L938.175 1577.48 L938.175 1570.59 Z\" fill=\"#000000\" fill-rule=\"nonzero\" fill-opacity=\"1\" /><path clip-path=\"url(#clip560)\" d=\"M1005.62 1551.47 L994.2 1588.42 L987.313 1588.42 L998.737 1551.47 L987.313 1514.53 L994.2 1514.53 L1005.62 1551.47 Z\" fill=\"#000000\" fill-rule=\"nonzero\" fill-opacity=\"1\" /><circle clip-path=\"url(#clip562)\" style=\"fill:#3da44d; stroke:none; fill-opacity:1\" cx=\"268.346\" cy=\"47.2441\" r=\"2\"/>\n",
       "<circle clip-path=\"url(#clip562)\" style=\"fill:#3da44d; stroke:none; fill-opacity:1\" cx=\"489.449\" cy=\"47.2441\" r=\"2\"/>\n",
       "<circle clip-path=\"url(#clip562)\" style=\"fill:#3da44d; stroke:none; fill-opacity:1\" cx=\"710.551\" cy=\"47.2441\" r=\"2\"/>\n",
       "<circle clip-path=\"url(#clip562)\" style=\"fill:#3da44d; stroke:none; fill-opacity:1\" cx=\"931.654\" cy=\"47.2441\" r=\"2\"/>\n",
       "<path clip-path=\"url(#clip560)\" d=\"M221.417 24.1337 L200.757 56.4194 L221.417 56.4194 L221.417 24.1337 M219.27 17.0041 L229.559 17.0041 L229.559 56.4194 L238.187 56.4194 L238.187 63.2249 L229.559 63.2249 L229.559 77.4841 L221.417 77.4841 L221.417 63.2249 L194.114 63.2249 L194.114 55.3256 L219.27 17.0041 Z\" fill=\"#000000\" fill-rule=\"nonzero\" fill-opacity=\"1\" /><path clip-path=\"url(#clip560)\" d=\"M249.652 17.0041 L288.54 17.0041 L288.54 20.4879 L266.584 77.4841 L258.037 77.4841 L278.697 23.8906 L249.652 23.8906 L249.652 17.0041 Z\" fill=\"#000000\" fill-rule=\"nonzero\" fill-opacity=\"1\" /><path clip-path=\"url(#clip560)\" d=\"M304.744 76.2283 L304.744 68.7747 Q307.823 70.233 310.982 71.0026 Q314.142 71.7723 317.18 71.7723 Q325.282 71.7723 329.535 66.3441 Q333.829 60.8754 334.437 49.7759 Q332.087 53.2597 328.482 55.1231 Q324.877 56.9865 320.502 56.9865 Q311.428 56.9865 306.121 51.5178 Q300.855 46.0086 300.855 36.4889 Q300.855 27.1719 306.364 21.5411 Q311.873 15.9104 321.028 15.9104 Q331.52 15.9104 337.03 23.9716 Q342.579 31.9924 342.579 47.3049 Q342.579 61.6045 335.774 70.152 Q329.009 78.6589 317.545 78.6589 Q314.466 78.6589 311.306 78.0512 Q308.147 77.4436 304.744 76.2283 M321.028 50.5861 Q326.538 50.5861 329.738 46.8187 Q332.979 43.0514 332.979 36.4889 Q332.979 29.967 329.738 26.1996 Q326.538 22.3918 321.028 22.3918 Q315.519 22.3918 312.279 26.1996 Q309.078 29.967 309.078 36.4889 Q309.078 43.0514 312.279 46.8187 Q315.519 50.5861 321.028 50.5861 Z\" fill=\"#000000\" fill-rule=\"nonzero\" fill-opacity=\"1\" /><path clip-path=\"url(#clip560)\" d=\"M489.449 22.3918 Q483.129 22.3918 479.929 28.6302 Q476.769 34.8281 476.769 47.3049 Q476.769 59.7411 479.929 65.9795 Q483.129 72.1774 489.449 72.1774 Q495.809 72.1774 498.968 65.9795 Q502.169 59.7411 502.169 47.3049 Q502.169 34.8281 498.968 28.6302 Q495.809 22.3918 489.449 22.3918 M489.449 15.9104 Q499.617 15.9104 504.964 23.9716 Q510.351 31.9924 510.351 47.3049 Q510.351 62.5768 504.964 70.6381 Q499.617 78.6589 489.449 78.6589 Q479.281 78.6589 473.893 70.6381 Q468.546 62.5768 468.546 47.3049 Q468.546 31.9924 473.893 23.9716 Q479.281 15.9104 489.449 15.9104 Z\" fill=\"#000000\" fill-rule=\"nonzero\" fill-opacity=\"1\" /><path clip-path=\"url(#clip560)\" d=\"M710.551 22.3918 Q704.232 22.3918 701.032 28.6302 Q697.872 34.8281 697.872 47.3049 Q697.872 59.7411 701.032 65.9795 Q704.232 72.1774 710.551 72.1774 Q716.911 72.1774 720.071 65.9795 Q723.271 59.7411 723.271 47.3049 Q723.271 34.8281 720.071 28.6302 Q716.911 22.3918 710.551 22.3918 M710.551 15.9104 Q720.719 15.9104 726.066 23.9716 Q731.454 31.9924 731.454 47.3049 Q731.454 62.5768 726.066 70.6381 Q720.719 78.6589 710.551 78.6589 Q700.383 78.6589 694.996 70.6381 Q689.649 62.5768 689.649 47.3049 Q689.649 31.9924 694.996 23.9716 Q700.383 15.9104 710.551 15.9104 Z\" fill=\"#000000\" fill-rule=\"nonzero\" fill-opacity=\"1\" /><path clip-path=\"url(#clip560)\" d=\"M861.856 17.0041 L893.98 17.0041 L893.98 23.8906 L869.351 23.8906 L869.351 38.7169 Q871.133 38.1093 872.915 37.8257 Q874.698 37.5017 876.48 37.5017 Q886.607 37.5017 892.522 43.0514 Q898.436 48.6011 898.436 58.0803 Q898.436 67.8429 892.36 73.2712 Q886.283 78.6589 875.224 78.6589 Q871.417 78.6589 867.447 78.0107 Q863.517 77.3626 859.304 76.0663 L859.304 67.8429 Q862.95 69.8279 866.839 70.8001 Q870.728 71.7723 875.062 71.7723 Q882.07 71.7723 886.162 68.086 Q890.253 64.3997 890.253 58.0803 Q890.253 51.7609 886.162 48.0745 Q882.07 44.3882 875.062 44.3882 Q871.781 44.3882 868.5 45.1174 Q865.259 45.8465 861.856 47.3859 L861.856 17.0041 Z\" fill=\"#000000\" fill-rule=\"nonzero\" fill-opacity=\"1\" /><path clip-path=\"url(#clip560)\" d=\"M937.041 24.1337 L916.382 56.4194 L937.041 56.4194 L937.041 24.1337 M934.894 17.0041 L945.184 17.0041 L945.184 56.4194 L953.812 56.4194 L953.812 63.2249 L945.184 63.2249 L945.184 77.4841 L937.041 77.4841 L937.041 63.2249 L909.738 63.2249 L909.738 55.3256 L934.894 17.0041 Z\" fill=\"#000000\" fill-rule=\"nonzero\" fill-opacity=\"1\" /><path clip-path=\"url(#clip560)\" d=\"M967.423 17.0041 L999.547 17.0041 L999.547 23.8906 L974.917 23.8906 L974.917 38.7169 Q976.7 38.1093 978.482 37.8257 Q980.264 37.5017 982.047 37.5017 Q992.174 37.5017 998.088 43.0514 Q1004 48.6011 1004 58.0803 Q1004 67.8429 997.926 73.2712 Q991.85 78.6589 980.791 78.6589 Q976.983 78.6589 973.013 78.0107 Q969.084 77.3626 964.871 76.0663 L964.871 67.8429 Q968.517 69.8279 972.406 70.8001 Q976.295 71.7723 980.629 71.7723 Q987.637 71.7723 991.728 68.086 Q995.82 64.3997 995.82 58.0803 Q995.82 51.7609 991.728 48.0745 Q987.637 44.3882 980.629 44.3882 Q977.348 44.3882 974.067 45.1174 Q970.826 45.8465 967.423 47.3859 L967.423 17.0041 Z\" fill=\"#000000\" fill-rule=\"nonzero\" fill-opacity=\"1\" /></svg>\n"
      ]
     },
     "execution_count": 25,
     "metadata": {},
     "output_type": "execute_result"
    }
   ],
   "source": [
    "plotmeasure(measuredqubits)"
   ]
  },
  {
   "cell_type": "markdown",
   "id": "1e5d4e7c",
   "metadata": {},
   "source": [
    "\n",
    "## Fourth Bell State\n",
    "\n",
    "## 1/sqrt(2) * ( |01⟩ - |10⟩ )"
   ]
  },
  {
   "cell_type": "markdown",
   "id": "aeb5b023",
   "metadata": {},
   "source": [
    "- Define the quantum circuit\n",
    "- Plot the circuit"
   ]
  },
  {
   "cell_type": "code",
   "execution_count": 27,
   "id": "500b845f",
   "metadata": {},
   "outputs": [
    {
     "data": {
      "image/svg+xml": [
       "<?xml version=\"1.0\" encoding=\"UTF-8\"?>\n",
       "<svg xmlns=\"http://www.w3.org/2000/svg\" xmlns:xlink=\"http://www.w3.org/1999/xlink\" width=\"204pt\" height=\"90pt\" viewBox=\"0 0 204 90\" version=\"1.1\">\n",
       "<defs>\n",
       "<g>\n",
       "<symbol overflow=\"visible\" id=\"glyph-3724770-0\">\n",
       "<path style=\"stroke:none;\" d=\"M 0.796875 2.828125 L 0.796875 -11.28125 L 8.796875 -11.28125 L 8.796875 2.828125 Z M 1.695312 1.9375 L 7.90625 1.9375 L 7.90625 -10.382812 L 1.695312 -10.382812 Z M 1.695312 1.9375 \"/>\n",
       "</symbol>\n",
       "<symbol overflow=\"visible\" id=\"glyph-3724770-1\">\n",
       "<path style=\"stroke:none;\" d=\"M 1.507812 -8.140625 C 1.285156 -8.152344 1.125 -8.199219 1.027344 -8.285156 C 0.929688 -8.371094 0.882812 -8.511719 0.882812 -8.703125 C 0.882812 -8.886719 0.929688 -9.023438 1.019531 -9.121094 C 1.109375 -9.21875 1.246094 -9.265625 1.421875 -9.265625 L 3.390625 -9.265625 C 3.582031 -9.265625 3.730469 -9.21875 3.832031 -9.121094 C 3.933594 -9.023438 3.984375 -8.886719 3.984375 -8.703125 C 3.984375 -8.527344 3.917969 -8.386719 3.789062 -8.289062 C 3.660156 -8.191406 3.480469 -8.140625 3.25 -8.140625 L 3.023438 -8.140625 L 4.796875 -5.632812 L 6.640625 -8.140625 L 6.398438 -8.140625 C 6.148438 -8.140625 5.953125 -8.191406 5.8125 -8.292969 C 5.671875 -8.394531 5.601562 -8.53125 5.601562 -8.703125 C 5.601562 -8.875 5.65625 -9.011719 5.765625 -9.113281 C 5.875 -9.214844 6.023438 -9.265625 6.210938 -9.265625 L 8.179688 -9.265625 C 8.355469 -9.265625 8.492188 -9.21875 8.582031 -9.121094 C 8.671875 -9.023438 8.71875 -8.886719 8.71875 -8.703125 C 8.71875 -8.503906 8.664062 -8.363281 8.558594 -8.273438 C 8.453125 -8.183594 8.277344 -8.140625 8.03125 -8.140625 L 5.539062 -4.765625 L 8.257812 -1.101562 C 8.488281 -1.085938 8.65625 -1.035156 8.765625 -0.945312 C 8.875 -0.855469 8.929688 -0.730469 8.929688 -0.5625 C 8.929688 -0.390625 8.878906 -0.253906 8.773438 -0.152344 C 8.667969 -0.0507812 8.527344 0 8.351562 0 L 6.257812 0 C 5.988281 0 5.804688 -0.0429688 5.710938 -0.125 C 5.617188 -0.207031 5.570312 -0.355469 5.570312 -0.5625 C 5.570312 -0.765625 5.628906 -0.90625 5.742188 -0.984375 C 5.855469 -1.0625 6.082031 -1.101562 6.414062 -1.101562 L 6.734375 -1.101562 L 4.734375 -3.859375 L 2.765625 -1.101562 L 3.117188 -1.101562 C 3.476562 -1.101562 3.71875 -1.0625 3.84375 -0.984375 C 3.96875 -0.90625 4.03125 -0.765625 4.03125 -0.5625 C 4.03125 -0.355469 3.980469 -0.207031 3.882812 -0.125 C 3.785156 -0.0429688 3.597656 0 3.328125 0 L 1.25 0 C 1.074219 0 0.933594 -0.0507812 0.828125 -0.152344 C 0.722656 -0.253906 0.671875 -0.390625 0.671875 -0.5625 C 0.671875 -0.738281 0.726562 -0.871094 0.835938 -0.960938 C 0.945312 -1.050781 1.121094 -1.097656 1.359375 -1.101562 L 4 -4.71875 Z M 1.507812 -8.140625 \"/>\n",
       "</symbol>\n",
       "<symbol overflow=\"visible\" id=\"glyph-3724770-2\">\n",
       "<path style=\"stroke:none;\" d=\"M 2.929688 -1.101562 L 3.453125 -1.101562 C 3.761719 -1.101562 3.976562 -1.058594 4.101562 -0.976562 C 4.226562 -0.894531 4.289062 -0.753906 4.289062 -0.5625 C 4.289062 -0.347656 4.234375 -0.203125 4.125 -0.121094 C 4.015625 -0.0390625 3.777344 0 3.40625 0 L 1.34375 0 C 1.152344 0 1.007812 -0.046875 0.910156 -0.140625 C 0.8125 -0.234375 0.765625 -0.375 0.765625 -0.5625 C 0.765625 -0.765625 0.820312 -0.90625 0.933594 -0.984375 C 1.046875 -1.0625 1.257812 -1.101562 1.570312 -1.101562 L 1.710938 -1.101562 L 1.710938 -8.140625 L 1.585938 -8.140625 C 1.273438 -8.140625 1.058594 -8.183594 0.941406 -8.265625 C 0.824219 -8.347656 0.765625 -8.496094 0.765625 -8.703125 C 0.765625 -8.894531 0.8125 -9.039062 0.910156 -9.128906 C 1.007812 -9.21875 1.15625 -9.265625 1.359375 -9.265625 L 3.328125 -9.265625 C 3.746094 -9.265625 4.007812 -9.226562 4.121094 -9.144531 C 4.234375 -9.0625 4.289062 -8.917969 4.289062 -8.703125 C 4.289062 -8.496094 4.21875 -8.347656 4.078125 -8.265625 C 3.9375 -8.183594 3.671875 -8.140625 3.28125 -8.140625 L 2.929688 -8.140625 L 2.929688 -5.421875 L 6.671875 -5.421875 L 6.671875 -8.140625 L 6.140625 -8.140625 C 5.84375 -8.140625 5.632812 -8.183594 5.503906 -8.273438 C 5.375 -8.363281 5.3125 -8.503906 5.3125 -8.703125 C 5.3125 -8.917969 5.371094 -9.0625 5.488281 -9.144531 C 5.605469 -9.226562 5.894531 -9.265625 6.351562 -9.265625 L 8.257812 -9.265625 C 8.445312 -9.265625 8.585938 -9.21875 8.683594 -9.125 C 8.78125 -9.03125 8.828125 -8.890625 8.828125 -8.703125 C 8.828125 -8.5 8.773438 -8.355469 8.664062 -8.269531 C 8.554688 -8.183594 8.359375 -8.140625 8.078125 -8.140625 L 7.890625 -8.140625 L 7.890625 -1.101562 L 8.015625 -1.101562 C 8.328125 -1.101562 8.542969 -1.0625 8.65625 -0.980469 C 8.769531 -0.898438 8.828125 -0.761719 8.828125 -0.5625 C 8.828125 -0.347656 8.773438 -0.203125 8.664062 -0.121094 C 8.554688 -0.0390625 8.300781 0 7.90625 0 L 6.289062 0 C 5.867188 0 5.597656 -0.0390625 5.484375 -0.121094 C 5.371094 -0.203125 5.3125 -0.347656 5.3125 -0.5625 C 5.3125 -0.765625 5.378906 -0.90625 5.515625 -0.984375 C 5.652344 -1.0625 5.910156 -1.101562 6.289062 -1.101562 L 6.671875 -1.101562 L 6.671875 -4.351562 L 2.929688 -4.351562 Z M 2.929688 -1.101562 \"/>\n",
       "</symbol>\n",
       "</g>\n",
       "</defs>\n",
       "<g id=\"surface26\">\n",
       "<path style=\"fill:none;stroke-width:1;stroke-linecap:butt;stroke-linejoin:miter;stroke:rgb(0%,0%,0%);stroke-opacity:1;stroke-miterlimit:10;\" d=\"M 39 34.5 L 39 10.5 L 63 10.5 L 63 34.5 Z M 39 34.5 \"/>\n",
       "<g style=\"fill:rgb(0%,0%,0%);fill-opacity:1;\">\n",
       "  <use xlink:href=\"#glyph-3724770-1\" x=\"46.199219\" y=\"27.132812\"/>\n",
       "</g>\n",
       "<path style=\"fill:none;stroke-width:1;stroke-linecap:butt;stroke-linejoin:miter;stroke:rgb(0%,0%,0%);stroke-opacity:1;stroke-miterlimit:10;\" d=\"M 25.5 22.5 L 39 22.5 \"/>\n",
       "<path style=\"fill:none;stroke-width:1;stroke-linecap:butt;stroke-linejoin:miter;stroke:rgb(0%,0%,0%);stroke-opacity:1;stroke-miterlimit:10;\" d=\"M 63 22.5 L 76.5 22.5 \"/>\n",
       "<path style=\"fill:none;stroke-width:1;stroke-linecap:butt;stroke-linejoin:miter;stroke:rgb(0%,0%,0%);stroke-opacity:1;stroke-miterlimit:10;\" d=\"M 90 34.5 L 90 10.5 L 114 10.5 L 114 34.5 Z M 90 34.5 \"/>\n",
       "<g style=\"fill:rgb(0%,0%,0%);fill-opacity:1;\">\n",
       "  <use xlink:href=\"#glyph-3724770-2\" x=\"97.199219\" y=\"27.132812\"/>\n",
       "</g>\n",
       "<path style=\"fill:none;stroke-width:1;stroke-linecap:butt;stroke-linejoin:miter;stroke:rgb(0%,0%,0%);stroke-opacity:1;stroke-miterlimit:10;\" d=\"M 76.5 22.5 L 90 22.5 \"/>\n",
       "<path style=\"fill:none;stroke-width:1;stroke-linecap:butt;stroke-linejoin:miter;stroke:rgb(0%,0%,0%);stroke-opacity:1;stroke-miterlimit:10;\" d=\"M 114 22.5 L 127.5 22.5 \"/>\n",
       "<path style=\"fill:none;stroke-width:1;stroke-linecap:butt;stroke-linejoin:miter;stroke:rgb(0%,0%,0%);stroke-opacity:1;stroke-miterlimit:10;\" d=\"M 39 79.5 L 39 55.5 L 63 55.5 L 63 79.5 Z M 39 79.5 \"/>\n",
       "<g style=\"fill:rgb(0%,0%,0%);fill-opacity:1;\">\n",
       "  <use xlink:href=\"#glyph-3724770-1\" x=\"46.199219\" y=\"72.132812\"/>\n",
       "</g>\n",
       "<path style=\"fill:none;stroke-width:1;stroke-linecap:butt;stroke-linejoin:miter;stroke:rgb(0%,0%,0%);stroke-opacity:1;stroke-miterlimit:10;\" d=\"M 25.5 67.5 L 39 67.5 \"/>\n",
       "<path style=\"fill:none;stroke-width:1;stroke-linecap:butt;stroke-linejoin:miter;stroke:rgb(0%,0%,0%);stroke-opacity:1;stroke-miterlimit:10;\" d=\"M 63 67.5 L 76.5 67.5 \"/>\n",
       "<path style=\" stroke:none;fill-rule:nonzero;fill:rgb(0%,0%,0%);fill-opacity:1;\" d=\"M 155.398438 22.5 C 155.398438 25.699219 150.601562 25.699219 150.601562 22.5 C 150.601562 19.300781 155.398438 19.300781 155.398438 22.5 \"/>\n",
       "<path style=\"fill:none;stroke-width:1;stroke-linecap:butt;stroke-linejoin:miter;stroke:rgb(0%,0%,0%);stroke-opacity:1;stroke-miterlimit:10;\" d=\"M 161.398438 67.5 C 161.398438 72.140625 157.640625 75.898438 153 75.898438 C 148.359375 75.898438 144.601562 72.140625 144.601562 67.5 C 144.601562 62.859375 148.359375 59.101562 153 59.101562 C 157.640625 59.101562 161.398438 62.859375 161.398438 67.5 \"/>\n",
       "<path style=\"fill:none;stroke-width:1;stroke-linecap:butt;stroke-linejoin:miter;stroke:rgb(0%,0%,0%);stroke-opacity:1;stroke-miterlimit:10;\" d=\"M 144.601562 67.5 L 161.398438 67.5 \"/>\n",
       "<path style=\"fill:none;stroke-width:1;stroke-linecap:butt;stroke-linejoin:miter;stroke:rgb(0%,0%,0%);stroke-opacity:1;stroke-miterlimit:10;\" d=\"M 153 59.101562 L 153 75.898438 \"/>\n",
       "<path style=\"fill:none;stroke-width:1;stroke-linecap:butt;stroke-linejoin:miter;stroke:rgb(0%,0%,0%);stroke-opacity:1;stroke-miterlimit:10;\" d=\"M 153 59.101562 L 153 24.898438 \"/>\n",
       "<path style=\"fill:none;stroke-width:1;stroke-linecap:butt;stroke-linejoin:miter;stroke:rgb(0%,0%,0%);stroke-opacity:1;stroke-miterlimit:10;\" d=\"M 127.5 22.5 L 150.601562 22.5 \"/>\n",
       "<path style=\"fill:none;stroke-width:1;stroke-linecap:butt;stroke-linejoin:miter;stroke:rgb(0%,0%,0%);stroke-opacity:1;stroke-miterlimit:10;\" d=\"M 155.398438 22.5 L 178.5 22.5 \"/>\n",
       "<path style=\"fill:none;stroke-width:1;stroke-linecap:butt;stroke-linejoin:miter;stroke:rgb(0%,0%,0%);stroke-opacity:1;stroke-miterlimit:10;\" d=\"M 76.5 67.5 L 144.601562 67.5 \"/>\n",
       "<path style=\"fill:none;stroke-width:1;stroke-linecap:butt;stroke-linejoin:miter;stroke:rgb(0%,0%,0%);stroke-opacity:1;stroke-miterlimit:10;\" d=\"M 161.398438 67.5 L 178.5 67.5 \"/>\n",
       "<path style=\"fill:none;stroke-width:1;stroke-linecap:butt;stroke-linejoin:miter;stroke:rgb(0%,0%,0%);stroke-opacity:1;stroke-miterlimit:10;\" d=\"M 178.5 22.5 L 178.5 22.5 \"/>\n",
       "<path style=\"fill:none;stroke-width:1;stroke-linecap:butt;stroke-linejoin:miter;stroke:rgb(0%,0%,0%);stroke-opacity:1;stroke-miterlimit:10;\" d=\"M 178.5 67.5 L 178.5 67.5 \"/>\n",
       "</g>\n",
       "</svg>\n"
      ],
      "text/plain": []
     },
     "execution_count": 27,
     "metadata": {},
     "output_type": "execute_result"
    }
   ],
   "source": [
    "begin\n",
    "\tbellcircuit = chain(2, put(1=>X),put(1=>H),put(2=>X), control(1, 2=>X))\n",
    "\tplot(bellcircuit)\n",
    "end"
   ]
  },
  {
   "cell_type": "markdown",
   "id": "21e29ff6",
   "metadata": {},
   "source": [
    "- Set up the two qubits to be sent into the circuit"
   ]
  },
  {
   "cell_type": "code",
   "execution_count": 28,
   "id": "9ba76eab",
   "metadata": {},
   "outputs": [
    {
     "data": {
      "text/plain": [
       "ArrayReg{2, ComplexF64, Array...}\n",
       "    active qubits: 2/2\n",
       "    nlevel: 2"
      ]
     },
     "execution_count": 28,
     "metadata": {},
     "output_type": "execute_result"
    }
   ],
   "source": [
    "q1 = ArrayReg(bit\"00\") #creating the system of two qubits with state |00>."
   ]
  },
  {
   "cell_type": "markdown",
   "id": "137da940",
   "metadata": {},
   "source": [
    "- View the state vector of the two qubits"
   ]
  },
  {
   "cell_type": "code",
   "execution_count": 29,
   "id": "42cc67ee",
   "metadata": {},
   "outputs": [
    {
     "data": {
      "text/plain": [
       "4×1 Matrix{ComplexF64}:\n",
       " 1.0 + 0.0im\n",
       " 0.0 + 0.0im\n",
       " 0.0 + 0.0im\n",
       " 0.0 + 0.0im"
      ]
     },
     "execution_count": 29,
     "metadata": {},
     "output_type": "execute_result"
    }
   ],
   "source": [
    "state(q1) #state of a qubit in vector form"
   ]
  },
  {
   "cell_type": "markdown",
   "id": "793d9908",
   "metadata": {},
   "source": [
    "- Send the qubits into the circuit"
   ]
  },
  {
   "cell_type": "code",
   "execution_count": 30,
   "id": "145d003f",
   "metadata": {},
   "outputs": [
    {
     "data": {
      "text/plain": [
       "ArrayReg{2, ComplexF64, Array...}\n",
       "    active qubits: 2/2\n",
       "    nlevel: 2"
      ]
     },
     "execution_count": 30,
     "metadata": {},
     "output_type": "execute_result"
    }
   ],
   "source": [
    "a = (q1 |> bellcircuit) #Passing the qubit q1 through the bell circuit"
   ]
  },
  {
   "cell_type": "markdown",
   "id": "e545d09c",
   "metadata": {},
   "source": [
    "- Now look at the resulting statevector"
   ]
  },
  {
   "cell_type": "code",
   "execution_count": 31,
   "id": "8ef00017",
   "metadata": {},
   "outputs": [
    {
     "data": {
      "text/plain": [
       "4×1 Matrix{ComplexF64}:\n",
       "                 0.0 + 0.0im\n",
       " -0.7071067811865475 + 0.0im\n",
       "  0.7071067811865475 + 0.0im\n",
       "                 0.0 + 0.0im"
      ]
     },
     "execution_count": 31,
     "metadata": {},
     "output_type": "execute_result"
    }
   ],
   "source": [
    "state(a)"
   ]
  },
  {
   "cell_type": "markdown",
   "id": "575acaef",
   "metadata": {},
   "source": [
    "- Meassure the state \"nshots\" times"
   ]
  },
  {
   "cell_type": "code",
   "execution_count": 32,
   "id": "e7ac9e14",
   "metadata": {
    "scrolled": true
   },
   "outputs": [
    {
     "data": {
      "text/plain": [
       "1024-element Vector{DitStr{2, 2, Int64}}:\n",
       " 10 ₍₂₎\n",
       " 10 ₍₂₎\n",
       " 10 ₍₂₎\n",
       " 01 ₍₂₎\n",
       " 10 ₍₂₎\n",
       " 01 ₍₂₎\n",
       " 10 ₍₂₎\n",
       " 01 ₍₂₎\n",
       " 01 ₍₂₎\n",
       " 01 ₍₂₎\n",
       " 10 ₍₂₎\n",
       " 01 ₍₂₎\n",
       " 10 ₍₂₎\n",
       "      ⋮\n",
       " 10 ₍₂₎\n",
       " 01 ₍₂₎\n",
       " 10 ₍₂₎\n",
       " 10 ₍₂₎\n",
       " 01 ₍₂₎\n",
       " 10 ₍₂₎\n",
       " 10 ₍₂₎\n",
       " 01 ₍₂₎\n",
       " 01 ₍₂₎\n",
       " 10 ₍₂₎\n",
       " 01 ₍₂₎\n",
       " 10 ₍₂₎"
      ]
     },
     "execution_count": 32,
     "metadata": {},
     "output_type": "execute_result"
    }
   ],
   "source": [
    "measuredqubits = a |> r->measure(r, nshots=1024)"
   ]
  },
  {
   "cell_type": "markdown",
   "id": "9244cb30",
   "metadata": {},
   "source": [
    "- Plot the resulting states"
   ]
  },
  {
   "cell_type": "code",
   "execution_count": 33,
   "id": "68180bd7",
   "metadata": {
    "scrolled": true
   },
   "outputs": [
    {
     "data": {
      "image/svg+xml": [
       "<?xml version=\"1.0\" encoding=\"utf-8\"?>\n",
       "<svg xmlns=\"http://www.w3.org/2000/svg\" xmlns:xlink=\"http://www.w3.org/1999/xlink\" width=\"300\" height=\"400\" viewBox=\"0 0 1200 1600\">\n",
       "<defs>\n",
       "  <clipPath id=\"clip590\">\n",
       "    <rect x=\"0\" y=\"0\" width=\"1200\" height=\"1600\"/>\n",
       "  </clipPath>\n",
       "</defs>\n",
       "<path clip-path=\"url(#clip590)\" d=\"M0 1600 L1200 1600 L1200 0 L0 0  Z\" fill=\"#ffffff\" fill-rule=\"evenodd\" fill-opacity=\"1\"/>\n",
       "<defs>\n",
       "  <clipPath id=\"clip591\">\n",
       "    <rect x=\"320\" y=\"160\" width=\"1121\" height=\"1121\"/>\n",
       "  </clipPath>\n",
       "</defs>\n",
       "<path clip-path=\"url(#clip590)\" d=\"M47.2441 1552.76 L1152.76 1552.76 L1152.76 47.2441 L47.2441 47.2441  Z\" fill=\"#ffffff\" fill-rule=\"evenodd\" fill-opacity=\"1\"/>\n",
       "<defs>\n",
       "  <clipPath id=\"clip592\">\n",
       "    <rect x=\"47\" y=\"47\" width=\"1107\" height=\"1507\"/>\n",
       "  </clipPath>\n",
       "</defs>\n",
       "<path clip-path=\"url(#clip592)\" d=\"M179.906 1549.88 L179.906 1549.88 L356.787 1549.88 L356.787 1549.88 L179.906 1549.88 L179.906 1549.88  Z\" fill=\"#add8e6\" fill-rule=\"evenodd\" fill-opacity=\"1\"/>\n",
       "<polyline clip-path=\"url(#clip592)\" style=\"stroke:#add8e6; stroke-linecap:round; stroke-linejoin:round; stroke-width:4; stroke-opacity:1; fill:none\" points=\"179.906,1549.88 179.906,1549.88 356.787,1549.88 179.906,1549.88 \"/>\n",
       "<path clip-path=\"url(#clip592)\" d=\"M401.008 47.2441 L401.008 1549.88 L577.89 1549.88 L577.89 47.2441 L401.008 47.2441 L401.008 47.2441  Z\" fill=\"#add8e6\" fill-rule=\"evenodd\" fill-opacity=\"1\"/>\n",
       "<polyline clip-path=\"url(#clip592)\" style=\"stroke:#add8e6; stroke-linecap:round; stroke-linejoin:round; stroke-width:4; stroke-opacity:1; fill:none\" points=\"401.008,47.2441 401.008,1549.88 577.89,1549.88 577.89,47.2441 401.008,47.2441 \"/>\n",
       "<path clip-path=\"url(#clip592)\" d=\"M622.11 104.816 L622.11 1549.88 L798.992 1549.88 L798.992 104.816 L622.11 104.816 L622.11 104.816  Z\" fill=\"#add8e6\" fill-rule=\"evenodd\" fill-opacity=\"1\"/>\n",
       "<polyline clip-path=\"url(#clip592)\" style=\"stroke:#add8e6; stroke-linecap:round; stroke-linejoin:round; stroke-width:4; stroke-opacity:1; fill:none\" points=\"622.11,104.816 622.11,1549.88 798.992,1549.88 798.992,104.816 622.11,104.816 \"/>\n",
       "<path clip-path=\"url(#clip592)\" d=\"M843.213 1549.88 L843.213 1549.88 L1020.09 1549.88 L1020.09 1549.88 L843.213 1549.88 L843.213 1549.88  Z\" fill=\"#add8e6\" fill-rule=\"evenodd\" fill-opacity=\"1\"/>\n",
       "<polyline clip-path=\"url(#clip592)\" style=\"stroke:#add8e6; stroke-linecap:round; stroke-linejoin:round; stroke-width:4; stroke-opacity:1; fill:none\" points=\"843.213,1549.88 843.213,1549.88 1020.09,1549.88 843.213,1549.88 \"/>\n",
       "<circle clip-path=\"url(#clip592)\" style=\"fill:#add8e6; stroke:none; fill-opacity:0\" cx=\"157.795\" cy=\"1549.88\" r=\"2\"/>\n",
       "<circle clip-path=\"url(#clip592)\" style=\"fill:#add8e6; stroke:none; fill-opacity:0\" cx=\"378.898\" cy=\"47.2441\" r=\"2\"/>\n",
       "<circle clip-path=\"url(#clip592)\" style=\"fill:#add8e6; stroke:none; fill-opacity:0\" cx=\"600\" cy=\"104.816\" r=\"2\"/>\n",
       "<circle clip-path=\"url(#clip592)\" style=\"fill:#add8e6; stroke:none; fill-opacity:0\" cx=\"821.102\" cy=\"1549.88\" r=\"2\"/>\n",
       "<circle clip-path=\"url(#clip592)\" style=\"fill:#add8e6; stroke:none; fill-opacity:0\" cx=\"1042.2\" cy=\"1549.88\" r=\"2\"/>\n",
       "<circle clip-path=\"url(#clip592)\" style=\"fill:#e26f46; stroke:none; fill-opacity:1\" cx=\"268.346\" cy=\"1547\" r=\"2\"/>\n",
       "<circle clip-path=\"url(#clip592)\" style=\"fill:#e26f46; stroke:none; fill-opacity:1\" cx=\"489.449\" cy=\"1547\" r=\"2\"/>\n",
       "<circle clip-path=\"url(#clip592)\" style=\"fill:#e26f46; stroke:none; fill-opacity:1\" cx=\"710.551\" cy=\"1547\" r=\"2\"/>\n",
       "<circle clip-path=\"url(#clip592)\" style=\"fill:#e26f46; stroke:none; fill-opacity:1\" cx=\"931.654\" cy=\"1547\" r=\"2\"/>\n",
       "<path clip-path=\"url(#clip590)\" d=\"M201.263 1513.84 L201.263 1596.8 L194.377 1596.8 L194.377 1513.84 L201.263 1513.84 Z\" fill=\"#000000\" fill-rule=\"nonzero\" fill-opacity=\"1\" /><path clip-path=\"url(#clip590)\" d=\"M238.167 1522.15 Q231.848 1522.15 228.648 1528.38 Q225.488 1534.58 225.488 1547.06 Q225.488 1559.5 228.648 1565.73 Q231.848 1571.93 238.167 1571.93 Q244.527 1571.93 247.687 1565.73 Q250.887 1559.5 250.887 1547.06 Q250.887 1534.58 247.687 1528.38 Q244.527 1522.15 238.167 1522.15 M238.167 1515.66 Q248.335 1515.66 253.682 1523.73 Q259.07 1531.75 259.07 1547.06 Q259.07 1562.33 253.682 1570.39 Q248.335 1578.41 238.167 1578.41 Q227.999 1578.41 222.612 1570.39 Q217.265 1562.33 217.265 1547.06 Q217.265 1531.75 222.612 1523.73 Q227.999 1515.66 238.167 1515.66 Z\" fill=\"#000000\" fill-rule=\"nonzero\" fill-opacity=\"1\" /><path clip-path=\"url(#clip590)\" d=\"M290.951 1522.15 Q284.631 1522.15 281.431 1528.38 Q278.271 1534.58 278.271 1547.06 Q278.271 1559.5 281.431 1565.73 Q284.631 1571.93 290.951 1571.93 Q297.31 1571.93 300.47 1565.73 Q303.67 1559.5 303.67 1547.06 Q303.67 1534.58 300.47 1528.38 Q297.31 1522.15 290.951 1522.15 M290.951 1515.66 Q301.118 1515.66 306.465 1523.73 Q311.853 1531.75 311.853 1547.06 Q311.853 1562.33 306.465 1570.39 Q301.118 1578.41 290.951 1578.41 Q280.783 1578.41 275.395 1570.39 Q270.048 1562.33 270.048 1547.06 Q270.048 1531.75 275.395 1523.73 Q280.783 1515.66 290.951 1515.66 Z\" fill=\"#000000\" fill-rule=\"nonzero\" fill-opacity=\"1\" /><path clip-path=\"url(#clip590)\" d=\"M342.316 1551.23 L330.892 1588.18 L324.006 1588.18 L335.429 1551.23 L324.006 1514.29 L330.892 1514.29 L342.316 1551.23 Z\" fill=\"#000000\" fill-rule=\"nonzero\" fill-opacity=\"1\" /><path clip-path=\"url(#clip590)\" d=\"M422.366 1513.84 L422.366 1596.8 L415.479 1596.8 L415.479 1513.84 L422.366 1513.84 Z\" fill=\"#000000\" fill-rule=\"nonzero\" fill-opacity=\"1\" /><path clip-path=\"url(#clip590)\" d=\"M459.27 1522.15 Q452.95 1522.15 449.75 1528.38 Q446.59 1534.58 446.59 1547.06 Q446.59 1559.5 449.75 1565.73 Q452.95 1571.93 459.27 1571.93 Q465.63 1571.93 468.789 1565.73 Q471.989 1559.5 471.989 1547.06 Q471.989 1534.58 468.789 1528.38 Q465.63 1522.15 459.27 1522.15 M459.27 1515.66 Q469.437 1515.66 474.785 1523.73 Q480.172 1531.75 480.172 1547.06 Q480.172 1562.33 474.785 1570.39 Q469.437 1578.41 459.27 1578.41 Q449.102 1578.41 443.714 1570.39 Q438.367 1562.33 438.367 1547.06 Q438.367 1531.75 443.714 1523.73 Q449.102 1515.66 459.27 1515.66 Z\" fill=\"#000000\" fill-rule=\"nonzero\" fill-opacity=\"1\" /><path clip-path=\"url(#clip590)\" d=\"M495.971 1570.35 L509.339 1570.35 L509.339 1524.21 L494.796 1527.13 L494.796 1519.68 L509.258 1516.76 L517.441 1516.76 L517.441 1570.35 L530.809 1570.35 L530.809 1577.24 L495.971 1577.24 L495.971 1570.35 Z\" fill=\"#000000\" fill-rule=\"nonzero\" fill-opacity=\"1\" /><path clip-path=\"url(#clip590)\" d=\"M563.418 1551.23 L551.995 1588.18 L545.108 1588.18 L556.532 1551.23 L545.108 1514.29 L551.995 1514.29 L563.418 1551.23 Z\" fill=\"#000000\" fill-rule=\"nonzero\" fill-opacity=\"1\" /><path clip-path=\"url(#clip590)\" d=\"M643.468 1513.84 L643.468 1596.8 L636.582 1596.8 L636.582 1513.84 L643.468 1513.84 Z\" fill=\"#000000\" fill-rule=\"nonzero\" fill-opacity=\"1\" /><path clip-path=\"url(#clip590)\" d=\"M664.29 1570.35 L677.658 1570.35 L677.658 1524.21 L663.115 1527.13 L663.115 1519.68 L677.577 1516.76 L685.76 1516.76 L685.76 1570.35 L699.128 1570.35 L699.128 1577.24 L664.29 1577.24 L664.29 1570.35 Z\" fill=\"#000000\" fill-rule=\"nonzero\" fill-opacity=\"1\" /><path clip-path=\"url(#clip590)\" d=\"M733.155 1522.15 Q726.836 1522.15 723.636 1528.38 Q720.476 1534.58 720.476 1547.06 Q720.476 1559.5 723.636 1565.73 Q726.836 1571.93 733.155 1571.93 Q739.515 1571.93 742.675 1565.73 Q745.875 1559.5 745.875 1547.06 Q745.875 1534.58 742.675 1528.38 Q739.515 1522.15 733.155 1522.15 M733.155 1515.66 Q743.323 1515.66 748.67 1523.73 Q754.058 1531.75 754.058 1547.06 Q754.058 1562.33 748.67 1570.39 Q743.323 1578.41 733.155 1578.41 Q722.987 1578.41 717.6 1570.39 Q712.253 1562.33 712.253 1547.06 Q712.253 1531.75 717.6 1523.73 Q722.987 1515.66 733.155 1515.66 Z\" fill=\"#000000\" fill-rule=\"nonzero\" fill-opacity=\"1\" /><path clip-path=\"url(#clip590)\" d=\"M784.521 1551.23 L773.097 1588.18 L766.211 1588.18 L777.634 1551.23 L766.211 1514.29 L773.097 1514.29 L784.521 1551.23 Z\" fill=\"#000000\" fill-rule=\"nonzero\" fill-opacity=\"1\" /><path clip-path=\"url(#clip590)\" d=\"M864.571 1513.84 L864.571 1596.8 L857.684 1596.8 L857.684 1513.84 L864.571 1513.84 Z\" fill=\"#000000\" fill-rule=\"nonzero\" fill-opacity=\"1\" /><path clip-path=\"url(#clip590)\" d=\"M885.392 1570.35 L898.76 1570.35 L898.76 1524.21 L884.217 1527.13 L884.217 1519.68 L898.679 1516.76 L906.862 1516.76 L906.862 1570.35 L920.23 1570.35 L920.23 1577.24 L885.392 1577.24 L885.392 1570.35 Z\" fill=\"#000000\" fill-rule=\"nonzero\" fill-opacity=\"1\" /><path clip-path=\"url(#clip590)\" d=\"M938.175 1570.35 L951.543 1570.35 L951.543 1524.21 L937.001 1527.13 L937.001 1519.68 L951.462 1516.76 L959.645 1516.76 L959.645 1570.35 L973.013 1570.35 L973.013 1577.24 L938.175 1577.24 L938.175 1570.35 Z\" fill=\"#000000\" fill-rule=\"nonzero\" fill-opacity=\"1\" /><path clip-path=\"url(#clip590)\" d=\"M1005.62 1551.23 L994.2 1588.18 L987.313 1588.18 L998.737 1551.23 L987.313 1514.29 L994.2 1514.29 L1005.62 1551.23 Z\" fill=\"#000000\" fill-rule=\"nonzero\" fill-opacity=\"1\" /><circle clip-path=\"url(#clip592)\" style=\"fill:#3da44d; stroke:none; fill-opacity:1\" cx=\"268.346\" cy=\"47.2441\" r=\"2\"/>\n",
       "<circle clip-path=\"url(#clip592)\" style=\"fill:#3da44d; stroke:none; fill-opacity:1\" cx=\"489.449\" cy=\"47.2441\" r=\"2\"/>\n",
       "<circle clip-path=\"url(#clip592)\" style=\"fill:#3da44d; stroke:none; fill-opacity:1\" cx=\"710.551\" cy=\"47.2441\" r=\"2\"/>\n",
       "<circle clip-path=\"url(#clip592)\" style=\"fill:#3da44d; stroke:none; fill-opacity:1\" cx=\"931.654\" cy=\"47.2441\" r=\"2\"/>\n",
       "<path clip-path=\"url(#clip590)\" d=\"M268.346 22.3918 Q262.027 22.3918 258.827 28.6302 Q255.667 34.8281 255.667 47.3049 Q255.667 59.7411 258.827 65.9795 Q262.027 72.1774 268.346 72.1774 Q274.706 72.1774 277.866 65.9795 Q281.066 59.7411 281.066 47.3049 Q281.066 34.8281 277.866 28.6302 Q274.706 22.3918 268.346 22.3918 M268.346 15.9104 Q278.514 15.9104 283.861 23.9716 Q289.249 31.9924 289.249 47.3049 Q289.249 62.5768 283.861 70.6381 Q278.514 78.6589 268.346 78.6589 Q258.179 78.6589 252.791 70.6381 Q247.444 62.5768 247.444 47.3049 Q247.444 31.9924 252.791 23.9716 Q258.179 15.9104 268.346 15.9104 Z\" fill=\"#000000\" fill-rule=\"nonzero\" fill-opacity=\"1\" /><path clip-path=\"url(#clip590)\" d=\"M420.178 17.0041 L452.302 17.0041 L452.302 23.8906 L427.673 23.8906 L427.673 38.7169 Q429.455 38.1093 431.237 37.8257 Q433.02 37.5017 434.802 37.5017 Q444.929 37.5017 450.844 43.0514 Q456.758 48.6011 456.758 58.0803 Q456.758 67.8429 450.682 73.2712 Q444.605 78.6589 433.546 78.6589 Q429.738 78.6589 425.769 78.0107 Q421.839 77.3626 417.626 76.0663 L417.626 67.8429 Q421.272 69.8279 425.161 70.8001 Q429.05 71.7723 433.384 71.7723 Q440.392 71.7723 444.484 68.086 Q448.575 64.3997 448.575 58.0803 Q448.575 51.7609 444.484 48.0745 Q440.392 44.3882 433.384 44.3882 Q430.103 44.3882 426.822 45.1174 Q423.581 45.8465 420.178 47.3859 L420.178 17.0041 Z\" fill=\"#000000\" fill-rule=\"nonzero\" fill-opacity=\"1\" /><path clip-path=\"url(#clip590)\" d=\"M479.929 70.5976 L508.488 70.5976 L508.488 77.4841 L470.085 77.4841 L470.085 70.5976 Q474.744 65.777 482.765 57.6752 Q490.826 49.5329 492.892 47.1833 Q496.821 42.7678 498.361 39.7297 Q499.941 36.651 499.941 33.6938 Q499.941 28.8732 496.538 25.8351 Q493.176 22.7969 487.747 22.7969 Q483.899 22.7969 479.605 24.1337 Q475.352 25.4705 470.491 28.1846 L470.491 19.9207 Q475.433 17.9358 479.727 16.9231 Q484.021 15.9104 487.585 15.9104 Q496.984 15.9104 502.574 20.6094 Q508.164 25.3084 508.164 33.1672 Q508.164 36.894 506.746 40.2563 Q505.369 43.578 501.683 48.115 Q500.67 49.2898 495.242 54.9206 Q489.813 60.5108 479.929 70.5976 Z\" fill=\"#000000\" fill-rule=\"nonzero\" fill-opacity=\"1\" /><path clip-path=\"url(#clip590)\" d=\"M532.712 70.5976 L561.271 70.5976 L561.271 77.4841 L522.869 77.4841 L522.869 70.5976 Q527.527 65.777 535.548 57.6752 Q543.609 49.5329 545.675 47.1833 Q549.605 42.7678 551.144 39.7297 Q552.724 36.651 552.724 33.6938 Q552.724 28.8732 549.321 25.8351 Q545.959 22.7969 540.531 22.7969 Q536.682 22.7969 532.388 24.1337 Q528.135 25.4705 523.274 28.1846 L523.274 19.9207 Q528.216 17.9358 532.51 16.9231 Q536.804 15.9104 540.369 15.9104 Q549.767 15.9104 555.357 20.6094 Q560.947 25.3084 560.947 33.1672 Q560.947 36.894 559.529 40.2563 Q558.152 43.578 554.466 48.115 Q553.453 49.2898 548.025 54.9206 Q542.597 60.5108 532.712 70.5976 Z\" fill=\"#000000\" fill-rule=\"nonzero\" fill-opacity=\"1\" /><path clip-path=\"url(#clip590)\" d=\"M641.281 17.0041 L673.404 17.0041 L673.404 23.8906 L648.775 23.8906 L648.775 38.7169 Q650.557 38.1093 652.34 37.8257 Q654.122 37.5017 655.904 37.5017 Q666.032 37.5017 671.946 43.0514 Q677.86 48.6011 677.86 58.0803 Q677.86 67.8429 671.784 73.2712 Q665.708 78.6589 654.649 78.6589 Q650.841 78.6589 646.871 78.0107 Q642.942 77.3626 638.729 76.0663 L638.729 67.8429 Q642.374 69.8279 646.263 70.8001 Q650.152 71.7723 654.487 71.7723 Q661.495 71.7723 665.586 68.086 Q669.678 64.3997 669.678 58.0803 Q669.678 51.7609 665.586 48.0745 Q661.495 44.3882 654.487 44.3882 Q651.205 44.3882 647.924 45.1174 Q644.683 45.8465 641.281 47.3859 L641.281 17.0041 Z\" fill=\"#000000\" fill-rule=\"nonzero\" fill-opacity=\"1\" /><path clip-path=\"url(#clip590)\" d=\"M711.483 22.3918 Q705.163 22.3918 701.963 28.6302 Q698.804 34.8281 698.804 47.3049 Q698.804 59.7411 701.963 65.9795 Q705.163 72.1774 711.483 72.1774 Q717.843 72.1774 721.003 65.9795 Q724.203 59.7411 724.203 47.3049 Q724.203 34.8281 721.003 28.6302 Q717.843 22.3918 711.483 22.3918 M711.483 15.9104 Q721.651 15.9104 726.998 23.9716 Q732.386 31.9924 732.386 47.3049 Q732.386 62.5768 726.998 70.6381 Q721.651 78.6589 711.483 78.6589 Q701.315 78.6589 695.927 70.6381 Q690.58 62.5768 690.58 47.3049 Q690.58 31.9924 695.927 23.9716 Q701.315 15.9104 711.483 15.9104 Z\" fill=\"#000000\" fill-rule=\"nonzero\" fill-opacity=\"1\" /><path clip-path=\"url(#clip590)\" d=\"M753.815 70.5976 L782.374 70.5976 L782.374 77.4841 L743.971 77.4841 L743.971 70.5976 Q748.63 65.777 756.65 57.6752 Q764.712 49.5329 766.778 47.1833 Q770.707 42.7678 772.246 39.7297 Q773.826 36.651 773.826 33.6938 Q773.826 28.8732 770.424 25.8351 Q767.061 22.7969 761.633 22.7969 Q757.785 22.7969 753.491 24.1337 Q749.237 25.4705 744.376 28.1846 L744.376 19.9207 Q749.318 17.9358 753.612 16.9231 Q757.906 15.9104 761.471 15.9104 Q770.869 15.9104 776.459 20.6094 Q782.05 25.3084 782.05 33.1672 Q782.05 36.894 780.632 40.2563 Q779.255 43.578 775.568 48.115 Q774.555 49.2898 769.127 54.9206 Q763.699 60.5108 753.815 70.5976 Z\" fill=\"#000000\" fill-rule=\"nonzero\" fill-opacity=\"1\" /><path clip-path=\"url(#clip590)\" d=\"M931.654 22.3918 Q925.334 22.3918 922.134 28.6302 Q918.974 34.8281 918.974 47.3049 Q918.974 59.7411 922.134 65.9795 Q925.334 72.1774 931.654 72.1774 Q938.013 72.1774 941.173 65.9795 Q944.373 59.7411 944.373 47.3049 Q944.373 34.8281 941.173 28.6302 Q938.013 22.3918 931.654 22.3918 M931.654 15.9104 Q941.821 15.9104 947.169 23.9716 Q952.556 31.9924 952.556 47.3049 Q952.556 62.5768 947.169 70.6381 Q941.821 78.6589 931.654 78.6589 Q921.486 78.6589 916.098 70.6381 Q910.751 62.5768 910.751 47.3049 Q910.751 31.9924 916.098 23.9716 Q921.486 15.9104 931.654 15.9104 Z\" fill=\"#000000\" fill-rule=\"nonzero\" fill-opacity=\"1\" /></svg>\n"
      ]
     },
     "execution_count": 33,
     "metadata": {},
     "output_type": "execute_result"
    }
   ],
   "source": [
    "plotmeasure(measuredqubits)"
   ]
  }
 ],
 "metadata": {
  "kernelspec": {
   "display_name": "Julia 1.8.0",
   "language": "julia",
   "name": "julia-1.8"
  },
  "language_info": {
   "file_extension": ".jl",
   "mimetype": "application/julia",
   "name": "julia",
   "version": "1.8.0"
  }
 },
 "nbformat": 4,
 "nbformat_minor": 5
}
