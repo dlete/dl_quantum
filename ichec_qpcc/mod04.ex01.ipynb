{
 "cells": [
  {
   "cell_type": "code",
   "execution_count": 18,
   "metadata": {},
   "outputs": [
    {
     "name": "stdout",
     "output_type": "stream",
     "text": [
      "          ┌───┐     ┌─┐   \n",
      "q_0: ─|0>─┤ H ├──■──┤M├───\n",
      "          └───┘┌─┴─┐└╥┘┌─┐\n",
      "q_1: ─|0>──────┤ X ├─╫─┤M├\n",
      "               └───┘ ║ └╥┘\n",
      "c: 2/════════════════╩══╩═\n",
      "                     0  1 \n",
      "Traceback \u001b[1;36m(most recent call last)\u001b[0m:\n",
      "\u001b[0m  Cell \u001b[0;32mIn[18], line 41\u001b[0m\n",
      "    counts = backend.run(qobj).result().get_counts()  # Do the simulation, returning the state vector\u001b[0m\n",
      "\u001b[0m  File \u001b[0;32m/opt/conda/lib/python3.10/site-packages/qiskit_ibm_provider/ibm_backend.py:473\u001b[0m in \u001b[0;35mrun\u001b[0m\n",
      "    return self._runtime_run(\u001b[0m\n",
      "\u001b[0m  File \u001b[0;32m/opt/conda/lib/python3.10/site-packages/qiskit_ibm_provider/ibm_backend.py:490\u001b[0m in \u001b[0;35m_runtime_run\u001b[0m\n",
      "    response = self.provider._runtime_client.program_run(\u001b[0m\n",
      "\u001b[0m  File \u001b[0;32m/opt/conda/lib/python3.10/site-packages/qiskit_ibm_provider/api/clients/runtime.py:137\u001b[0m in \u001b[0;35mprogram_run\u001b[0m\n",
      "    return self._api.program_run(\u001b[0m\n",
      "\u001b[0m  File \u001b[0;32m/opt/conda/lib/python3.10/site-packages/qiskit_ibm_provider/api/rest/runtime.py:116\u001b[0m in \u001b[0;35mprogram_run\u001b[0m\n",
      "    data = json.dumps(payload, cls=RuntimeEncoder)\u001b[0m\n",
      "\u001b[0m  File \u001b[0;32m/opt/conda/lib/python3.10/json/__init__.py:238\u001b[0m in \u001b[0;35mdumps\u001b[0m\n",
      "    **kw).encode(obj)\u001b[0m\n",
      "\u001b[0m  File \u001b[0;32m/opt/conda/lib/python3.10/json/encoder.py:199\u001b[0m in \u001b[0;35mencode\u001b[0m\n",
      "    chunks = self.iterencode(o, _one_shot=True)\u001b[0m\n",
      "\u001b[0m  File \u001b[0;32m/opt/conda/lib/python3.10/json/encoder.py:257\u001b[0m in \u001b[0;35miterencode\u001b[0m\n",
      "    return _iterencode(o, 0)\u001b[0m\n",
      "\u001b[0m  File \u001b[0;32m/opt/conda/lib/python3.10/site-packages/qiskit_ibm_provider/utils/json.py:261\u001b[0m in \u001b[0;35mdefault\u001b[0m\n",
      "    return super().default(obj)\u001b[0m\n",
      "\u001b[1;36m  File \u001b[1;32m/opt/conda/lib/python3.10/json/encoder.py:179\u001b[1;36m in \u001b[1;35mdefault\u001b[1;36m\n",
      "\u001b[1;33m    raise TypeError(f'Object of type {o.__class__.__name__} '\u001b[1;36m\n",
      "\u001b[1;31mTypeError\u001b[0m\u001b[1;31m:\u001b[0m Object of type QasmQobj is not JSON serializable\n",
      "\n",
      "Use %tb to get the full traceback.\n"
     ]
    },
    {
     "data": {
      "text/html": [
       "\n",
       "<style>\n",
       ".button {\n",
       "  border: none;\n",
       "  color: white;\n",
       "  padding: 4px 8px;\n",
       "  text-align: center;\n",
       "  text-decoration: none;\n",
       "  display: inline-block;\n",
       "  font-size: 12px;\n",
       "  margin: 4px 2px;\n",
       "  transition-duration: 0.2s;\n",
       "  cursor: pointer;\n",
       "}\n",
       ".iqx-button {\n",
       "  background-color: #0f62fe; \n",
       "  color: white; \n",
       "}\n",
       ".iqx-button:hover {\n",
       "  background-color: #0043ce;\n",
       "  color: white;\n",
       "}\n",
       "</style>\n",
       "<a href=\"https://stackoverflow.com/search?q=TypeError: Object of type QasmQobj is not JSON serializable\" target='_blank'><button class='button iqx-button'>Search for solution online</button></a>\n"
      ],
      "text/plain": [
       "<IPython.core.display.HTML object>"
      ]
     },
     "metadata": {},
     "output_type": "display_data"
    }
   ],
   "source": [
    "from ibm_quantum_widgets import CircuitComposer\n",
    "from qiskit import QuantumRegister, ClassicalRegister, QuantumCircuit\n",
    "from numpy import pi\n",
    "\n",
    "from qiskit_ibm_provider import IBMProvider\n",
    "provider = IBMProvider(token='b326ce3172a0cb75842509bd88ef2e4180056230553f8320952394a59c6e7f8d9289807b4198534c928f98a457155ad53bce14fcabc75e3518501c26ccfc190a')\n",
    "#provider = IBMProvider()\n",
    "# display current supported backends\n",
    "#print(provider.backends())\n",
    "# get IBM's simulator backend\n",
    "backend = provider.get_backend('ibmq_qasm_simulator')\n",
    "\n",
    "\n",
    "qreg_q = QuantumRegister(2, 'q')\n",
    "creg_c = ClassicalRegister(2, 'c')\n",
    "circuit = QuantumCircuit(qreg_q, creg_c)\n",
    "\n",
    "circuit.reset(qreg_q[0])\n",
    "circuit.reset(qreg_q[1])\n",
    "circuit.h(qreg_q[0])\n",
    "circuit.cx(qreg_q[0], qreg_q[1])\n",
    "circuit.measure(qreg_q,creg_c)\n",
    "\n",
    "print(circuit)\n",
    "\n",
    "#from qiskit.tools.monitor import job_monitor\n",
    "#from qiskit import execute\n",
    "#job = execute(circuit, backend, shots=8192)\n",
    "#job_monitor(job)\n",
    "#counts = job.result().get_counts()\n",
    "#print(counts)\n",
    "\n",
    "#from qiskit import QuantumCircuit, assemble, Aer\n",
    "#from math import pi, sqrt\n",
    "#from qiskit.visualization import plot_bloch_multivector, plot_histogram\n",
    "#sim = Aer.get_backend('aer_simulator')\n",
    "from qiskit import assemble\n",
    "#sim = Aer.get_backend('aer_simulator')\n",
    "qobj = assemble(circuit)  # Assemble circuit into a Qobj that can be run\n",
    "#counts = sim.run(qobj).result().get_counts()  # Do the simulation, returning the state vector\n",
    "counts = backend.run(qobj).result().get_counts()  # Do the simulation, returning the state vector\n",
    "plot_histogram(counts)  # Display the output on measurement of state vector\n",
    "\n",
    "#editor = CircuitComposer(circuit=circuit)\n",
    "#editor"
   ]
  }
 ],
 "metadata": {
  "kernelspec": {
   "display_name": "Python 3 (ipykernel)",
   "language": "python",
   "name": "python3"
  },
  "language_info": {
   "codemirror_mode": {
    "name": "ipython",
    "version": 3
   },
   "file_extension": ".py",
   "mimetype": "text/x-python",
   "name": "python",
   "nbconvert_exporter": "python",
   "pygments_lexer": "ipython3",
   "version": "3.10.8"
  },
  "widgets": {
   "application/vnd.jupyter.widget-state+json": {
    "state": {
     "0d95936bdaea4628acc5dca5f4a4ce44": {
      "model_module": "@jupyter-widgets/base",
      "model_module_version": "2.0.0",
      "model_name": "LayoutModel",
      "state": {}
     },
     "1e8f007dc048414c9a41023336efbff0": {
      "model_module": "@jupyter-widgets/base",
      "model_module_version": "2.0.0",
      "model_name": "LayoutModel",
      "state": {}
     },
     "416f58ef27024f649bd54ea2aa811d32": {
      "model_module": "@quantum/lab-widgets",
      "model_module_version": "4.0.17",
      "model_name": "CircuitComposerModel",
      "state": {
       "circuit": "\"OPENQASM 2.0;\\ninclude \\\"qelib1.inc\\\";\\nqreg q[2];\\ncreg c[2];\\nreset q[0]\\nreset q[1]\\nh q[0];\\ncx q[0],q[1];\\n\"",
       "editable": true,
       "layout": "IPY_MODEL_1e8f007dc048414c9a41023336efbff0",
       "qiskit_code_cell_index": -1
      }
     },
     "7ff23f08516d4491b5bde15be148b7b9": {
      "model_module": "@jupyter-widgets/base",
      "model_module_version": "2.0.0",
      "model_name": "LayoutModel",
      "state": {}
     },
     "9c9753ed9b6748b4b4eebeed427ab3dd": {
      "model_module": "@quantum/lab-widgets",
      "model_module_version": "4.0.17",
      "model_name": "CircuitComposerModel",
      "state": {
       "circuit": "\"OPENQASM 2.0;\\ninclude \\\"qelib1.inc\\\";\\nqreg q[2];\\ncreg c[2];\\nreset q[0]\\nreset q[1]\\nh q[0];\\ncx q[0],q[1];\\n\"",
       "editable": true,
       "layout": "IPY_MODEL_0d95936bdaea4628acc5dca5f4a4ce44",
       "qiskit_code_cell_index": -1
      }
     },
     "b8677467b14e4afe82a3da9bbbf05855": {
      "model_module": "@quantum/lab-widgets",
      "model_module_version": "4.0.17",
      "model_name": "CircuitComposerModel",
      "state": {
       "circuit": "\"OPENQASM 2.0;\\ninclude \\\"qelib1.inc\\\";\\nqreg q[2];\\ncreg c[2];\\nreset q[0]\\nreset q[1]\\nh q[0];\\ncx q[0],q[1];\\n\"",
       "editable": true,
       "layout": "IPY_MODEL_7ff23f08516d4491b5bde15be148b7b9",
       "qiskit_code_cell_index": -1
      }
     }
    },
    "version_major": 2,
    "version_minor": 0
   }
  }
 },
 "nbformat": 4,
 "nbformat_minor": 4
}
